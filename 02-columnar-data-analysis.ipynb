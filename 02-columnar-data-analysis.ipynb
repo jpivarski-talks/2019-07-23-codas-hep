{
 "cells": [
  {
   "cell_type": "markdown",
   "metadata": {},
   "source": [
    "<br><br><br><br><br>\n",
    "\n",
    "# Columnar data analysis\n",
    "\n",
    "<br><br><br><br><br>"
   ]
  },
  {
   "cell_type": "markdown",
   "metadata": {},
   "source": [
    "<br><br><br><br>\n",
    "\n",
    "<p style=\"font-size: 1.25em\">Array programming is a programming language paradigm like Object-Oriented Programming (OOP) and Functional Programming (FP).</p>\n",
    "\n",
    "<br>\n",
    "\n",
    "<p style=\"font-size: 1.25em\">As physicists, we are mostly familiar with <i>imperative, procedural, structured, object-oriented programming</i> (see <a href=\"https://en.wikipedia.org/wiki/Comparison_of_programming_paradigms#Main_paradigm_approaches\">this list</a>).</p>\n",
    "\n",
    "<br><br><br><br>"
   ]
  },
  {
   "cell_type": "code",
   "execution_count": 12,
   "metadata": {},
   "outputs": [
    {
     "data": {
      "text/html": [
       "\n",
       "        <iframe\n",
       "            width=\"100%\"\n",
       "            height=\"440\"\n",
       "            src=\"http://zoom.it/6rJp\"\n",
       "            frameborder=\"0\"\n",
       "            allowfullscreen\n",
       "        ></iframe>\n",
       "        "
      ],
      "text/plain": [
       "<IPython.lib.display.IFrame at 0x7c4d191ce828>"
      ]
     },
     "execution_count": 12,
     "metadata": {},
     "output_type": "execute_result"
    }
   ],
   "source": [
    "from IPython.display import IFrame    \n",
    "IFrame(\"http://zoom.it/6rJp\", width=\"100%\", height=\"440\")"
   ]
  },
  {
   "cell_type": "markdown",
   "metadata": {},
   "source": [
    "<br>\n",
    "\n",
    "<p style=\"font-size: 1.25em\">Array programming is common to languages and systems designed for interactive data analysis.</p>\n",
    "\n",
    "<img src=\"img/apl-timeline.png\" width=\"100%\">\n",
    "\n",
    "<br>"
   ]
  },
  {
   "cell_type": "markdown",
   "metadata": {},
   "source": [
    "<br><br>\n",
    "\n",
    "<table align=\"left\" width=\"32%\" style=\"margin-right: 50px\">\n",
    "<tr style=\"background: white\"><td align=\"center\"><img src=\"img/tshirt.jpg\" width=\"50%\"></td></tr>\n",
    "<tr style=\"background: white\"><td><img src=\"img/apl-keyboard.jpg\" width=\"100%\"></td></tr>\n",
    "</table>\n",
    "\n",
    "<br>\n",
    "\n",
    "<p style=\"font-size: 1.25em\">APL (1963) pioneered conciseness in programming languages—discovered the mistake of being too concise.</p>\n",
    "\n",
    "| APL | <br> | Numpy |\n",
    "|:---:|:----:|:-----:|\n",
    "| <tt>ι4</tt> | <br> | <tt>numpy.arange(4)</tt> |\n",
    "| <tt>(3+ι4)</tt> | <br> | <tt>numpy.arange(4) + 3</tt> |\n",
    "| <tt>+/(3+ι4)</tt> | <br> | <tt>(numpy.arange(4) + 3).sum()</tt> |\n",
    "| <tt>m ← +/(3+ι4)</tt> | <br> | <tt>m = (numpy.arange(4) + 3).sum()</tt> |\n",
    "\n",
    "(The other extreme is writing a for loop for each of the above.)\n",
    "\n",
    "<br><br>"
   ]
  }
 ],
 "metadata": {
  "kernelspec": {
   "display_name": "Python 3",
   "language": "python",
   "name": "python3"
  },
  "language_info": {
   "codemirror_mode": {
    "name": "ipython",
    "version": 3
   },
   "file_extension": ".py",
   "mimetype": "text/x-python",
   "name": "python",
   "nbconvert_exporter": "python",
   "pygments_lexer": "ipython3",
   "version": "3.7.3"
  }
 },
 "nbformat": 4,
 "nbformat_minor": 4
}
