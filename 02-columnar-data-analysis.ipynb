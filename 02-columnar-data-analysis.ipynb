{
 "cells": [
  {
   "cell_type": "markdown",
   "metadata": {},
   "source": [
    "<br><br><br><br><br>\n",
    "\n",
    "# Columnar data analysis\n",
    "\n",
    "<br><br><br><br><br>"
   ]
  },
  {
   "cell_type": "markdown",
   "metadata": {},
   "source": [
    "<br><br><br><br>\n",
    "\n",
    "<p style=\"font-size: 1.25em\">Array programming is a programming language paradigm like Object-Oriented Programming (OOP) and Functional Programming (FP).</p>\n",
    "\n",
    "<br>\n",
    "\n",
    "<p style=\"font-size: 1.25em\">As physicists, we are mostly familiar with <i>imperative, procedural, structured, object-oriented programming</i> (see <a href=\"https://en.wikipedia.org/wiki/Comparison_of_programming_paradigms#Main_paradigm_approaches\">this list</a>).</p>\n",
    "\n",
    "<br><br><br><br>"
   ]
  },
  {
   "cell_type": "code",
   "execution_count": 12,
   "metadata": {},
   "outputs": [
    {
     "data": {
      "text/html": [
       "\n",
       "        <iframe\n",
       "            width=\"100%\"\n",
       "            height=\"440\"\n",
       "            src=\"http://zoom.it/6rJp\"\n",
       "            frameborder=\"0\"\n",
       "            allowfullscreen\n",
       "        ></iframe>\n",
       "        "
      ],
      "text/plain": [
       "<IPython.lib.display.IFrame at 0x7c4d191ce828>"
      ]
     },
     "execution_count": 12,
     "metadata": {},
     "output_type": "execute_result"
    }
   ],
   "source": [
    "from IPython.display import IFrame    \n",
    "IFrame(\"http://zoom.it/6rJp\", width=\"100%\", height=\"440\")"
   ]
  },
  {
   "cell_type": "markdown",
   "metadata": {},
   "source": [
    "<br>\n",
    "\n",
    "<p style=\"font-size: 1.25em\">Array programming is common to languages and systems designed for interactive data analysis.</p>\n",
    "\n",
    "<img src=\"img/apl-timeline.png\" width=\"100%\">\n",
    "\n",
    "<br>"
   ]
  },
  {
   "cell_type": "markdown",
   "metadata": {},
   "source": [
    "<br><br>\n",
    "\n",
    "<table align=\"left\" width=\"32%\" style=\"margin-right: 50px\">\n",
    "<tr style=\"background: white\"><td align=\"center\"><img src=\"img/tshirt.jpg\" width=\"50%\"></td></tr>\n",
    "<tr style=\"background: white\"><td><img src=\"img/apl-keyboard.jpg\" width=\"100%\"></td></tr>\n",
    "</table>\n",
    "\n",
    "<br>\n",
    "\n",
    "<p style=\"font-size: 1.25em\">APL (1963) pioneered conciseness in programming languages—discovered the mistake of being too concise.</p>\n",
    "\n",
    "| APL | <br> | Numpy |\n",
    "|:---:|:----:|:-----:|\n",
    "| <tt>ι4</tt> | <br> | <tt>numpy.arange(4)</tt> |\n",
    "| <tt>(3+ι4)</tt> | <br> | <tt>numpy.arange(4) + 3</tt> |\n",
    "| <tt>+/(3+ι4)</tt> | <br> | <tt>(numpy.arange(4) + 3).sum()</tt> |\n",
    "| <tt>m ← +/(3+ι4)</tt> | <br> | <tt>m = (numpy.arange(4) + 3).sum()</tt> |\n",
    "\n",
    "(The other extreme is writing a for loop for each of the above.)\n",
    "\n",
    "<br><br>"
   ]
  },
  {
   "cell_type": "markdown",
   "metadata": {},
   "source": [
    "<br><br><br><br>\n",
    "\n",
    "<p style=\"font-size: 1.25em\">The fundamental data type in this world is an array. (Some array languages don't have non-arrays.)</p>\n",
    "\n",
    "<br>\n",
    "\n",
    "<p style=\"font-size: 1.25em\">Unlike the others (APL, IDL, MATLAB, R), Numpy is a library, not a language, though it goes all the way back to the beginning of Python (1995) and significantly influenced Python's grammar.</p>\n",
    "\n",
    "<br><br><br><br>"
   ]
  },
  {
   "cell_type": "code",
   "execution_count": 14,
   "metadata": {},
   "outputs": [
    {
     "name": "stdout",
     "output_type": "stream",
     "text": [
      "[ 0  1  2  3  4  5  6  7  8  9 10 11 12 13 14 15 16 17 18 19]\n",
      "\n",
      "[-5.  -4.5 -4.  -3.5 -3.  -2.5 -2.  -1.5 -1.  -0.5  0.   0.5  1.   1.5\n",
      "  2.   2.5  3.   3.5  4.   4.5  5. ]\n",
      "\n",
      "[0.007812 0.       0.       ... 0.006435      nan 0.      ]\n",
      "\n",
      "[[999 999 999 999 999 999 999]\n",
      " [999 999 999 999 999 999 999]]\n",
      "\n",
      "[-1.00000817 -1.00010952 -1.00009081 ... -1.00002829 -0.9999803\n",
      " -1.00003187]\n",
      "\n",
      "[82.20186639 62.34492895 62.34492895 ... 81.27013558 81.27013558\n",
      " 81.56621735]\n",
      "\n"
     ]
    }
   ],
   "source": [
    "import numpy, uproot\n",
    "print(numpy.arange(20),                                        end=\"\\n\\n\")\n",
    "print(numpy.linspace(-5, 5, 21),                               end=\"\\n\\n\")\n",
    "print(numpy.empty(10000, numpy.float16),                       end=\"\\n\\n\")\n",
    "print(numpy.full((2, 7), 999),                                 end=\"\\n\\n\")\n",
    "print(numpy.random.normal(-1, 0.0001, 10000),                  end=\"\\n\\n\")\n",
    "print(uproot.open(\"data/Zmumu.root\")[\"events\"][\"E1\"].array(),  end=\"\\n\\n\")"
   ]
  },
  {
   "cell_type": "markdown",
   "metadata": {},
   "source": [
    "<br><br>\n",
    "\n",
    "<center><img src=\"img/numpy-memory-layout.png\" width=\"90%\"></center>\n",
    "\n",
    "<br><br>"
   ]
  },
  {
   "cell_type": "code",
   "execution_count": 3,
   "metadata": {},
   "outputs": [
    {
     "name": "stdout",
     "output_type": "stream",
     "text": [
      "data:\n",
      " [1073741824 1140850688         -1          0 1090519040 1074790400]\n",
      "\n",
      "type: <class 'numpy.ndarray'>\n",
      "\n",
      "dtype (type of the data it contains): int32\n",
      "\n",
      "shape: (size of each dimension): (6,)\n",
      "\n"
     ]
    }
   ],
   "source": [
    "a = numpy.array([2**30, 2**30 + 2**26, -1, 0, 2**30 + 2**24, 2**30 + 2**20], numpy.int32)\n",
    "# a = a.view(numpy.float32)\n",
    "# a = a.reshape((2, 3))\n",
    "# a = a.astype(numpy.int64)\n",
    "\n",
    "print(\"data:\\n\", a, end=\"\\n\\n\")\n",
    "print(\"type:\", type(a), end=\"\\n\\n\")\n",
    "print(\"dtype (type of the data it contains):\", a.dtype, end=\"\\n\\n\")\n",
    "print(\"shape: (size of each dimension):\", a.shape, end=\"\\n\\n\")"
   ]
  },
  {
   "cell_type": "code",
   "execution_count": 5,
   "metadata": {},
   "outputs": [
    {
     "name": "stdout",
     "output_type": "stream",
     "text": [
      "scalar:\n",
      " 0.000676354845602843\n",
      "\n",
      "array:\n",
      " [ 0.00067635 -0.00478878  0.0043468  ... -0.00593298  0.00644923\n",
      "  0.00500946]\n",
      "\n"
     ]
    }
   ],
   "source": [
    "# Any mathematical function that would map scalar arguments to a scalar result\n",
    "#                                      maps array arguments to an array result.\n",
    "\n",
    "a_array = numpy.random.uniform(5, 10, 10000);     a_scalar = a_array[0]\n",
    "b_array = numpy.random.uniform(10, 20, 10000);    b_scalar = b_array[0]\n",
    "c_array = numpy.random.uniform(-0.1, 0.1, 10000); c_scalar = c_array[0]\n",
    "\n",
    "def quadratic_formula(a, b, c):\n",
    "    return (-b + numpy.sqrt(b**2 - 4*a*c)) / (2*a)\n",
    "\n",
    "print(\"scalar:\\n\", quadratic_formula(a_scalar, b_scalar, c_scalar), end=\"\\n\\n\")\n",
    "print(\"array:\\n\",  quadratic_formula(a_array,  b_array,  c_array), end=\"\\n\\n\")"
   ]
  },
  {
   "cell_type": "code",
   "execution_count": 6,
   "metadata": {},
   "outputs": [
    {
     "data": {
      "text/plain": [
       "(array([ 0.00067635, -0.00478878,  0.0043468 , ..., -0.00593298,\n",
       "         0.00644923,  0.00500946]),\n",
       " array([ 0.00067635, -0.00478878,  0.0043468 , ..., -0.00593298,\n",
       "         0.00644923,  0.00500946]))"
      ]
     },
     "execution_count": 6,
     "metadata": {},
     "output_type": "execute_result"
    }
   ],
   "source": [
    "# Each step in the calculation is performed over whole arrays before moving on to the next.\n",
    "\n",
    "a, b, c = a_array, b_array, c_array\n",
    "\n",
    "roots1 = (-b + numpy.sqrt(b**2 - 4*a*c)) / (2*a)\n",
    "\n",
    "tmp1 = numpy.negative(b)            # -b\n",
    "tmp2 = numpy.square(b)              # b**2\n",
    "tmp3 = numpy.multiply(4, a)         # 4*a\n",
    "tmp4 = numpy.multiply(tmp3, c)      # tmp3*c\n",
    "tmp5 = numpy.subtract(tmp2, tmp4)   # tmp2 - tmp4\n",
    "tmp6 = numpy.sqrt(tmp5)             # sqrt(tmp5)\n",
    "tmp7 = numpy.add(tmp1, tmp6)        # tmp1 + tmp6\n",
    "tmp8 = numpy.multiply(2, a)         # 2*a\n",
    "roots2 = numpy.divide(tmp7, tmp8)   # tmp7 / tmp8\n",
    "\n",
    "roots1, roots2"
   ]
  },
  {
   "cell_type": "code",
   "execution_count": 7,
   "metadata": {},
   "outputs": [
    {
     "data": {
      "text/plain": [
       "array([ True,  True,  True, ...,  True,  True,  True])"
      ]
     },
     "execution_count": 7,
     "metadata": {},
     "output_type": "execute_result"
    }
   ],
   "source": [
    "# Even comparison operators are element-by-element.\n",
    "\n",
    "roots1 == roots2"
   ]
  },
  {
   "cell_type": "code",
   "execution_count": 8,
   "metadata": {},
   "outputs": [
    {
     "data": {
      "text/plain": [
       "True"
      ]
     },
     "execution_count": 8,
     "metadata": {},
     "output_type": "execute_result"
    }
   ],
   "source": [
    "# So use a reducer (e.g. sum, max, min, any, all) to turn the array into a scalar.\n",
    "\n",
    "(roots1 == roots2).all()"
   ]
  },
  {
   "cell_type": "code",
   "execution_count": 20,
   "metadata": {},
   "outputs": [
    {
     "data": {
      "text/plain": [
       "array([82.20179848, 62.34483942, 62.34483942, ..., 81.27006689,\n",
       "       81.27006689, 81.56614892])"
      ]
     },
     "execution_count": 20,
     "metadata": {},
     "output_type": "execute_result"
    }
   ],
   "source": [
    "px, py, pz = uproot.open(\"data/Zmumu.root\")[\"events\"].arrays(\"p[xyz]1\", outputtype=tuple)\n",
    "\n",
    "p = numpy.sqrt(px**2 + py**2 + pz**2)\n",
    "p"
   ]
  },
  {
   "cell_type": "code",
   "execution_count": 23,
   "metadata": {},
   "outputs": [
    {
     "data": {
      "text/plain": [
       "<JaggedArray [[-52.899456 37.73778] [-0.81645936] [48.98783 0.8275667] ... [-29.756786] [1.1418698] [23.913206]] at 0x7c4d00a22630>"
      ]
     },
     "execution_count": 23,
     "metadata": {},
     "output_type": "execute_result"
    }
   ],
   "source": [
    "# But what if there are multiple values per event?\n",
    "\n",
    "uproot.open(\"data/HZZ.root\")[\"events\"].array(\"Muon_Px\")"
   ]
  },
  {
   "cell_type": "code",
   "execution_count": 22,
   "metadata": {},
   "outputs": [
    {
     "data": {
      "text/plain": [
       "<JaggedArray [[54.7794 39.401554] [31.69027] [54.739685 47.48874] ... [62.395073] [174.2086] [69.55613]] at 0x7c4d007b8f98>"
      ]
     },
     "execution_count": 22,
     "metadata": {},
     "output_type": "execute_result"
    }
   ],
   "source": [
    "# JaggedArray is designed to act like Numpy arrays, even to be usable in Numpy functions like numpy.sqrt\n",
    "\n",
    "px, py, pz = uproot.open(\"data/HZZ.root\")[\"events\"].arrays([\"Muon_P[xyz]\"], outputtype=tuple)\n",
    "\n",
    "numpy.sqrt(px**2 + py**2 + pz**2)"
   ]
  },
  {
   "cell_type": "markdown",
   "metadata": {},
   "source": [
    "<br><br>\n",
    "\n",
    "<center><img src=\"img/numpy-memory-broadcasting.png\" width=\"75%\"></center>\n",
    "\n",
    "<br><br>"
   ]
  },
  {
   "cell_type": "code",
   "execution_count": 24,
   "metadata": {},
   "outputs": [
    {
     "data": {
      "text/plain": [
       "(array([82.20186639, 62.34492895, 62.34492895, ..., 81.27013558,\n",
       "        81.27013558, 81.56621735]),\n",
       " array([82.20186639, 62.34492895, 62.34492895, ..., 81.27013558,\n",
       "        81.27013558, 81.56621735]))"
      ]
     },
     "execution_count": 24,
     "metadata": {},
     "output_type": "execute_result"
    }
   ],
   "source": [
    "E, px, py, pz = uproot.open(\"data/Zmumu.root\")[\"events\"].arrays([\"E1\", \"p[xyz]1\"], outputtype=tuple)\n",
    "\n",
    "# Numpy arrays\n",
    "#                   array   array   array   scalar\n",
    "energy = numpy.sqrt(px**2 + py**2 + pz**2 + 0.1056583745**2)\n",
    "energy, E"
   ]
  },
  {
   "cell_type": "code",
   "execution_count": 25,
   "metadata": {},
   "outputs": [
    {
     "data": {
      "text/plain": [
       "(<JaggedArray [[54.7795 39.401695] [31.690447] [54.739788 47.488857] ... [62.39516] [174.20863] [69.55621]] at 0x7c4d007b8908>,\n",
       " <JaggedArray [[54.7795 39.401695] [31.690445] [54.739788 47.488857] ... [62.39516] [174.20863] [69.55621]] at 0x7c4d00890e10>)"
      ]
     },
     "execution_count": 25,
     "metadata": {},
     "output_type": "execute_result"
    }
   ],
   "source": [
    "E, px, py, pz = uproot.open(\"data/HZZ.root\")[\"events\"].arrays([\"Muon_E\", \"Muon_P[xyz]\"], outputtype=tuple)\n",
    "\n",
    "# JaggedArrays\n",
    "#                   array   array   array   scalar\n",
    "energy = numpy.sqrt(px**2 + py**2 + pz**2 + 0.1056583745**2)\n",
    "energy, E"
   ]
  },
  {
   "cell_type": "code",
   "execution_count": 29,
   "metadata": {},
   "outputs": [
    {
     "name": "stdout",
     "output_type": "stream",
     "text": [
      "scalar + flat:   [1100 1200 1300]\n",
      "scalar + jagged: [[1001.1 1002.2 1003.3] [] [1004.4 1005.5]]\n",
      "  flat + jagged: [[101.1 102.2 103.3] [] [304.4 305.5]]\n"
     ]
    }
   ],
   "source": [
    "import awkward\n",
    "scalar = 1000\n",
    "flat   = numpy.array([100, 200, 300])\n",
    "jagged = awkward.fromiter([[1.1, 2.2, 3.3], [], [4.4, 5.5]])\n",
    "\n",
    "# With JaggedArrays, there are more broadcasting cases:\n",
    "print(f\"scalar + flat:   {scalar + flat}\")\n",
    "print(f\"scalar + jagged: {scalar + jagged}\")\n",
    "print(f\"  flat + jagged: {flat + jagged}\")"
   ]
  },
  {
   "cell_type": "code",
   "execution_count": 39,
   "metadata": {},
   "outputs": [
    {
     "name": "stdout",
     "output_type": "stream",
     "text": [
      "multi per event: [[] [2.669215] [] ... [-1.6703207] [2.8687775 -2.0823672] []]\n",
      "one per event:   [ 0.40911174 -0.58348763  2.5796134  ...  1.2252938  -0.58017296\n",
      " -0.18039851]\n",
      "\n",
      "difference:      [[] [3.2527027] [] ... [-2.8956146] [3.4489505 -1.5021942] []]\n"
     ]
    }
   ],
   "source": [
    "jetx, jety, metx, mety = uproot.open(\"data/HZZ.root\")[\"events\"].arrays(\n",
    "    [\"Jet_P[xy]\", \"MET_p[xy]\"], outputtype=tuple)\n",
    "\n",
    "jet_phi = numpy.arctan2(jety, jetx)\n",
    "met_phi = numpy.arctan2(mety, metx)\n",
    "\n",
    "print(f\"multi per event: {jet_phi}\")\n",
    "print(f\"one per event:   {met_phi}\")\n",
    "\n",
    "print(f\"\\ndifference:      {jet_phi - met_phi}\")"
   ]
  },
  {
   "cell_type": "code",
   "execution_count": 44,
   "metadata": {},
   "outputs": [
    {
     "data": {
      "text/plain": [
       "(-3.14096, 3.137677)"
      ]
     },
     "execution_count": 44,
     "metadata": {},
     "output_type": "execute_result"
    }
   ],
   "source": [
    "# Q: What about ensuring that each delta-phi is between -pi and pi without if/then?\n",
    "# A: You start to pick up tricks, like this:\n",
    "\n",
    "raw_diff = jet_phi - met_phi\n",
    "\n",
    "bounded_diff = (raw_diff + numpy.pi) % (2*numpy.pi) - numpy.pi\n",
    "\n",
    "# Should dphi be a library function? That's the kind of question we think about...\n",
    "\n",
    "bounded_diff.flatten().min(), bounded_diff.flatten().max()"
   ]
  },
  {
   "cell_type": "code",
   "execution_count": 45,
   "metadata": {},
   "outputs": [
    {
     "data": {
      "text/plain": [
       "(-3.141034, 3.1297169)"
      ]
     },
     "execution_count": 45,
     "metadata": {},
     "output_type": "execute_result"
    }
   ],
   "source": [
    "# Another way JaggedArrays extend Numpy arrays:\n",
    "\n",
    "# Reducers, like sum, min, max, turn flat arrays into scalars.\n",
    "\n",
    "met_phi.min(), met_phi.max()"
   ]
  },
  {
   "cell_type": "code",
   "execution_count": 46,
   "metadata": {},
   "outputs": [
    {
     "data": {
      "text/plain": [
       "(array([       inf,  2.669215 ,        inf, ..., -1.6703207, -2.0823672,\n",
       "               inf], dtype=float32),\n",
       " array([      -inf,  2.669215 ,       -inf, ..., -1.6703207,  2.8687775,\n",
       "              -inf], dtype=float32))"
      ]
     },
     "execution_count": 46,
     "metadata": {},
     "output_type": "execute_result"
    }
   ],
   "source": [
    "# Another way JaggedArrays extend Numpy arrays:\n",
    "\n",
    "# Reducers, like sum, min, max, turn jagged arrays into flat arrays.\n",
    "\n",
    "jet_phi.min(), jet_phi.max()"
   ]
  },
  {
   "cell_type": "code",
   "execution_count": 47,
   "metadata": {},
   "outputs": [
    {
     "data": {
      "text/plain": [
       "array([6., 0., 9.])"
      ]
     },
     "execution_count": 47,
     "metadata": {},
     "output_type": "execute_result"
    }
   ],
   "source": [
    "# The meaning of flat.sum() is \"sum of all elements of the flat array.\"\n",
    "# The meaning of jagged.sum() is \"sum of all elements in each inner array of the jagged array.\"\n",
    "\n",
    "jagged = awkward.fromiter([[1.0, 2.0, 3.0], [], [4.0, 5.0]])\n",
    "jagged.sum()   # min, max"
   ]
  },
  {
   "cell_type": "code",
   "execution_count": 49,
   "metadata": {},
   "outputs": [
    {
     "data": {
      "text/plain": [
       "(15.0, 15.0)"
      ]
     },
     "execution_count": 49,
     "metadata": {},
     "output_type": "execute_result"
    }
   ],
   "source": [
    "# jagged.sum().sum() completes the process, resulting in a scalar. But,\n",
    "# jagged.flatten().sum() does the same thing. Why?\n",
    "\n",
    "jagged.sum().sum(), jagged.flatten().sum()"
   ]
  },
  {
   "cell_type": "code",
   "execution_count": 53,
   "metadata": {},
   "outputs": [
    {
     "data": {
      "text/plain": [
       "array([        nan,  2.66921496,         nan, ..., -1.67032075,\n",
       "        0.39320517,         nan])"
      ]
     },
     "execution_count": 53,
     "metadata": {},
     "output_type": "execute_result"
    }
   ],
   "source": [
    "# mean, var, std are also available, just like Numpy, but these aren't associative as sum, min, max are.\n",
    "\n",
    "# \"Don't do a mean of means unless you mean it!\"\n",
    "\n",
    "jet_phi.mean()"
   ]
  },
  {
   "cell_type": "code",
   "execution_count": 67,
   "metadata": {},
   "outputs": [
    {
     "name": "stdout",
     "output_type": "stream",
     "text": [
      "same_hemicircle:             [[] [False] [] ... [False] [False True] []]\n",
      "same_hemicircle.any():       [False False False ... False  True False]\n",
      "same_hemicircle.any().any(): True\n",
      "same_hemicircle.any().all(): False\n",
      "same_hemicircle.all():       [ True False  True ... False False  True]\n",
      "same_hemicircle.all().any(): True\n",
      "same_hemicircle.all().all(): False\n"
     ]
    }
   ],
   "source": [
    "# Also worth noting that any and all are reducers... of booleans.\n",
    "\n",
    "same_hemicircle = (abs(bounded_diff) < numpy.pi/2)\n",
    "\n",
    "print(f\"same_hemicircle:             {same_hemicircle}\")\n",
    "print(f\"same_hemicircle.any():       {same_hemicircle.any()}\")\n",
    "print(f\"same_hemicircle.any().any(): {same_hemicircle.any().any()}\")\n",
    "print(f\"same_hemicircle.any().all(): {same_hemicircle.any().all()}\")\n",
    "print(f\"same_hemicircle.all():       {same_hemicircle.all()}\")\n",
    "print(f\"same_hemicircle.all().any(): {same_hemicircle.all().any()}\")\n",
    "print(f\"same_hemicircle.all().all(): {same_hemicircle.all().all()}\")"
   ]
  },
  {
   "cell_type": "code",
   "execution_count": null,
   "metadata": {},
   "outputs": [],
   "source": []
  }
 ],
 "metadata": {
  "kernelspec": {
   "display_name": "Python 3",
   "language": "python",
   "name": "python3"
  },
  "language_info": {
   "codemirror_mode": {
    "name": "ipython",
    "version": 3
   },
   "file_extension": ".py",
   "mimetype": "text/x-python",
   "name": "python",
   "nbconvert_exporter": "python",
   "pygments_lexer": "ipython3",
   "version": "3.7.3"
  }
 },
 "nbformat": 4,
 "nbformat_minor": 4
}
