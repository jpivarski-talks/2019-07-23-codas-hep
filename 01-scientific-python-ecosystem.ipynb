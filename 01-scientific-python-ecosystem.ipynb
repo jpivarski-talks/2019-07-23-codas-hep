{
 "cells": [
  {
   "cell_type": "markdown",
   "metadata": {},
   "source": [
    "<br><br><br><br><br>\n",
    "\n",
    "# The Scientific Python Ecosystem\n",
    "\n",
    "<br><br><br><br><br>"
   ]
  },
  {
   "cell_type": "markdown",
   "metadata": {},
   "source": [
    "<br><br><br><br><br>\n",
    "\n",
    "<p style=\"font-size: 1.25em; text-align: center;\"><b>Who has ever used Python?</b> <i>(Show of hands.)</i></p>\n",
    "\n",
    "<br><br><br><br><br>"
   ]
  },
  {
   "cell_type": "markdown",
   "metadata": {},
   "source": [
    "<br><br><br><br><br>\n",
    "\n",
    "<p style=\"font-size: 1.25em; text-align: center;\"><b>Who has used Python more than C or C++?</b> <i>(Show of hands.)</i></p>\n",
    "\n",
    "<br><br><br><br><br>"
   ]
  },
  {
   "cell_type": "markdown",
   "metadata": {},
   "source": [
    "<br><br><br><br><br>\n",
    "\n",
    "<p style=\"font-size: 1.25em; text-align: center;\"><b>Who has ever used PyROOT?</b> <i>(Show of hands.)</i></p>\n",
    "\n",
    "<br><br><br><br><br>"
   ]
  },
  {
   "cell_type": "markdown",
   "metadata": {},
   "source": [
    "<br><br><br><br><br>\n",
    "\n",
    "<p style=\"font-size: 1.25em; text-align: center;\"><b>Who has ever used Numpy?</b> <i>(Show of hands.)</i></p>\n",
    "\n",
    "<br><br><br><br><br>"
   ]
  },
  {
   "cell_type": "markdown",
   "metadata": {},
   "source": [
    "<br><br><br><br><br>\n",
    "\n",
    "<p style=\"font-size: 1.25em; text-align: center;\"><b>Who has ever used Matplotlib?</b> <i>(Show of hands.)</i></p>\n",
    "\n",
    "<br><br><br><br><br>"
   ]
  },
  {
   "cell_type": "markdown",
   "metadata": {},
   "source": [
    "<br><br><br><br><br>\n",
    "\n",
    "<p style=\"font-size: 1.25em; text-align: center;\"><b>Who has ever used Pandas?</b> <i>(Show of hands.)</i></p>\n",
    "\n",
    "<br><br><br><br><br>"
   ]
  },
  {
   "cell_type": "markdown",
   "metadata": {},
   "source": [
    "<br><br><br><br><br>\n",
    "\n",
    "<p style=\"font-size: 1.25em; text-align: center;\"><b>Who has used Python for machine learning?</b> <i>(Show of hands.)</i></p>\n",
    "\n",
    "<br><br><br><br><br>"
   ]
  },
  {
   "cell_type": "markdown",
   "metadata": {},
   "source": [
    "<br><br><br><br><br>\n",
    "\n",
    "### Part 1: Why Python in particle physics?\n",
    "\n",
    "<br><br><br><br><br>"
   ]
  },
  {
   "cell_type": "markdown",
   "metadata": {},
   "source": [
    "<br>\n",
    "\n",
    "<p style=\"font-size: 1.25em\">I could point to its broad adoption as a programming language...</p>\n",
    "\n",
    "<center><img src=\"img/pypl-2019.png\" width=\"75%\"></center>\n",
    "\n",
    "<br>"
   ]
  },
  {
   "cell_type": "markdown",
   "metadata": {},
   "source": [
    "<br>\n",
    "\n",
    "<p style=\"font-size: 1.25em\">But it is more relevant to point to its use in data analysis.</p>\n",
    "\n",
    "<center><img src=\"img/python-r-cpp-googletrends-dataset.png\" width=\"75%\"></center>\n",
    "\n",
    "<br>\n",
    "\n",
    "<center><img src=\"img/python-r-cpp-googletrends-machinelearning.png\" width=\"75%\"></center>\n",
    "\n",
    "<br>"
   ]
  },
  {
   "cell_type": "markdown",
   "metadata": {},
   "source": [
    "<br>\n",
    "\n",
    "<p style=\"font-size: 1.25em\">It's hard to overstate the scale of these communities.</p>\n",
    "\n",
    "<center><img src=\"img/root-spark-pandas-google-trends.png\" width=\"75%\"></center>\n",
    "\n",
    "<br>\n",
    "\n",
    "<p style=\"font-size: 1.1em\">There is value in adopting popular tools: every question/error message is googlable...</p>\n",
    "\n",
    "<br>"
   ]
  },
  {
   "cell_type": "markdown",
   "metadata": {},
   "source": [
    "<p style=\"font-size: 1.25em\">The growth of Python in astronomy is... astronomical.</p>\n",
    "\n",
    "<table width=\"100%\"><tr style=\"background: white\"><td><img src=\"img/mentions-of-programming-languages.png\" width=\"100%\"></td><td><img src=\"img/ligo-notebook.png\" width=\"100%\"></td></tr></table>"
   ]
  },
  {
   "cell_type": "markdown",
   "metadata": {},
   "source": [
    "<br><br>\n",
    "\n",
    "<p style=\"font-size: 1.25em\">It's the language of choice for some—but not all—LHC experiments.</p>\n",
    "\n",
    "<img src=\"img/github-cmssw-lin.png\" width=\"100%\">\n",
    "\n",
    "<br><br>"
   ]
  },
  {
   "cell_type": "markdown",
   "metadata": {},
   "source": [
    "<br><br>\n",
    "\n",
    "<p style=\"font-size: 1.25em\">It's the language of choice for some—but not all—LHC experiments.</p>\n",
    "\n",
    "<img src=\"img/github-alice-lin.png\" width=\"100%\">\n",
    "\n",
    "_(Can't measure ATLAS and LHCb because of private repos on GitLab.)_\n",
    "\n",
    "<br><br>"
   ]
  },
  {
   "cell_type": "markdown",
   "metadata": {},
   "source": [
    "<br>\n",
    "\n",
    "<img src=\"img/commute-by-plane.png\" width=\"60%\"> _(Stolen from Jake Vanderplas.)_\n",
    "\n",
    "<br>"
   ]
  },
  {
   "cell_type": "markdown",
   "metadata": {},
   "source": [
    "<br><br>\n",
    "\n",
    "<p style=\"font-size: 1.25em; font-weight: bold\">Drive to the airport, then take a plane:</p>\n",
    "\n",
    "   * Not everything needs to be fast, only the part that scales with the number of events (or other large number, like number of histogram bins or MC toys).\n",
    "   \n",
    "     The rest of the analysis code is bookkeeping: convenience outweighs speed.\n",
    "     \n",
    "   * Need to step up from interactive tinkering to full-scale analysis __*in small steps*__. Scale-up \"quasistatically\" to avoid a big round of bug-hunting.\n",
    "\n",
    "<br><br>"
   ]
  },
  {
   "cell_type": "code",
   "execution_count": 1,
   "metadata": {},
   "outputs": [
    {
     "name": "stdout",
     "output_type": "stream",
     "text": [
      "7307.679454485576 ns per pixel\n"
     ]
    }
   ],
   "source": [
    "# Example: code to compute a fractal (calendar/mousepad/T-shirt...).\n",
    "import time, numpy\n",
    "\n",
    "def run_python(height, width, maxiterations=20):\n",
    "    y, x = numpy.ogrid[-1:0:height*1j, -1.5:0:width*1j]\n",
    "    c = x + y*1j\n",
    "    fractal = numpy.full(c.shape, maxiterations, dtype=numpy.int32)\n",
    "    for h in range(height):\n",
    "        for w in range(width):               # for each pixel (h, w)...\n",
    "            z = c[h, w]\n",
    "            for i in range(maxiterations):   # iterate at most 20 times\n",
    "                z = z**2 + c[h, w]           # applying z → z² + c\n",
    "                if abs(z) > 2:               # if it diverges (|z| > 2)\n",
    "                    fractal[h, w] = i        # color with the iteration number\n",
    "                    break                    # we're done, no need to keep iterating\n",
    "    return fractal\n",
    "\n",
    "starttime = time.time()\n",
    "fractal = run_python(800, 1200)\n",
    "print(\"{0} ns per pixel\".format(1e9 * (time.time() - starttime) / (800 * 1200)))"
   ]
  },
  {
   "cell_type": "code",
   "execution_count": 2,
   "metadata": {},
   "outputs": [
    {
     "data": {
      "image/png": "[encoded data removed]",
      "text/plain": [
       "<Figure size 720x360 with 1 Axes>"
      ]
     },
     "metadata": {
      "needs_background": "light"
     },
     "output_type": "display_data"
    }
   ],
   "source": [
    "# Pretty, isn't it?\n",
    "\n",
    "%matplotlib inline\n",
    "import matplotlib.pyplot\n",
    "fig, ax = matplotlib.pyplot.subplots(figsize=(10, 5)); ax.imshow(fractal);"
   ]
  },
  {
   "cell_type": "code",
   "execution_count": 3,
   "metadata": {},
   "outputs": [],
   "source": [
    "# REMINDER: the original code...\n",
    "\n",
    "\n",
    "def run_python(height, width, maxiterations=20):\n",
    "    y, x = numpy.ogrid[-1:0:height*1j, -1.5:0:width*1j]\n",
    "    c = x + y*1j\n",
    "    fractal = numpy.full(c.shape, maxiterations, dtype=numpy.int32)\n",
    "\n",
    "\n",
    "\n",
    "    for h in range(height):\n",
    "        for w in range(width):               # for each pixel (h, w)...\n",
    "            z = c[h, w]\n",
    "            for i in range(maxiterations):   # iterate at most 20 times\n",
    "                z = z**2 + c[h, w]           # applying z → z² + c\n",
    "                if abs(z) > 2:               # if it diverges (|z| > 2)\n",
    "                    fractal[h, w] = i        # color with the iteration number\n",
    "                    break                    # we're done, no need to keep iterating\n",
    "    return fractal\n",
    "\n",
    "\n",
    "\n"
   ]
  },
  {
   "cell_type": "code",
   "execution_count": 4,
   "metadata": {},
   "outputs": [
    {
     "name": "stdout",
     "output_type": "stream",
     "text": [
      "159.1240211079518 ns per pixel\n"
     ]
    }
   ],
   "source": [
    "# 50× to 100× faster...\n",
    "import numba\n",
    "\n",
    "def run_numba(height, width, maxiterations=20):\n",
    "    y, x = numpy.ogrid[-1:0:height*1j, -1.5:0:width*1j]\n",
    "    c = x + y*1j\n",
    "    fractal = numpy.full(c.shape, maxiterations, dtype=numpy.int32)\n",
    "    return tight_loop(height, width, maxiterations, c, fractal)\n",
    "@numba.jit\n",
    "def tight_loop(height, width, maxiterations, c, fractal):\n",
    "    for h in range(height):\n",
    "        for w in range(width):               # for each pixel (h, w)...\n",
    "            z = c[h, w]\n",
    "            for i in range(maxiterations):   # iterate at most 20 times\n",
    "                z = z**2 + c[h, w]           # applying z → z² + c\n",
    "                if abs(z) > 2:               # if it diverges (|z| > 2)\n",
    "                    fractal[h, w] = i        # color with the iteration number\n",
    "                    break                    # we're done, no need to keep iterating\n",
    "    return fractal\n",
    "\n",
    "starttime = time.time()\n",
    "fractal = run_numba(3200, 4800)\n",
    "print(\"{0} ns per pixel\".format(1e9 * (time.time() - starttime) / (3200 * 4800)))"
   ]
  },
  {
   "cell_type": "markdown",
   "metadata": {},
   "source": [
    "<br><br>\n",
    "\n",
    "<p style=\"font-size: 1.25em\">The \"catch\" is that code in the loop must be purely numerical: arrays and basic number types. In other words, code that doesn't take advantage of \"Pythonness,\" code that would be just as easy to write in C.</p>\n",
    "\n",
    "<br>\n",
    "\n",
    "<p style=\"font-size: 1.25em\">That's what <tt>@numba.jit</tt> does: it compiles the Python function (directly to LLVM and then machine code).</p>\n",
    "\n",
    "<br>\n",
    "\n",
    "<p style=\"font-size: 1.25em\">So... why not just write C code?</p>\n",
    "\n",
    "<br><br>"
   ]
  },
  {
   "cell_type": "markdown",
   "metadata": {},
   "source": [
    "<br><br><br><br>\n",
    "\n",
    "<p style=\"font-size: 1.25em\"> If you developed your analysis in interactive Python, in a notebook or command prompt, isolating the numerical part into a function (\"<tt>tight_loop</tt>\" in the previous example) is usually easier than linking to code written in another library.</p>\n",
    "\n",
    "<br><br><br><br>"
   ]
  },
  {
   "cell_type": "markdown",
   "metadata": {},
   "source": [
    "<p style=\"font-size: 1.25em\">Fully rewriting in C++ isn't a lot faster (30% in this case), but a lot more effort.</p>\n",
    "\n",
    "| Method                                     | time (ns/px) | speedup |\n",
    "|:-------------------------------------------|-------------:|--------:|\n",
    "| Pure Python                                        | 12000   |    1× |\n",
    "| Vectorized Numpy                                   |   368   |   30× |\n",
    "| Vectorized CuPy (run on GPU)                       |    81   |  150× |\n",
    "| **Compiled by Numba**                                  |   **136**   |   **90×** |\n",
    "| Compiled & parallelized by Numba                   |    45   |  250× |\n",
    "| Compiled & run on GPU by Numba                     |     7.8 | 1500× |\n",
    "| Parallelized by Dask                               |   238   |   50× |\n",
    "| Parallelized by Dask, compiled by Numba            |    48   |  250× |\n",
    "| Partially rewritten in Cython (Python/C++ hybrid)  |  1485   |    8× |\n",
    "| **Completely rewritten in Cython (pure C++)**          |    **99**   |  **120×** |\n",
    "| **Completely rewritten in pybind11 (pure C++)**        |    **98**   |  **120×** |\n",
    "| Completely rewritten in ROOT (pure C++ with `-O0`) |   379   |   32× |\n",
    "\n",
    "_(See [misc-fractal.ipynb](misc-fractal.ipynb) for a derivation of the above.)_"
   ]
  },
  {
   "cell_type": "markdown",
   "metadata": {},
   "source": [
    "<br><br>\n",
    "\n",
    "<p style=\"font-size: 1.25em\"><b>Drive/bike/skateboard on your daily commute:</b> do exploration and problem-solving in Python because it has simple data structures, doesn't seg-fault, and dumps stack traces...</p>\n",
    "\n",
    "<br>\n",
    "\n",
    "<p style=\"font-size: 1.25em\"><b>Fly to Europe:</b> optimize the loop that scales with big numbers so that you can finish analyzing your 100 TB this year...</p>\n",
    "\n",
    "<br>\n",
    "\n",
    "<p style=\"font-size: 1.25em; text-align: right; margin-right: 10%\">... by replacing critical code <i><b>in small steps</b></i>.</p>"
   ]
  },
  {
   "cell_type": "markdown",
   "metadata": {},
   "source": [
    "<br>\n",
    "\n",
    "<center><img src=\"img/numpy-logo.png\" width=\"35%\"></center>\n",
    "\n",
    "<br>\n",
    "\n",
    "<p style=\"font-size: 1.25em\">Numpy is the common (in-memory) data format for scientific Python.</p>\n",
    "\n",
    "<br>\n",
    "\n",
    "<p style=\"font-size: 1.25em\">Nearly every package can input/output data as Numpy arrays.</p>\n",
    "\n",
    "<br>\n",
    "\n",
    "<p style=\"font-size: 1.25em\">Numpy also has a suite of functions for doing calculations a whole array at a time: a <b>S</b>ingle (Python) <b>I</b>nstruction on <b>M</b>ultiple <b>D</b>ata.</p>\n",
    "\n",
    "<br>"
   ]
  },
  {
   "cell_type": "code",
   "execution_count": 5,
   "metadata": {},
   "outputs": [
    {
     "name": "stdout",
     "output_type": "stream",
     "text": [
      "Names of arrays in this dict:\n",
      "\n",
      "['Type', 'Run', 'Event', 'E1', 'px1', 'py1', 'pz1', 'pt1', 'eta1', 'phi1', 'Q1', 'E2', 'px2', 'py2', 'pz2', 'pt2', 'eta2', 'phi2', 'Q2', 'M'] \n",
      "\n",
      "\n"
     ]
    },
    {
     "data": {
      "text/plain": [
       "{'Type': <ObjectArray [b'GT' b'TT' b'GT' ... b'TT' b'GT' b'GG'] at 0x7bac41cdaba8>,\n",
       " 'Run': array([148031, 148031, 148031, ..., 148029, 148029, 148029], dtype=int32),\n",
       " 'Event': array([10507008, 10507008, 10507008, ..., 99991333, 99991333, 99991333],\n",
       "       dtype=int32),\n",
       " 'E1': array([82.20186639, 62.34492895, 62.34492895, ..., 81.27013558,\n",
       "        81.27013558, 81.56621735]),\n",
       " 'px1': array([-41.19528764,  35.11804977,  35.11804977, ...,  32.37749196,\n",
       "         32.37749196,  32.48539387]),\n",
       " 'py1': array([ 17.4332439 , -16.57036233, -16.57036233, ...,   1.19940578,\n",
       "          1.19940578,   1.2013503 ]),\n",
       " 'pz1': array([-68.96496181, -48.77524654, -48.77524654, ..., -74.53243061,\n",
       "        -74.53243061, -74.80837247]),\n",
       " 'pt1': array([44.7322, 38.8311, 38.8311, ..., 32.3997, 32.3997, 32.3997]),\n",
       " 'eta1': array([-1.21769, -1.05139, -1.05139, ..., -1.57044, -1.57044, -1.57044]),\n",
       " 'phi1': array([ 2.74126  , -0.440873 , -0.440873 , ...,  0.0370275,  0.0370275,\n",
       "         0.0370275]),\n",
       " 'Q1': array([ 1, -1, -1, ...,  1,  1,  1], dtype=int32),\n",
       " 'E2': array([ 60.62187459,  82.20186639,  81.58277833, ..., 168.78012134,\n",
       "        170.58313243, 170.58313243]),\n",
       " 'px2': array([ 34.14443725, -41.19528764, -40.88332344, ..., -68.04191497,\n",
       "        -68.79413604, -68.79413604]),\n",
       " 'py2': array([-16.11952457,  17.4332439 ,  17.29929704, ..., -26.10584737,\n",
       "        -26.39840043, -26.39840043]),\n",
       " 'pz2': array([ -47.42698439,  -68.96496181,  -68.44725519, ..., -152.2350181 ,\n",
       "        -153.84760383, -153.84760383]),\n",
       " 'pt2': array([38.8311, 44.7322, 44.7322, ..., 72.8781, 72.8781, 72.8781]),\n",
       " 'eta2': array([-1.05139, -1.21769, -1.21769, ..., -1.4827 , -1.4827 , -1.4827 ]),\n",
       " 'phi2': array([-0.440873,  2.74126 ,  2.74126 , ..., -2.77524 , -2.77524 ,\n",
       "        -2.77524 ]),\n",
       " 'Q2': array([-1,  1,  1, ..., -1, -1, -1], dtype=int32),\n",
       " 'M': array([82.46269156, 83.62620401, 83.30846467, ..., 95.96547966,\n",
       "        96.49594381, 96.65672765])}"
      ]
     },
     "execution_count": 5,
     "metadata": {},
     "output_type": "execute_result"
    }
   ],
   "source": [
    "# Numpy arrays of physics data:\n",
    "import uproot\n",
    "arrays = uproot.open(\"data/Zmumu.root\")[\"events\"].arrays(namedecode=\"utf-8\")\n",
    "\n",
    "print(\"Names of arrays in this dict:\\n\")\n",
    "print(list(arrays), \"\\n\\n\")\n",
    "\n",
    "arrays"
   ]
  },
  {
   "cell_type": "code",
   "execution_count": 6,
   "metadata": {},
   "outputs": [
    {
     "data": {
      "text/plain": [
       "array([82.20186639, 62.34492895, 62.34492895, ..., 81.27013558,\n",
       "       81.27013558, 81.56621735])"
      ]
     },
     "execution_count": 6,
     "metadata": {},
     "output_type": "execute_result"
    }
   ],
   "source": [
    "# Take arrays out of the dict and make each one a variable.\n",
    "for n in arrays:\n",
    "    exec(f\"{n} = arrays['{n}']\")\n",
    "\n",
    "# Example array: energy of first muon in each event\n",
    "E1"
   ]
  },
  {
   "cell_type": "code",
   "execution_count": 7,
   "metadata": {},
   "outputs": [
    {
     "data": {
      "text/plain": [
       "array([ 7.17219282,  6.13819068,  5.81117254, ..., 43.50036668,\n",
       "       44.28500082, 44.19520441])"
      ]
     },
     "execution_count": 7,
     "metadata": {},
     "output_type": "execute_result"
    }
   ],
   "source": [
    "# Compute pT of all muon pairs:\n",
    "\n",
    "import numpy\n",
    "\n",
    "pt = numpy.sqrt((px1 + px2)**2 + (py1 + py2)**2)\n",
    "pt"
   ]
  },
  {
   "cell_type": "code",
   "execution_count": 8,
   "metadata": {},
   "outputs": [
    {
     "data": {
      "image/png": "[encoded data removed]",
      "text/plain": [
       "<Figure size 432x288 with 1 Axes>"
      ]
     },
     "metadata": {
      "needs_background": "light"
     },
     "output_type": "display_data"
    }
   ],
   "source": [
    "# And __LOOK__:\n",
    "\n",
    "matplotlib.pyplot.hist(pt, bins=100, range=(0, 200));"
   ]
  },
  {
   "cell_type": "code",
   "execution_count": 9,
   "metadata": {},
   "outputs": [
    {
     "data": {
      "text/plain": [
       "array([116.61271581, 117.90010197, 117.36645448, ..., 230.90205217,\n",
       "       232.63405045, 232.88789491])"
      ]
     },
     "execution_count": 9,
     "metadata": {},
     "output_type": "execute_result"
    }
   ],
   "source": [
    "# Compute p of all muon pairs:\n",
    "\n",
    "p = numpy.sqrt(pt**2 + (pz1 + pz2)**2)\n",
    "p"
   ]
  },
  {
   "cell_type": "code",
   "execution_count": 10,
   "metadata": {},
   "outputs": [
    {
     "data": {
      "image/png": "[encoded data removed]",
      "text/plain": [
       "<Figure size 432x288 with 1 Axes>"
      ]
     },
     "metadata": {
      "needs_background": "light"
     },
     "output_type": "display_data"
    }
   ],
   "source": [
    "# And __LOOK__:\n",
    "\n",
    "matplotlib.pyplot.hist(p, bins=100, range=(0, 500));"
   ]
  },
  {
   "cell_type": "code",
   "execution_count": 11,
   "metadata": {},
   "outputs": [
    {
     "data": {
      "text/plain": [
       "array([82.46269156, 83.62620401, 83.30846467, ..., 95.96547966,\n",
       "       96.49594382, 96.65672765])"
      ]
     },
     "execution_count": 11,
     "metadata": {},
     "output_type": "execute_result"
    }
   ],
   "source": [
    "# Compute mass of all muon pairs:\n",
    "\n",
    "mass = numpy.sqrt((E1 + E2)**2 - p**2)\n",
    "mass"
   ]
  },
  {
   "cell_type": "code",
   "execution_count": 12,
   "metadata": {},
   "outputs": [
    {
     "data": {
      "image/png": "[encoded data removed]",
      "text/plain": [
       "<Figure size 432x288 with 1 Axes>"
      ]
     },
     "metadata": {
      "needs_background": "light"
     },
     "output_type": "display_data"
    }
   ],
   "source": [
    "# And __LOOK__:\n",
    "\n",
    "matplotlib.pyplot.hist(mass, bins=100, range=(0, 120));"
   ]
  },
  {
   "cell_type": "code",
   "execution_count": 13,
   "metadata": {},
   "outputs": [
    {
     "data": {
      "image/png": "[encoded data removed]",
      "text/plain": [
       "<Figure size 432x288 with 1 Axes>"
      ]
     },
     "metadata": {
      "needs_background": "light"
     },
     "output_type": "display_data"
    }
   ],
   "source": [
    "# Start adding cuts, exploring different regions, etc.\n",
    "\n",
    "matplotlib.pyplot.hist(mass[Q1 != Q2], bins=100, range=(0, 120));\n",
    "matplotlib.pyplot.hist(mass[Q1 == Q2], bins=100, range=(0, 120));"
   ]
  },
  {
   "cell_type": "markdown",
   "metadata": {},
   "source": [
    "<br><br><br>\n",
    "\n",
    "<p style=\"font-size: 1.25em\">This is the point: you calculate <i>one thing</i> and then you <i>LOOK</i> at the result.</p>\n",
    "\n",
    "<br>\n",
    "\n",
    "<p style=\"font-size: 1.25em\">Array-at-a-time logic gives you a statistical view of each <i>step</i> in your calculation as you develop it.</p>\n",
    "\n",
    "<br>\n",
    "\n",
    "<p style=\"font-size: 1.25em\">It's not always about the speed; sometimes it's about the interactivity.</p>\n",
    "\n",
    "<br><br><br>"
   ]
  },
  {
   "cell_type": "code",
   "execution_count": 14,
   "metadata": {},
   "outputs": [
    {
     "name": "stdout",
     "output_type": "stream",
     "text": [
      "Welcome to JupyROOT 6.18/00\n"
     ]
    },
    {
     "data": {
      "image/png": "[encoded data removed]",
      "text/plain": [
       "<IPython.core.display.Image object>"
      ]
     },
     "metadata": {},
     "output_type": "display_data"
    }
   ],
   "source": [
    "# As physicists, we know this. That's why we have TTree-at-a-time operations.\n",
    "\n",
    "import ROOT\n",
    "canvas = ROOT.TCanvas(\"canvas\", \"\", 400, 300)\n",
    "file = ROOT.TFile(\"data/Zmumu.root\")\n",
    "tree = file.Get(\"events\")\n",
    "tree.Draw(\"sqrt((E1 + E2)**2 - (px1 + px2)**2 - (py1 + py2)**2 - (pz1 + pz2)**2)\")\n",
    "canvas.Draw()"
   ]
  },
  {
   "cell_type": "markdown",
   "metadata": {},
   "source": [
    "<br><br><br>\n",
    "\n",
    "<p style=\"font-size: 1.25em\">The hard part is turning those <tt>TTree::Draw</tt> expressions into a full analysis.</p>\n",
    "\n",
    "<br>\n",
    "\n",
    "<p style=\"font-size: 1.25em\">How many of you have started with <tt>TTree::Draw</tt> and had to rewrite everything as a C++ loop?</p>\n",
    "\n",
    "<br>\n",
    "\n",
    "<p style=\"font-size: 1.25em\">Our goal is to do initial exploration in a convenient way and then scale up without having to change everything.</p>\n",
    "\n",
    "<br><br><br>"
   ]
  },
  {
   "cell_type": "markdown",
   "metadata": {},
   "source": [
    "<br><br><br><br><br>\n",
    "\n",
    "### Part 2: There's an app for that\n",
    "\n",
    "<br><br><br><br><br>"
   ]
  },
  {
   "cell_type": "markdown",
   "metadata": {},
   "source": [
    "<img src=\"img/shells-1.png\" width=\"80%\">\n",
    "\n",
    "<i>(Stolen from Jake Vanderplas.)</i>"
   ]
  },
  {
   "cell_type": "markdown",
   "metadata": {},
   "source": [
    "<img src=\"img/shells-2.png\" width=\"80%\">\n",
    "\n",
    "<i>(Stolen from Jake Vanderplas.)</i>"
   ]
  },
  {
   "cell_type": "markdown",
   "metadata": {},
   "source": [
    "<img src=\"img/shells-3.png\" width=\"80%\">\n",
    "\n",
    "<i>(Stolen from Jake Vanderplas.)</i>"
   ]
  },
  {
   "cell_type": "markdown",
   "metadata": {},
   "source": [
    "<img src=\"img/shells-4.png\" width=\"80%\">\n",
    "\n",
    "<i>(Stolen from Jake Vanderplas.)</i>"
   ]
  },
  {
   "cell_type": "markdown",
   "metadata": {},
   "source": [
    "<img src=\"img/shells-5.png\" width=\"80%\">\n",
    "\n",
    "<i>(Stolen from Jake Vanderplas.)</i>"
   ]
  },
  {
   "cell_type": "markdown",
   "metadata": {},
   "source": [
    "<br><br>\n",
    "\n",
    "<p style=\"font-size: 1.25em\">Much of what we do, as physicists, are not new problems. You can learn a lot by attempting to write an algorithm yourself, but eventually you'll want to plug together functions from established libraries (that you understand!).</p>\n",
    "\n",
    "<br>\n",
    "\n",
    "<p style=\"font-size: 1.25em\"><b>Wikipedia</b> (to learn the names of things) + <b>StackOverflow</b> (to find common solutions) is a good way to develop analysis code.</p>\n",
    "\n",
    "<br>\n",
    "\n",
    "<p style=\"font-size: 1.25em\">Most of these solutions come in Numpy-shaped pieces.</p>\n",
    "\n",
    "<br><br>"
   ]
  },
  {
   "cell_type": "markdown",
   "metadata": {},
   "source": [
    "<br><br>\n",
    "\n",
    "<p style=\"font-size: 100px\"><img src=\"img/scipy-logo.png\" width=\"45%\" style=\"vertical-align: middle\"> = <img src=\"img/numerical-recipes.jpg\" width=\"25%\" style=\"vertical-align: middle\"></p>\n",
    "\n",
    "<br><br>"
   ]
  },
  {
   "cell_type": "markdown",
   "metadata": {},
   "source": [
    "<br>\n",
    "\n",
    "<p style=\"font-size: 1.25em\">SciPy was originally the \"all in one\" scientific package, but today, much of the development is beyond SciPy.</p>\n",
    "\n",
    "| Date | Development |\n",
    "|:----:|:-----|\n",
    "| 1994 | **Python** 1.0 released. |\n",
    "| 1995 | **Numeric** was the first array package (a.k.a. Numerical, Numerical Python, Numpy). |\n",
    "| 2001 | **SciPy** gathered scientific functions into one codebase, including **Numeric**. |\n",
    "| 2003 | **Matplotlib** released (at that time, one of many plotters... R.I.P. **Biggles**). |\n",
    "| 2003 | **Numarray** introduced as a competitor to **Numeric** with more features (memory-mapped files, alignment, record arrays). |\n",
    "| 2005 | **Numpy** unified features of **Numeric** and **Numarray** and became the common array library. |\n",
    "| 2008 | **Pandas** first released. |\n",
    "| 2010 | **Scikit-Learn** first released. |\n",
    "| 2011 | **AstroPy** first released. |\n",
    "| 2012 | **Anaconda** first released. |\n",
    "| 2014 | **Jupyter** first released. |\n",
    "| 2015 | **Keras** first released. |"
   ]
  },
  {
   "cell_type": "markdown",
   "metadata": {},
   "source": [
    "<center><img src=\"img/scipy-docs.png\" width=\"80%\"></center>"
   ]
  },
  {
   "cell_type": "code",
   "execution_count": 15,
   "metadata": {},
   "outputs": [
    {
     "data": {
      "text/plain": [
       "\u001b[0;31mType:\u001b[0m        module\n",
       "\u001b[0;31mString form:\u001b[0m <module 'scipy.stats' from '/home/jpivarski/miniconda3/lib/python3.7/site-packages/scipy/stats/__init__.py'>\n",
       "\u001b[0;31mFile:\u001b[0m        ~/miniconda3/lib/python3.7/site-packages/scipy/stats/__init__.py\n",
       "\u001b[0;31mDocstring:\u001b[0m  \n",
       "==========================================\n",
       "Statistical functions (:mod:`scipy.stats`)\n",
       "==========================================\n",
       "\n",
       ".. currentmodule:: scipy.stats\n",
       "\n",
       "This module contains a large number of probability distributions as\n",
       "well as a growing library of statistical functions.\n",
       "\n",
       "Each univariate distribution is an instance of a subclass of `rv_continuous`\n",
       "(`rv_discrete` for discrete distributions):\n",
       "\n",
       ".. autosummary::\n",
       "   :toctree: generated/\n",
       "\n",
       "   rv_continuous\n",
       "   rv_discrete\n",
       "   rv_histogram\n",
       "\n",
       "Continuous distributions\n",
       "========================\n",
       "\n",
       ".. autosummary::\n",
       "   :toctree: generated/\n",
       "\n",
       "   alpha             -- Alpha\n",
       "   anglit            -- Anglit\n",
       "   arcsine           -- Arcsine\n",
       "   argus             -- Argus\n",
       "   beta              -- Beta\n",
       "   betaprime         -- Beta Prime\n",
       "   bradford          -- Bradford\n",
       "   burr              -- Burr (Type III)\n",
       "   burr12            -- Burr (Type XII)\n",
       "   cauchy            -- Cauchy\n",
       "   chi               -- Chi\n",
       "   chi2              -- Chi-squared\n",
       "   cosine            -- Cosine\n",
       "   crystalball       -- Crystalball\n",
       "   dgamma            -- Double Gamma\n",
       "   dweibull          -- Double Weibull\n",
       "   erlang            -- Erlang\n",
       "   expon             -- Exponential\n",
       "   exponnorm         -- Exponentially Modified Normal\n",
       "   exponweib         -- Exponentiated Weibull\n",
       "   exponpow          -- Exponential Power\n",
       "   f                 -- F (Snecdor F)\n",
       "   fatiguelife       -- Fatigue Life (Birnbaum-Saunders)\n",
       "   fisk              -- Fisk\n",
       "   foldcauchy        -- Folded Cauchy\n",
       "   foldnorm          -- Folded Normal\n",
       "   frechet_r         -- Deprecated. Alias for weibull_min\n",
       "   frechet_l         -- Deprecated. Alias for weibull_max\n",
       "   genlogistic       -- Generalized Logistic\n",
       "   gennorm           -- Generalized normal\n",
       "   genpareto         -- Generalized Pareto\n",
       "   genexpon          -- Generalized Exponential\n",
       "   genextreme        -- Generalized Extreme Value\n",
       "   gausshyper        -- Gauss Hypergeometric\n",
       "   gamma             -- Gamma\n",
       "   gengamma          -- Generalized gamma\n",
       "   genhalflogistic   -- Generalized Half Logistic\n",
       "   gilbrat           -- Gilbrat\n",
       "   gompertz          -- Gompertz (Truncated Gumbel)\n",
       "   gumbel_r          -- Right Sided Gumbel, Log-Weibull, Fisher-Tippett, Extreme Value Type I\n",
       "   gumbel_l          -- Left Sided Gumbel, etc.\n",
       "   halfcauchy        -- Half Cauchy\n",
       "   halflogistic      -- Half Logistic\n",
       "   halfnorm          -- Half Normal\n",
       "   halfgennorm       -- Generalized Half Normal\n",
       "   hypsecant         -- Hyperbolic Secant\n",
       "   invgamma          -- Inverse Gamma\n",
       "   invgauss          -- Inverse Gaussian\n",
       "   invweibull        -- Inverse Weibull\n",
       "   johnsonsb         -- Johnson SB\n",
       "   johnsonsu         -- Johnson SU\n",
       "   kappa4            -- Kappa 4 parameter\n",
       "   kappa3            -- Kappa 3 parameter\n",
       "   ksone             -- Kolmogorov-Smirnov one-sided (no stats)\n",
       "   kstwobign         -- Kolmogorov-Smirnov two-sided test for Large N (no stats)\n",
       "   laplace           -- Laplace\n",
       "   levy              -- Levy\n",
       "   levy_l\n",
       "   levy_stable\n",
       "   logistic          -- Logistic\n",
       "   loggamma          -- Log-Gamma\n",
       "   loglaplace        -- Log-Laplace (Log Double Exponential)\n",
       "   lognorm           -- Log-Normal\n",
       "   lomax             -- Lomax (Pareto of the second kind)\n",
       "   maxwell           -- Maxwell\n",
       "   mielke            -- Mielke's Beta-Kappa\n",
       "   moyal             -- Moyal\n",
       "   nakagami          -- Nakagami\n",
       "   ncx2              -- Non-central chi-squared\n",
       "   ncf               -- Non-central F\n",
       "   nct               -- Non-central Student's T\n",
       "   norm              -- Normal (Gaussian)\n",
       "   norminvgauss      -- Normal Inverse Gaussian\n",
       "   pareto            -- Pareto\n",
       "   pearson3          -- Pearson type III\n",
       "   powerlaw          -- Power-function\n",
       "   powerlognorm      -- Power log normal\n",
       "   powernorm         -- Power normal\n",
       "   rdist             -- R-distribution\n",
       "   reciprocal        -- Reciprocal\n",
       "   rayleigh          -- Rayleigh\n",
       "   rice              -- Rice\n",
       "   recipinvgauss     -- Reciprocal Inverse Gaussian\n",
       "   semicircular      -- Semicircular\n",
       "   skewnorm          -- Skew normal\n",
       "   t                 -- Student's T\n",
       "   trapz              -- Trapezoidal\n",
       "   triang            -- Triangular\n",
       "   truncexpon        -- Truncated Exponential\n",
       "   truncnorm         -- Truncated Normal\n",
       "   tukeylambda       -- Tukey-Lambda\n",
       "   uniform           -- Uniform\n",
       "   vonmises          -- Von-Mises (Circular)\n",
       "   vonmises_line     -- Von-Mises (Line)\n",
       "   wald              -- Wald\n",
       "   weibull_min       -- Minimum Weibull (see Frechet)\n",
       "   weibull_max       -- Maximum Weibull (see Frechet)\n",
       "   wrapcauchy        -- Wrapped Cauchy\n",
       "\n",
       "Multivariate distributions\n",
       "==========================\n",
       "\n",
       ".. autosummary::\n",
       "   :toctree: generated/\n",
       "\n",
       "   multivariate_normal   -- Multivariate normal distribution\n",
       "   matrix_normal         -- Matrix normal distribution\n",
       "   dirichlet             -- Dirichlet\n",
       "   wishart               -- Wishart\n",
       "   invwishart            -- Inverse Wishart\n",
       "   multinomial           -- Multinomial distribution\n",
       "   special_ortho_group   -- SO(N) group\n",
       "   ortho_group           -- O(N) group\n",
       "   unitary_group         -- U(N) group\n",
       "   random_correlation    -- random correlation matrices\n",
       "\n",
       "Discrete distributions\n",
       "======================\n",
       "\n",
       ".. autosummary::\n",
       "   :toctree: generated/\n",
       "\n",
       "   bernoulli         -- Bernoulli\n",
       "   binom             -- Binomial\n",
       "   boltzmann         -- Boltzmann (Truncated Discrete Exponential)\n",
       "   dlaplace          -- Discrete Laplacian\n",
       "   geom              -- Geometric\n",
       "   hypergeom         -- Hypergeometric\n",
       "   logser            -- Logarithmic (Log-Series, Series)\n",
       "   nbinom            -- Negative Binomial\n",
       "   planck            -- Planck (Discrete Exponential)\n",
       "   poisson           -- Poisson\n",
       "   randint           -- Discrete Uniform\n",
       "   skellam           -- Skellam\n",
       "   zipf              -- Zipf\n",
       "   yulesimon         -- Yule-Simon\n",
       "\n",
       "An overview of statistical functions is given below.\n",
       "Several of these functions have a similar version in\n",
       "`scipy.stats.mstats` which work for masked arrays.\n",
       "\n",
       "Summary statistics\n",
       "==================\n",
       "\n",
       ".. autosummary::\n",
       "   :toctree: generated/\n",
       "\n",
       "   describe          -- Descriptive statistics\n",
       "   gmean             -- Geometric mean\n",
       "   hmean             -- Harmonic mean\n",
       "   kurtosis          -- Fisher or Pearson kurtosis\n",
       "   mode              -- Modal value\n",
       "   moment            -- Central moment\n",
       "   skew              -- Skewness\n",
       "   kstat             --\n",
       "   kstatvar          --\n",
       "   tmean             -- Truncated arithmetic mean\n",
       "   tvar              -- Truncated variance\n",
       "   tmin              --\n",
       "   tmax              --\n",
       "   tstd              --\n",
       "   tsem              --\n",
       "   variation         -- Coefficient of variation\n",
       "   find_repeats\n",
       "   trim_mean\n",
       "   gstd              -- Geometric Standard Deviation\n",
       "   iqr\n",
       "   sem\n",
       "   bayes_mvs\n",
       "   mvsdist\n",
       "   entropy\n",
       "   median_absolute_deviation\n",
       "\n",
       "Frequency statistics\n",
       "====================\n",
       "\n",
       ".. autosummary::\n",
       "   :toctree: generated/\n",
       "\n",
       "   cumfreq\n",
       "   itemfreq\n",
       "   percentileofscore\n",
       "   scoreatpercentile\n",
       "   relfreq\n",
       "\n",
       ".. autosummary::\n",
       "   :toctree: generated/\n",
       "\n",
       "   binned_statistic     -- Compute a binned statistic for a set of data.\n",
       "   binned_statistic_2d  -- Compute a 2-D binned statistic for a set of data.\n",
       "   binned_statistic_dd  -- Compute a d-D binned statistic for a set of data.\n",
       "\n",
       "Correlation functions\n",
       "=====================\n",
       "\n",
       ".. autosummary::\n",
       "   :toctree: generated/\n",
       "\n",
       "   f_oneway\n",
       "   pearsonr\n",
       "   spearmanr\n",
       "   pointbiserialr\n",
       "   kendalltau\n",
       "   weightedtau\n",
       "   linregress\n",
       "   siegelslopes\n",
       "   theilslopes\n",
       "\n",
       "Statistical tests\n",
       "=================\n",
       "\n",
       ".. autosummary::\n",
       "   :toctree: generated/\n",
       "\n",
       "   ttest_1samp\n",
       "   ttest_ind\n",
       "   ttest_ind_from_stats\n",
       "   ttest_rel\n",
       "   kstest\n",
       "   chisquare\n",
       "   power_divergence\n",
       "   ks_2samp\n",
       "   epps_singleton_2samp\n",
       "   mannwhitneyu\n",
       "   tiecorrect\n",
       "   rankdata\n",
       "   ranksums\n",
       "   wilcoxon\n",
       "   kruskal\n",
       "   friedmanchisquare\n",
       "   brunnermunzel\n",
       "   combine_pvalues\n",
       "   jarque_bera\n",
       "\n",
       ".. autosummary::\n",
       "   :toctree: generated/\n",
       "\n",
       "   ansari\n",
       "   bartlett\n",
       "   levene\n",
       "   shapiro\n",
       "   anderson\n",
       "   anderson_ksamp\n",
       "   binom_test\n",
       "   fligner\n",
       "   median_test\n",
       "   mood\n",
       "   skewtest\n",
       "   kurtosistest\n",
       "   normaltest\n",
       "\n",
       "Transformations\n",
       "===============\n",
       "\n",
       ".. autosummary::\n",
       "   :toctree: generated/\n",
       "\n",
       "   boxcox\n",
       "   boxcox_normmax\n",
       "   boxcox_llf\n",
       "   yeojohnson\n",
       "   yeojohnson_normmax\n",
       "   yeojohnson_llf\n",
       "   obrientransform\n",
       "   sigmaclip\n",
       "   trimboth\n",
       "   trim1\n",
       "   zmap\n",
       "   zscore\n",
       "\n",
       "Statistical distances\n",
       "=====================\n",
       "\n",
       ".. autosummary::\n",
       "   :toctree: generated/\n",
       "\n",
       "   wasserstein_distance\n",
       "   energy_distance\n",
       "\n",
       "Random variate generation\n",
       "=========================\n",
       "\n",
       ".. autosummary::\n",
       "   :toctree: generated/\n",
       "\n",
       "   rvs_ratio_uniforms\n",
       "\n",
       "Circular statistical functions\n",
       "==============================\n",
       "\n",
       ".. autosummary::\n",
       "   :toctree: generated/\n",
       "\n",
       "   circmean\n",
       "   circvar\n",
       "   circstd\n",
       "\n",
       "Contingency table functions\n",
       "===========================\n",
       "\n",
       ".. autosummary::\n",
       "   :toctree: generated/\n",
       "\n",
       "   chi2_contingency\n",
       "   contingency.expected_freq\n",
       "   contingency.margins\n",
       "   fisher_exact\n",
       "\n",
       "Plot-tests\n",
       "==========\n",
       "\n",
       ".. autosummary::\n",
       "   :toctree: generated/\n",
       "\n",
       "   ppcc_max\n",
       "   ppcc_plot\n",
       "   probplot\n",
       "   boxcox_normplot\n",
       "   yeojohnson_normplot\n",
       "\n",
       "\n",
       "Masked statistics functions\n",
       "===========================\n",
       "\n",
       ".. toctree::\n",
       "\n",
       "   stats.mstats\n",
       "\n",
       "\n",
       "Univariate and multivariate kernel density estimation\n",
       "=====================================================\n",
       "\n",
       ".. autosummary::\n",
       "   :toctree: generated/\n",
       "\n",
       "   gaussian_kde\n",
       "\n",
       "Warnings used in :mod:`scipy.stats`\n",
       "===================================\n",
       "\n",
       ".. autosummary::\n",
       "   :toctree: generated/\n",
       "\n",
       "   PearsonRConstantInputWarning\n",
       "   PearsonRNearConstantInputWarning\n",
       "\n",
       "For many more stat related functions install the software R and the\n",
       "interface package rpy.\n"
      ]
     },
     "metadata": {},
     "output_type": "display_data"
    }
   ],
   "source": [
    "import scipy.stats\n",
    "\n",
    "?scipy.stats"
   ]
  },
  {
   "cell_type": "code",
   "execution_count": 16,
   "metadata": {},
   "outputs": [
    {
     "data": {
      "text/plain": [
       "\u001b[0;31mSignature:\u001b[0m       \u001b[0mscipy\u001b[0m\u001b[0;34m.\u001b[0m\u001b[0mstats\u001b[0m\u001b[0;34m.\u001b[0m\u001b[0mcrystalball\u001b[0m\u001b[0;34m(\u001b[0m\u001b[0;34m*\u001b[0m\u001b[0margs\u001b[0m\u001b[0;34m,\u001b[0m \u001b[0;34m**\u001b[0m\u001b[0mkwds\u001b[0m\u001b[0;34m)\u001b[0m\u001b[0;34m\u001b[0m\u001b[0;34m\u001b[0m\u001b[0m\n",
       "\u001b[0;31mType:\u001b[0m            crystalball_gen\n",
       "\u001b[0;31mString form:\u001b[0m     <scipy.stats._continuous_distns.crystalball_gen object at 0x7bac251fd9b0>\n",
       "\u001b[0;31mFile:\u001b[0m            ~/miniconda3/lib/python3.7/site-packages/scipy/stats/_continuous_distns.py\n",
       "\u001b[0;31mDocstring:\u001b[0m      \n",
       "Crystalball distribution\n",
       "\n",
       "As an instance of the `rv_continuous` class, `crystalball` object inherits from it\n",
       "a collection of generic methods (see below for the full list),\n",
       "and completes them with details specific for this particular distribution.\n",
       "\n",
       "Methods\n",
       "-------\n",
       "rvs(beta, m, loc=0, scale=1, size=1, random_state=None)\n",
       "    Random variates.\n",
       "pdf(x, beta, m, loc=0, scale=1)\n",
       "    Probability density function.\n",
       "logpdf(x, beta, m, loc=0, scale=1)\n",
       "    Log of the probability density function.\n",
       "cdf(x, beta, m, loc=0, scale=1)\n",
       "    Cumulative distribution function.\n",
       "logcdf(x, beta, m, loc=0, scale=1)\n",
       "    Log of the cumulative distribution function.\n",
       "sf(x, beta, m, loc=0, scale=1)\n",
       "    Survival function  (also defined as ``1 - cdf``, but `sf` is sometimes more accurate).\n",
       "logsf(x, beta, m, loc=0, scale=1)\n",
       "    Log of the survival function.\n",
       "ppf(q, beta, m, loc=0, scale=1)\n",
       "    Percent point function (inverse of ``cdf`` --- percentiles).\n",
       "isf(q, beta, m, loc=0, scale=1)\n",
       "    Inverse survival function (inverse of ``sf``).\n",
       "moment(n, beta, m, loc=0, scale=1)\n",
       "    Non-central moment of order n\n",
       "stats(beta, m, loc=0, scale=1, moments='mv')\n",
       "    Mean('m'), variance('v'), skew('s'), and/or kurtosis('k').\n",
       "entropy(beta, m, loc=0, scale=1)\n",
       "    (Differential) entropy of the RV.\n",
       "fit(data, beta, m, loc=0, scale=1)\n",
       "    Parameter estimates for generic data.\n",
       "expect(func, args=(beta, m), loc=0, scale=1, lb=None, ub=None, conditional=False, **kwds)\n",
       "    Expected value of a function (of one argument) with respect to the distribution.\n",
       "median(beta, m, loc=0, scale=1)\n",
       "    Median of the distribution.\n",
       "mean(beta, m, loc=0, scale=1)\n",
       "    Mean of the distribution.\n",
       "var(beta, m, loc=0, scale=1)\n",
       "    Variance of the distribution.\n",
       "std(beta, m, loc=0, scale=1)\n",
       "    Standard deviation of the distribution.\n",
       "interval(alpha, beta, m, loc=0, scale=1)\n",
       "    Endpoints of the range that contains alpha percent of the distribution\n",
       "\n",
       "Notes\n",
       "-----\n",
       "The probability density function for `crystalball` is:\n",
       "\n",
       ".. math::\n",
       "\n",
       "    f(x, \\beta, m) =  \\begin{cases}\n",
       "                        N \\exp(-x^2 / 2),  &\\text{for } x > -\\beta\\\\\n",
       "                        N A (B - x)^{-m}  &\\text{for } x \\le -\\beta\n",
       "                      \\end{cases}\n",
       "\n",
       "where :math:`A = (m / |\\beta|)^n  \\exp(-\\beta^2 / 2)`,\n",
       ":math:`B = m/|\\beta| - |\\beta|` and :math:`N` is a normalisation constant.\n",
       "\n",
       "`crystalball` takes :math:`\\beta > 0` and :math:`m > 1` as shape\n",
       "parameters.  :math:`\\beta` defines the point where the pdf changes\n",
       "from a power-law to a Gaussian distribution.  :math:`m` is the power\n",
       "of the power-law tail.\n",
       "\n",
       "References\n",
       "----------\n",
       ".. [1] \"Crystal Ball Function\",\n",
       "       https://en.wikipedia.org/wiki/Crystal_Ball_function\n",
       "\n",
       "The probability density above is defined in the \"standardized\" form. To shift\n",
       "and/or scale the distribution use the ``loc`` and ``scale`` parameters.\n",
       "Specifically, ``crystalball.pdf(x, beta, m, loc, scale)`` is identically\n",
       "equivalent to ``crystalball.pdf(y, beta, m) / scale`` with\n",
       "``y = (x - loc) / scale``.\n",
       "\n",
       ".. versionadded:: 0.19.0\n",
       "\n",
       "Examples\n",
       "--------\n",
       ">>> from scipy.stats import crystalball\n",
       ">>> import matplotlib.pyplot as plt\n",
       ">>> fig, ax = plt.subplots(1, 1)\n",
       "\n",
       "Calculate a few first moments:\n",
       "\n",
       ">>> beta, m = 2, 3\n",
       ">>> mean, var, skew, kurt = crystalball.stats(beta, m, moments='mvsk')\n",
       "\n",
       "Display the probability density function (``pdf``):\n",
       "\n",
       ">>> x = np.linspace(crystalball.ppf(0.01, beta, m),\n",
       "...                 crystalball.ppf(0.99, beta, m), 100)\n",
       ">>> ax.plot(x, crystalball.pdf(x, beta, m),\n",
       "...        'r-', lw=5, alpha=0.6, label='crystalball pdf')\n",
       "\n",
       "Alternatively, the distribution object can be called (as a function)\n",
       "to fix the shape, location and scale parameters. This returns a \"frozen\"\n",
       "RV object holding the given parameters fixed.\n",
       "\n",
       "Freeze the distribution and display the frozen ``pdf``:\n",
       "\n",
       ">>> rv = crystalball(beta, m)\n",
       ">>> ax.plot(x, rv.pdf(x), 'k-', lw=2, label='frozen pdf')\n",
       "\n",
       "Check accuracy of ``cdf`` and ``ppf``:\n",
       "\n",
       ">>> vals = crystalball.ppf([0.001, 0.5, 0.999], beta, m)\n",
       ">>> np.allclose([0.001, 0.5, 0.999], crystalball.cdf(vals, beta, m))\n",
       "True\n",
       "\n",
       "Generate random numbers:\n",
       "\n",
       ">>> r = crystalball.rvs(beta, m, size=1000)\n",
       "\n",
       "And compare the histogram:\n",
       "\n",
       ">>> ax.hist(r, density=True, histtype='stepfilled', alpha=0.2)\n",
       ">>> ax.legend(loc='best', frameon=False)\n",
       ">>> plt.show()\n",
       "\u001b[0;31mClass docstring:\u001b[0m\n",
       "Crystalball distribution\n",
       "\n",
       "%(before_notes)s\n",
       "\n",
       "Notes\n",
       "-----\n",
       "The probability density function for `crystalball` is:\n",
       "\n",
       ".. math::\n",
       "\n",
       "    f(x, \\beta, m) =  \\begin{cases}\n",
       "                        N \\exp(-x^2 / 2),  &\\text{for } x > -\\beta\\\\\n",
       "                        N A (B - x)^{-m}  &\\text{for } x \\le -\\beta\n",
       "                      \\end{cases}\n",
       "\n",
       "where :math:`A = (m / |\\beta|)^n  \\exp(-\\beta^2 / 2)`,\n",
       ":math:`B = m/|\\beta| - |\\beta|` and :math:`N` is a normalisation constant.\n",
       "\n",
       "`crystalball` takes :math:`\\beta > 0` and :math:`m > 1` as shape\n",
       "parameters.  :math:`\\beta` defines the point where the pdf changes\n",
       "from a power-law to a Gaussian distribution.  :math:`m` is the power\n",
       "of the power-law tail.\n",
       "\n",
       "References\n",
       "----------\n",
       ".. [1] \"Crystal Ball Function\",\n",
       "       https://en.wikipedia.org/wiki/Crystal_Ball_function\n",
       "\n",
       "%(after_notes)s\n",
       "\n",
       ".. versionadded:: 0.19.0\n",
       "\n",
       "%(example)s\n",
       "\u001b[0;31mCall docstring:\u001b[0m \n",
       "Freeze the distribution for the given arguments.\n",
       "\n",
       "Parameters\n",
       "----------\n",
       "arg1, arg2, arg3,... : array_like\n",
       "    The shape parameter(s) for the distribution.  Should include all\n",
       "    the non-optional arguments, may include ``loc`` and ``scale``.\n",
       "\n",
       "Returns\n",
       "-------\n",
       "rv_frozen : rv_frozen instance\n",
       "    The frozen distribution.\n"
      ]
     },
     "metadata": {},
     "output_type": "display_data"
    }
   ],
   "source": [
    "?scipy.stats.crystalball"
   ]
  },
  {
   "cell_type": "code",
   "execution_count": 17,
   "metadata": {},
   "outputs": [
    {
     "data": {
      "image/png": "[encoded data removed]",
      "text/plain": [
       "<Figure size 432x288 with 1 Axes>"
      ]
     },
     "metadata": {
      "needs_background": "light"
     },
     "output_type": "display_data"
    }
   ],
   "source": [
    "x = numpy.linspace(-10, 10, 100)\n",
    "y = scipy.stats.crystalball.pdf(x, beta=0.5, m=3)     # logpdf, cdf\n",
    "\n",
    "matplotlib.pyplot.plot(x, y);"
   ]
  },
  {
   "cell_type": "code",
   "execution_count": 18,
   "metadata": {},
   "outputs": [
    {
     "data": {
      "text/plain": [
       "array([-1.72036316e+01,  8.08046936e-01, -1.85733936e+00,  4.92263362e-01,\n",
       "        9.26366172e-01, -2.30836227e+00,  3.53437752e-01, -3.06067775e+00,\n",
       "        6.25901639e-01, -1.98501416e+00, -1.65142187e+00, -2.32275116e+00,\n",
       "       -1.13710699e+00,  9.74515753e-01,  7.30925579e-01, -1.94252669e+00,\n",
       "        2.52104159e-01,  5.55644666e-01, -8.07996359e-01, -2.37753843e+00,\n",
       "       -2.12872716e-01, -1.07055842e+00, -1.56621942e+01, -1.09019963e+01,\n",
       "       -6.11083898e-01,  4.79215244e-01,  1.47046094e-01, -4.08126405e+00,\n",
       "        2.60885207e+00, -2.56094530e+00, -4.06260669e+00, -1.54755267e+00,\n",
       "       -1.56129861e+01, -1.23503207e+00, -2.25302859e-01, -5.39692288e+00,\n",
       "       -2.36934865e-01, -1.75495408e+01, -1.26322186e+00, -1.33856836e+00,\n",
       "        1.09404787e+00, -1.80016059e+00, -5.47083935e+00,  1.21128752e+00,\n",
       "       -1.82189576e+01, -9.57065851e+00,  1.60510335e+00, -1.41054435e+00,\n",
       "       -2.35430517e+01, -3.53365890e+00,  1.75647790e+00, -1.87391280e-01,\n",
       "       -1.65269893e+00, -1.24646486e+00, -3.94539426e+00, -2.57658388e+00,\n",
       "       -1.93698472e+00,  1.81725860e-01, -4.58399377e+00,  6.90758263e-01,\n",
       "       -1.40988079e+01, -3.50244338e+00, -5.51065848e+00, -1.52073272e+00,\n",
       "       -1.18663473e+00, -6.52656783e-01, -2.66729423e+00,  6.19624312e-01,\n",
       "        5.87346526e-01, -2.00042987e+00,  4.19934873e-01, -1.55030482e+00,\n",
       "       -4.53681076e+00, -7.91291334e-01,  8.89009838e-02, -1.27578129e+01,\n",
       "       -1.28809124e-01,  1.00813696e+00,  6.43392989e-01,  6.41014979e-01,\n",
       "       -9.54164283e-02,  1.74830053e+00, -2.41956022e-01, -6.02941882e-01,\n",
       "        5.58732476e-01, -3.11811973e+00, -1.63846146e+00, -2.60071844e-01,\n",
       "       -7.33355962e-01, -2.48259431e+00, -2.43315974e+01,  1.38132112e+00,\n",
       "        1.11717752e+00, -2.59411577e-01,  1.77778178e+00,  1.92490820e+00,\n",
       "       -2.36974128e+01, -9.55416851e-01,  2.06495392e-02, -2.03704221e+00,\n",
       "       -1.19138497e+00, -1.44802491e+01,  6.76061764e-01, -4.18163610e+00,\n",
       "       -8.18957317e-01, -4.39197834e-01,  5.56253128e-01, -8.67204881e+00,\n",
       "       -2.85115645e+00, -4.89610733e-01,  1.43292129e-02, -4.54182909e-01,\n",
       "        5.93400554e-01, -8.02320949e-01,  5.90264623e-01, -2.86333923e+00,\n",
       "       -2.16045552e+00, -2.14086445e+00, -3.44773628e+00,  7.30684219e-01,\n",
       "       -2.46821632e+01, -1.89717911e+00, -1.91739488e+00, -7.70946573e+00,\n",
       "        1.56744089e+00, -7.42202995e-01, -2.29805460e+00,  1.74907827e-01,\n",
       "       -8.06077490e-01,  1.09838066e+00,  4.09597395e-01, -7.07989849e-01,\n",
       "       -3.80886564e+00,  1.86737963e+00,  9.80719789e-01,  3.05989871e-01,\n",
       "        3.96786545e-01, -9.84009814e-01, -1.47570056e+00,  3.53944480e-01,\n",
       "       -3.44784052e+00, -2.63769097e+00, -1.09449956e+01, -1.13085494e+01,\n",
       "        4.52910554e-02, -3.19893393e+00, -2.20834201e+00,  1.26990344e+00,\n",
       "       -8.11433322e-02,  8.95251380e-01, -5.68122808e+00, -3.16998133e+01,\n",
       "       -2.22759739e+00, -1.17568603e+00, -1.19542282e+01, -2.62333068e+00,\n",
       "        2.55875042e-01,  5.52799223e-01, -3.67809064e+00, -4.42202922e+00,\n",
       "       -2.65127752e+00,  1.73954654e+00, -2.94703557e-01,  6.85593561e-01,\n",
       "       -5.33742980e+00,  1.49698903e+00, -3.74534773e+00, -5.50577516e+00,\n",
       "       -1.30236817e+00,  5.77432938e-01, -1.05075835e+00,  6.42556367e-01,\n",
       "       -4.95717517e+00,  6.26634167e-01, -4.80193323e-01,  2.15373438e+00,\n",
       "       -1.13172943e-02, -2.82790932e+01,  1.30813228e+00, -4.00503138e+00,\n",
       "        2.20833946e+00,  8.06639160e-01,  5.12926557e-01, -3.04599866e+01,\n",
       "       -1.49028926e+00, -2.32230002e+00, -1.25169845e+00, -2.99097189e+00,\n",
       "        1.89581704e-01, -1.54729687e+00,  3.10748851e+00, -1.77112270e-01,\n",
       "        1.90239525e+00, -8.51108991e-01, -1.93389573e+00, -4.28148696e+00,\n",
       "       -3.10901963e-01, -6.34479786e+00, -1.24638023e+01,  1.24710639e-01])"
      ]
     },
     "execution_count": 18,
     "metadata": {},
     "output_type": "execute_result"
    }
   ],
   "source": [
    "scipy.stats.crystalball.rvs(beta=0.5, m=3, size=200)"
   ]
  },
  {
   "cell_type": "code",
   "execution_count": 19,
   "metadata": {},
   "outputs": [
    {
     "data": {
      "image/png": "[encoded data removed]",
      "text/plain": [
       "<Figure size 432x288 with 1 Axes>"
      ]
     },
     "metadata": {
      "needs_background": "light"
     },
     "output_type": "display_data"
    }
   ],
   "source": [
    "masses = uproot.open(\"data/Zmumu.root\")[\"events\"].array(\"M\")\n",
    "\n",
    "y, edges = numpy.histogram(masses, bins=100)\n",
    "yerr = numpy.sqrt(y)\n",
    "\n",
    "# the middle of each bin\n",
    "x = (edges[1:] + edges[:-1])/2\n",
    "\n",
    "matplotlib.pyplot.errorbar(x, y, yerr, fmt=\"o\", capsize=3);"
   ]
  },
  {
   "cell_type": "code",
   "execution_count": 20,
   "metadata": {},
   "outputs": [
    {
     "data": {
      "image/png": "[encoded data removed]",
      "text/plain": [
       "<Figure size 432x288 with 1 Axes>"
      ]
     },
     "metadata": {
      "needs_background": "light"
     },
     "output_type": "display_data"
    }
   ],
   "source": [
    "import scipy.optimize\n",
    "\n",
    "def f(x, a, b, c, d):\n",
    "    return a*scipy.stats.cauchy.pdf(x, b, c) + d/x**2\n",
    "\n",
    "parameters, errors = scipy.optimize.curve_fit(f, x[y > 0], y[y > 0], sigma=yerr[y > 0])  # exclude y == 0\n",
    "\n",
    "matplotlib.pyplot.plot(x, f(x, *parameters))\n",
    "matplotlib.pyplot.errorbar(x, y, yerr, fmt=\"o\", capsize=3);"
   ]
  },
  {
   "cell_type": "markdown",
   "metadata": {},
   "source": [
    "<br><br><br><br><br>\n",
    "\n",
    "<p style=\"font-size: 1.25em\"><b>Five minute challenge:</b> using only commands from the previous cell, plot the fit residuals.</p>\n",
    "\n",
    "<br><br><br><br><br>"
   ]
  },
  {
   "cell_type": "markdown",
   "metadata": {},
   "source": [
    "<img src=\"img/iminuit.png\" width=\"100%\">"
   ]
  },
  {
   "cell_type": "code",
   "execution_count": 21,
   "metadata": {},
   "outputs": [
    {
     "data": {
      "image/png": "[encoded data removed]",
      "text/plain": [
       "<Figure size 432x288 with 1 Axes>"
      ]
     },
     "metadata": {
      "needs_background": "light"
     },
     "output_type": "display_data"
    }
   ],
   "source": [
    "import iminuit\n",
    "\n",
    "def chi2(a, b, c, d):\n",
    "    return ((y[y > 0] - f(x[y > 0], a, b, c, d))**2 / yerr[y > 0]**2).sum()\n",
    "\n",
    "m = iminuit.Minuit(chi2, errordef=1,\n",
    "                   a=3350, b=91, c=2, d=30,\n",
    "                   error_a=100, error_b=1, error_c=0.1, error_d=10)\n",
    "m.migrad()\n",
    "m.hesse()\n",
    "m.minos()\n",
    "m.draw_mncontour(\"a\", \"b\", nsigma=4);"
   ]
  },
  {
   "cell_type": "markdown",
   "metadata": {},
   "source": [
    "<br><br><br>\n",
    "\n",
    "<center><img src=\"img/scikit-learn-logo.png\" width=\"40%\"></center>\n",
    "\n",
    "<br><br><br>"
   ]
  },
  {
   "cell_type": "markdown",
   "metadata": {},
   "source": [
    "<br><br><br>\n",
    "\n",
    "<p style=\"font-size: 1.25em\">To branch out in a modular way, SciPy introduced the idea of \"SciKits\"—separate packages from SciPy that have a similar interface.</p>\n",
    "\n",
    "<br>\n",
    "\n",
    "<p style=\"font-size: 1.25em\">The most famous of these is Scikit-Learn, a package that gathered all machine learning algorithms under one roof—just before the deep learning revolution...</p>\n",
    "\n",
    "\n",
    "<br><br><br>"
   ]
  },
  {
   "cell_type": "markdown",
   "metadata": {},
   "source": [
    "<img src=\"img/scikit-learn-estimators.png\" width=\"100%\">"
   ]
  },
  {
   "cell_type": "code",
   "execution_count": 22,
   "metadata": {},
   "outputs": [
    {
     "data": {
      "image/png": "[encoded data removed]",
      "text/plain": [
       "<Figure size 432x288 with 1 Axes>"
      ]
     },
     "metadata": {
      "needs_background": "light"
     },
     "output_type": "display_data"
    }
   ],
   "source": [
    "import sklearn.datasets\n",
    "X1, y1 = sklearn.datasets.make_gaussian_quantiles(\n",
    "    cov=2.0, n_samples=800, n_features=2, n_classes=2, random_state=1)\n",
    "X2, y2 = sklearn.datasets.make_gaussian_quantiles(\n",
    "    mean=(3, 3), cov=1.5, n_samples=1200, n_features=2, n_classes=2, random_state=1)\n",
    "X = numpy.concatenate((X1, X2))\n",
    "y = numpy.concatenate((y1, -y2 + 1))\n",
    "\n",
    "# Example of a hard classification problem.\n",
    "matplotlib.pyplot.scatter(X[y == 0, 0], X[y == 0, 1], c=\"deepskyblue\", edgecolor=\"k\");\n",
    "matplotlib.pyplot.scatter(X[y == 1, 0], X[y == 1, 1], c=\"orange\", edgecolor=\"k\");"
   ]
  },
  {
   "cell_type": "code",
   "execution_count": 23,
   "metadata": {},
   "outputs": [
    {
     "name": "stdout",
     "output_type": "stream",
     "text": [
      "predictions:\n",
      " [0 1 1 ... 0 0 1]\n",
      "truth:\n",
      " [0 1 1 ... 0 0 1]\n"
     ]
    }
   ],
   "source": [
    "import sklearn.tree\n",
    "\n",
    "# Example model: decision tree classifier\n",
    "model = sklearn.tree.DecisionTreeClassifier(max_depth=10)\n",
    "\n",
    "# Consistent interface: nearly every model has a fit method with this signature\n",
    "model.fit(X, y)\n",
    "\n",
    "print(\"predictions:\\n\", model.predict(X))\n",
    "print(\"truth:\\n\", y)"
   ]
  },
  {
   "cell_type": "code",
   "execution_count": 24,
   "metadata": {},
   "outputs": [
    {
     "name": "stdout",
     "output_type": "stream",
     "text": [
      "predictions:\n",
      " [0 1 0 ... 1 1 1]\n",
      "truth:\n",
      " [0 1 1 ... 0 0 1]\n"
     ]
    }
   ],
   "source": [
    "import sklearn.ensemble\n",
    "\n",
    "# Another model: boosted decision tree\n",
    "model = sklearn.ensemble.AdaBoostClassifier(\n",
    "    sklearn.tree.DecisionTreeClassifier(max_depth=2), algorithm=\"SAMME\", n_estimators=100)\n",
    "\n",
    "model.fit(X, y)\n",
    "\n",
    "print(\"predictions:\\n\", model.predict(X))\n",
    "print(\"truth:\\n\", y)"
   ]
  },
  {
   "cell_type": "code",
   "execution_count": 25,
   "metadata": {},
   "outputs": [
    {
     "data": {
      "image/png": "[encoded data removed]",
      "text/plain": [
       "<Figure size 432x288 with 1 Axes>"
      ]
     },
     "metadata": {
      "needs_background": "light"
     },
     "output_type": "display_data"
    }
   ],
   "source": [
    "xx, yy = numpy.meshgrid(numpy.arange(-5, 8, 0.02), numpy.arange(-5, 8, 0.02))\n",
    "Z = model.predict(numpy.c_[xx.ravel(), yy.ravel()])\n",
    "Z = Z.reshape(xx.shape)\n",
    "\n",
    "# Overlay the training points on the decision boundary.\n",
    "matplotlib.pyplot.contourf(xx, yy, Z);\n",
    "matplotlib.pyplot.scatter(X[y == 0, 0], X[y == 0, 1], c=\"deepskyblue\", edgecolor=\"k\", alpha=0.2);\n",
    "matplotlib.pyplot.scatter(X[y == 1, 0], X[y == 1, 1], c=\"orange\", edgecolor=\"k\", alpha=0.2);\n",
    "matplotlib.pyplot.xlim(-5, 8);\n",
    "matplotlib.pyplot.ylim(-5, 8);"
   ]
  },
  {
   "cell_type": "markdown",
   "metadata": {},
   "source": [
    "<br><br><br>\n",
    "\n",
    "<p style=\"font-size: 1.25em\">Notice that we have the same Numpy interfaces everywhere, and everything acts one array at a time, rather than one value at a time.</p>\n",
    "\n",
    "<br>\n",
    "\n",
    "<p style=\"font-size: 1.25em\">The new deep learning frameworks define their own array types (e.g. PyTorch tensors, TensorFlow tensors), but these are very similar to Numpy arrays, with the addition that they can move data to and from GPUs.</p>\n",
    "\n",
    "<br><br><br>"
   ]
  },
  {
   "cell_type": "markdown",
   "metadata": {},
   "source": [
    "<img src=\"img/scikit-hep-page.png\" width=\"100%\">"
   ]
  },
  {
   "cell_type": "markdown",
   "metadata": {},
   "source": [
    "<br><br><br>\n",
    "\n",
    "<p style=\"font-size: 1.25em\"><b>Example 1:</b> pyjet, a Numpythonic wrapper for FastJet</p>\n",
    "\n",
    "<br><br><br>"
   ]
  },
  {
   "cell_type": "code",
   "execution_count": 26,
   "metadata": {},
   "outputs": [
    {
     "data": {
      "text/plain": [
       "array([(0.08220963, 0.01673939, -0.07650449,  0.02500557),\n",
       "       (0.61890405, 0.55747803, -0.0677895 ,  0.26012509),\n",
       "       (0.36398172, 0.01831549,  0.30128464, -0.20340796),\n",
       "       (0.36103217, 0.05255898, -0.34410183,  0.09578994),\n",
       "       (0.36571832, 0.07214153,  0.29491113, -0.20389436)],\n",
       "      dtype=[('E', '<f8'), ('px', '<f8'), ('py', '<f8'), ('pz', '<f8')])"
      ]
     },
     "execution_count": 26,
     "metadata": {},
     "output_type": "execute_result"
    }
   ],
   "source": [
    "# First, make a fake-o Monte Carlo: three clusters at specified central values\n",
    "fourvectors = numpy.empty(1000, dtype=[(\"E\", float), (\"px\", float),\n",
    "                                       (\"py\", float), (\"pz\", float)])\n",
    "indexes = numpy.random.randint(0, 3, 1000)\n",
    "\n",
    "#                        i   pt   eta    phi\n",
    "for i, pt, eta, phi in [(0, 0.5,  0.5,     0),   # cluster center 0\n",
    "                        (1, 0.2, -0.8,  1.57),   # cluster center 1\n",
    "                        (2, 0.1,  0.3, -1.57)]:  # cluster center 2\n",
    "    this = (indexes == i)\n",
    "    pt = abs(numpy.random.normal(pt, 0.1, this.sum()))\n",
    "    eta = numpy.random.normal(eta, 0.03, this.sum())\n",
    "    phi = numpy.random.normal(phi, 0.3, this.sum())\n",
    "    fourvectors[\"px\"][this] = px = (pt*numpy.cos(phi)*numpy.cosh(eta))\n",
    "    fourvectors[\"py\"][this] = py = (pt*numpy.sin(phi)*numpy.cosh(eta))\n",
    "    fourvectors[\"pz\"][this] = pz = (pt*numpy.sinh(eta))\n",
    "    fourvectors[\"E\"][this]  = numpy.sqrt(px**2 + py**2 + pz**2)\n",
    "\n",
    "fourvectors[:5]"
   ]
  },
  {
   "cell_type": "code",
   "execution_count": 27,
   "metadata": {},
   "outputs": [
    {
     "data": {
      "text/plain": [
       "[PseudoJet(pt=181.662, eta=0.468, phi=-0.023, mass=57.542),\n",
       " PseudoJet(pt=89.711, eta=-0.648, phi=1.599, mass=27.572),\n",
       " PseudoJet(pt=33.540, eta=0.299, phi=-1.565, mass=9.122),\n",
       " PseudoJet(pt=0.388, eta=-0.627, phi=2.701, mass=0.000),\n",
       " PseudoJet(pt=0.198, eta=-0.628, phi=0.592, mass=0.000)]"
      ]
     },
     "execution_count": 27,
     "metadata": {},
     "output_type": "execute_result"
    }
   ],
   "source": [
    "import pyjet\n",
    "\n",
    "# This is FastJet, running in C++.\n",
    "# \n",
    "# By passing all particles, array-at-a-time, we avoid Python's slowness.\n",
    "\n",
    "clustering = pyjet.cluster(fourvectors, R=1.0, p=-1, ep=True)\n",
    "clustering.inclusive_jets()"
   ]
  },
  {
   "cell_type": "markdown",
   "metadata": {},
   "source": [
    "<br><br><br>\n",
    "\n",
    "<p style=\"font-size: 1.25em\"><b>Example 2:</b> particle, an interface to Particle Data Tables</p>\n",
    "\n",
    "<br><br><br>"
   ]
  },
  {
   "cell_type": "code",
   "execution_count": 28,
   "metadata": {},
   "outputs": [
    {
     "data": {
      "text/latex": [
       "$\\Sigma^{-}$"
      ],
      "text/plain": [
       "<IPython.core.display.Latex object>"
      ]
     },
     "metadata": {},
     "output_type": "display_data"
    },
    {
     "name": "stdout",
     "output_type": "stream",
     "text": [
      "<Particle: name=\"Sigma-\", pdgid=3112, mass=1197.45 ± 0.03 MeV>\n",
      "\n"
     ]
    },
    {
     "data": {
      "text/latex": [
       "$\\bar{\\Sigma}^{+}$"
      ],
      "text/plain": [
       "<IPython.core.display.Latex object>"
      ]
     },
     "metadata": {},
     "output_type": "display_data"
    },
    {
     "name": "stdout",
     "output_type": "stream",
     "text": [
      "<Particle: name=\"Sigma~+\", pdgid=-3112, mass=1197.45 ± 0.03 MeV>\n",
      "\n"
     ]
    },
    {
     "data": {
      "text/latex": [
       "$\\Lambda$"
      ],
      "text/plain": [
       "<IPython.core.display.Latex object>"
      ]
     },
     "metadata": {},
     "output_type": "display_data"
    },
    {
     "name": "stdout",
     "output_type": "stream",
     "text": [
      "<Particle: name=\"Lambda\", pdgid=3122, mass=1115.683 ± 0.006 MeV>\n",
      "\n"
     ]
    },
    {
     "data": {
      "text/latex": [
       "$\\bar{\\Lambda}$"
      ],
      "text/plain": [
       "<IPython.core.display.Latex object>"
      ]
     },
     "metadata": {},
     "output_type": "display_data"
    },
    {
     "name": "stdout",
     "output_type": "stream",
     "text": [
      "<Particle: name=\"Lambda~\", pdgid=-3122, mass=1115.683 ± 0.006 MeV>\n",
      "\n"
     ]
    },
    {
     "data": {
      "text/latex": [
       "$\\Sigma^{+}$"
      ],
      "text/plain": [
       "<IPython.core.display.Latex object>"
      ]
     },
     "metadata": {},
     "output_type": "display_data"
    },
    {
     "name": "stdout",
     "output_type": "stream",
     "text": [
      "<Particle: name=\"Sigma+\", pdgid=3222, mass=1189.37 ± 0.07 MeV>\n",
      "\n"
     ]
    },
    {
     "data": {
      "text/latex": [
       "$\\bar{\\Sigma}^{-}$"
      ],
      "text/plain": [
       "<IPython.core.display.Latex object>"
      ]
     },
     "metadata": {},
     "output_type": "display_data"
    },
    {
     "name": "stdout",
     "output_type": "stream",
     "text": [
      "<Particle: name=\"Sigma~-\", pdgid=-3222, mass=1189.37 ± 0.07 MeV>\n",
      "\n"
     ]
    },
    {
     "data": {
      "text/latex": [
       "$\\Xi^{-}$"
      ],
      "text/plain": [
       "<IPython.core.display.Latex object>"
      ]
     },
     "metadata": {},
     "output_type": "display_data"
    },
    {
     "name": "stdout",
     "output_type": "stream",
     "text": [
      "<Particle: name=\"Xi-\", pdgid=3312, mass=1321.71 ± 0.07 MeV>\n",
      "\n"
     ]
    },
    {
     "data": {
      "text/latex": [
       "$\\bar{\\Xi}^{+}$"
      ],
      "text/plain": [
       "<IPython.core.display.Latex object>"
      ]
     },
     "metadata": {},
     "output_type": "display_data"
    },
    {
     "name": "stdout",
     "output_type": "stream",
     "text": [
      "<Particle: name=\"Xi~+\", pdgid=-3312, mass=1321.71 ± 0.07 MeV>\n",
      "\n"
     ]
    },
    {
     "data": {
      "text/latex": [
       "$\\Xi^{0}$"
      ],
      "text/plain": [
       "<IPython.core.display.Latex object>"
      ]
     },
     "metadata": {},
     "output_type": "display_data"
    },
    {
     "name": "stdout",
     "output_type": "stream",
     "text": [
      "<Particle: name=\"Xi0\", pdgid=3322, mass=1314.86 ± 0.20 MeV>\n",
      "\n"
     ]
    },
    {
     "data": {
      "text/latex": [
       "$\\bar{\\Xi}^{0}$"
      ],
      "text/plain": [
       "<IPython.core.display.Latex object>"
      ]
     },
     "metadata": {},
     "output_type": "display_data"
    },
    {
     "name": "stdout",
     "output_type": "stream",
     "text": [
      "<Particle: name=\"Xi~0\", pdgid=-3322, mass=1314.86 ± 0.20 MeV>\n",
      "\n"
     ]
    },
    {
     "data": {
      "text/latex": [
       "$\\Omega^{-}$"
      ],
      "text/plain": [
       "<IPython.core.display.Latex object>"
      ]
     },
     "metadata": {},
     "output_type": "display_data"
    },
    {
     "name": "stdout",
     "output_type": "stream",
     "text": [
      "<Particle: name=\"Omega-\", pdgid=3334, mass=1672.5 ± 0.3 MeV>\n",
      "\n"
     ]
    },
    {
     "data": {
      "text/latex": [
       "$\\bar{\\Omega}^{+}$"
      ],
      "text/plain": [
       "<IPython.core.display.Latex object>"
      ]
     },
     "metadata": {},
     "output_type": "display_data"
    },
    {
     "name": "stdout",
     "output_type": "stream",
     "text": [
      "<Particle: name=\"Omega~+\", pdgid=-3334, mass=1672.5 ± 0.3 MeV>\n",
      "\n"
     ]
    }
   ],
   "source": [
    "import particle\n",
    "from hepunits.units import cm\n",
    "\n",
    "import IPython.display\n",
    "\n",
    "# Find all strange baryons with c*tau > 1 cm\n",
    "for x in particle.Particle.findall(lambda p:\n",
    "    p.pdgid.is_baryon and p.pdgid.has_strange and p.width > 0 and p.ctau > 1 * cm):\n",
    "    \n",
    "    IPython.display.display(IPython.display.Latex(\"$\" + x.latex_name + \"$\"))\n",
    "    print(repr(x), end=\"\\n\\n\")"
   ]
  },
  {
   "cell_type": "markdown",
   "metadata": {},
   "source": [
    "<br><br><br>\n",
    "\n",
    "<p style=\"font-size: 1.25em\"><b>Example 3:</b> pyhf, limit-setting similar to HistFactory and CmsCombine</p>\n",
    "\n",
    "<br><br><br>"
   ]
  },
  {
   "cell_type": "code",
   "execution_count": 29,
   "metadata": {},
   "outputs": [
    {
     "data": {
      "image/png": "[encoded data removed]",
      "text/plain": [
       "<Figure size 432x288 with 1 Axes>"
      ]
     },
     "metadata": {
      "needs_background": "light"
     },
     "output_type": "display_data"
    }
   ],
   "source": [
    "import pyhf                                                        # (scale to 125%)\n",
    "import awkward\n",
    "\n",
    "s, b, obs = [[0.0, 0.0, 0.1, 0.2, 0.5, 1.0, 1.8, 2.7, 2.0, 0.3],   # signal peaks around bin 8\n",
    "             [6.0, 5.5, 4.5, 3.8, 3.3, 2.6, 2.0, 1.8, 1.5, 1.0],   # background steadily falls\n",
    "             [  6,   7,   4,   4,   4,   3,   4,   3,   4,   0]]   # observations perfer 3/4 signal\n",
    "model = pyhf.simplemodels.hepdata_like(signal_data=s, bkg_data=b, bkg_uncerts=numpy.sqrt(b).tolist())\n",
    "def hypotest(mu):\n",
    "    return pyhf.utils.hypotest(mu, obs + model.config.auxdata, model, return_expected_set=True)\n",
    "\n",
    "mus = numpy.linspace(0, 2, 30)\n",
    "CLs = awkward.fromiter([hypotest(mu) for mu in mus])\n",
    "CLs_observed = CLs[:, 0, 0]                                        # mucking around with indexes\n",
    "CLs_minus2, CLs_minus1, CLs_expected, CLs_plus1, CLs_plus2 = [CLs[:, 1, i, 0] for i in range(5)]\n",
    "\n",
    "matplotlib.pyplot.fill_between(mus, CLs_minus2, CLs_plus2, facecolor=\"yellow\");\n",
    "matplotlib.pyplot.fill_between(mus, CLs_minus1, CLs_plus1, facecolor=\"limegreen\");\n",
    "matplotlib.pyplot.plot(mus, CLs_expected, c=\"black\", linestyle=\"dotted\");\n",
    "matplotlib.pyplot.plot(mus, CLs_observed, c=\"black\", marker=\"o\");"
   ]
  },
  {
   "cell_type": "markdown",
   "metadata": {},
   "source": [
    "<br><br><br><br><br>\n",
    "\n",
    "### Part 3: ROOT data in Python\n",
    "\n",
    "<br><br><br><br><br>"
   ]
  },
  {
   "cell_type": "code",
   "execution_count": 30,
   "metadata": {},
   "outputs": [
    {
     "name": "stderr",
     "output_type": "stream",
     "text": [
      "Warning in <TCanvas::Constructor>: Deleting canvas with same name: canvas\n"
     ]
    },
    {
     "data": {
      "image/png": "[encoded data removed]",
      "text/plain": [
       "<IPython.core.display.Image object>"
      ]
     },
     "metadata": {},
     "output_type": "display_data"
    }
   ],
   "source": [
    "import ROOT                                   # PyROOT\n",
    "\n",
    "file = ROOT.TFile(\"data/HZZ-objects.root\")    # PyROOT transliterates C++ to Python\n",
    "tree = file.Get(\"events\")\n",
    "\n",
    "canvas = ROOT.TCanvas(\"canvas\", \"\", 400, 300) # JupyROOT only: must create TCanvas\n",
    "tree.Draw(\"muonp4.Pt()\")\n",
    "canvas.Draw()                                 # and Draw it to see plots inline"
   ]
  },
  {
   "cell_type": "code",
   "execution_count": 31,
   "metadata": {},
   "outputs": [
    {
     "name": "stdout",
     "output_type": "stream",
     "text": [
      "event 0\n",
      "<ROOT.TLorentzVector object (\"TLorentzVector\") at 0x5a08ab5f5770> 54.16810703140204\n",
      "<ROOT.TLorentzVector object (\"TLorentzVector\") at 0x5a08ab5f57b0> 37.74415265978988\n",
      "event 1\n",
      "<ROOT.TLorentzVector object (\"TLorentzVector\") at 0x5a08ab5f5770> 24.41791248135961\n",
      "event 2\n",
      "<ROOT.TLorentzVector object (\"TLorentzVector\") at 0x5a08ab5f5770> 53.58826697278532\n",
      "<ROOT.TLorentzVector object (\"TLorentzVector\") at 0x5a08ab5f57b0> 29.811997139120674\n",
      "event 3\n",
      "<ROOT.TLorentzVector object (\"TLorentzVector\") at 0x5a08ab5f5770> 88.63194310332618\n",
      "<ROOT.TLorentzVector object (\"TLorentzVector\") at 0x5a08ab5f57b0> 77.95148447265454\n",
      "event 4\n",
      "<ROOT.TLorentzVector object (\"TLorentzVector\") at 0x5a08ab5f5770> 81.01140452083426\n",
      "<ROOT.TLorentzVector object (\"TLorentzVector\") at 0x5a08ab5f57b0> 47.17504574667714\n",
      "event 5\n",
      "<ROOT.TLorentzVector object (\"TLorentzVector\") at 0x5a08ab5f5770> 41.591052358050575\n",
      "<ROOT.TLorentzVector object (\"TLorentzVector\") at 0x5a08ab5f57b0> 30.844215085173435\n",
      "event 6\n",
      "<ROOT.TLorentzVector object (\"TLorentzVector\") at 0x5a08ab5f5770> 44.35777431661225\n",
      "<ROOT.TLorentzVector object (\"TLorentzVector\") at 0x5a08ab5f57b0> 29.874452374029385\n",
      "event 7\n",
      "<ROOT.TLorentzVector object (\"TLorentzVector\") at 0x5a08ab5f5770> 38.37087544930784\n",
      "event 8\n",
      "<ROOT.TLorentzVector object (\"TLorentzVector\") at 0x5a08ab5f5770> 106.28355631699014\n",
      "<ROOT.TLorentzVector object (\"TLorentzVector\") at 0x5a08ab5f57b0> 12.311635885539262\n",
      "event 9\n",
      "<ROOT.TLorentzVector object (\"TLorentzVector\") at 0x5a08ab5f5770> 85.53881159059787\n",
      "<ROOT.TLorentzVector object (\"TLorentzVector\") at 0x5a08ab5f57b0> 39.506103898783294\n",
      "event 10\n",
      "<ROOT.TLorentzVector object (\"TLorentzVector\") at 0x5a08ab5f5770> 51.64914852288953\n",
      "<ROOT.TLorentzVector object (\"TLorentzVector\") at 0x5a08ab5f57b0> 46.49716868294783\n",
      "event 11\n",
      "<ROOT.TLorentzVector object (\"TLorentzVector\") at 0x5a08ab5f5770> 75.51093887887036\n",
      "<ROOT.TLorentzVector object (\"TLorentzVector\") at 0x5a08ab5f57b0> 50.514888290524446\n"
     ]
    }
   ],
   "source": [
    "# PyROOT can iterate over the data directly, in a Python-friendly way.\n",
    "\n",
    "for i, event in enumerate(tree):\n",
    "    print(\"event\", i)\n",
    "    for muon in event.muonp4:\n",
    "        print(repr(muon), muon.Pt())\n",
    "    if i > 10:\n",
    "        break"
   ]
  },
  {
   "cell_type": "markdown",
   "metadata": {},
   "source": [
    "<br><br>\n",
    "\n",
    "<p style=\"font-size: 1.25em\">But be forewarned: PyROOT was not made to be used in a loop over big data. (Actually, it's as much slower than Python as Python is from C++.)</p>\n",
    "\n",
    "<br>\n",
    "\n",
    "<p style=\"font-size: 1.25em\">You can start this way, but if you'll be analyzing TB of data, you'll have to rewrite your code.</p>\n",
    "\n",
    "<br>\n",
    "\n",
    "<p style=\"font-size: 1.25em\">We want to explore data in a way that doesn't have to be completely rewritten for speed.</p>\n",
    "\n",
    "<br><br>"
   ]
  },
  {
   "cell_type": "code",
   "execution_count": 32,
   "metadata": {},
   "outputs": [
    {
     "data": {
      "text/plain": [
       "array([[0.00927101],\n",
       "       [0.00033064],\n",
       "       [0.00507963],\n",
       "       ...,\n",
       "       [0.00415307],\n",
       "       [0.00882933],\n",
       "       [0.00875541]])"
      ]
     },
     "execution_count": 32,
     "metadata": {},
     "output_type": "execute_result"
    }
   ],
   "source": [
    "# PyROOT's new AsMatrix method gives you Numpy arrays directly (loops run in C++).\n",
    "\n",
    "tree.AsMatrix([\"eventweight\"])"
   ]
  },
  {
   "cell_type": "code",
   "execution_count": 33,
   "metadata": {},
   "outputs": [
    {
     "ename": "Exception",
     "evalue": "Reading of branch ['MET'] is not supported (branch has unsupported data-type ['TVector2']).",
     "output_type": "error",
     "traceback": [
      "\u001b[0;31m---------------------------------------------------------------------------\u001b[0m",
      "\u001b[0;31mException\u001b[0m                                 Traceback (most recent call last)",
      "\u001b[0;32m<ipython-input-33-83abc36b1eb2>\u001b[0m in \u001b[0;36m<module>\u001b[0;34m\u001b[0m\n\u001b[1;32m      1\u001b[0m \u001b[0;31m# But it's only for purely numeric data, not objects...\u001b[0m\u001b[0;34m\u001b[0m\u001b[0;34m\u001b[0m\u001b[0;34m\u001b[0m\u001b[0m\n\u001b[1;32m      2\u001b[0m \u001b[0;34m\u001b[0m\u001b[0m\n\u001b[0;32m----> 3\u001b[0;31m \u001b[0mtree\u001b[0m\u001b[0;34m.\u001b[0m\u001b[0mAsMatrix\u001b[0m\u001b[0;34m(\u001b[0m\u001b[0;34m[\u001b[0m\u001b[0;34m\"MET\"\u001b[0m\u001b[0;34m]\u001b[0m\u001b[0;34m)\u001b[0m\u001b[0;34m\u001b[0m\u001b[0;34m\u001b[0m\u001b[0m\n\u001b[0m",
      "\u001b[0;32m~/miniconda3/lib/python3.7/site-packages/ROOT.py\u001b[0m in \u001b[0;36m_TTreeAsMatrix\u001b[0;34m(self, columns, exclude, dtype, return_labels)\u001b[0m\n\u001b[1;32m    331\u001b[0m         raise Exception(exception_template.format(\n\u001b[1;32m    332\u001b[0m             [k for k in invalid_cols_dtype], \"branch has unsupported data-type {}\".format(\n\u001b[0;32m--> 333\u001b[0;31m                 [invalid_cols_dtype[k] for k in invalid_cols_dtype])))\n\u001b[0m\u001b[1;32m    334\u001b[0m \u001b[0;34m\u001b[0m\u001b[0m\n\u001b[1;32m    335\u001b[0m     \u001b[0;31m# Check that given data-type is supported\u001b[0m\u001b[0;34m\u001b[0m\u001b[0;34m\u001b[0m\u001b[0;34m\u001b[0m\u001b[0m\n",
      "\u001b[0;31mException\u001b[0m: Reading of branch ['MET'] is not supported (branch has unsupported data-type ['TVector2'])."
     ]
    }
   ],
   "source": [
    "# But it's only for purely numeric data, not objects...\n",
    "\n",
    "tree.AsMatrix([\"MET\"])"
   ]
  },
  {
   "cell_type": "code",
   "execution_count": 34,
   "metadata": {},
   "outputs": [
    {
     "ename": "Exception",
     "evalue": "Reading of branch ['muoniso'] is not supported (branch has unsupported data-type ['vector<float>']).",
     "output_type": "error",
     "traceback": [
      "\u001b[0;31m---------------------------------------------------------------------------\u001b[0m",
      "\u001b[0;31mException\u001b[0m                                 Traceback (most recent call last)",
      "\u001b[0;32m<ipython-input-34-4f2da9df4263>\u001b[0m in \u001b[0;36m<module>\u001b[0;34m\u001b[0m\n\u001b[1;32m      1\u001b[0m \u001b[0;31m# ... and not variable number of values per event, like vector<float>\u001b[0m\u001b[0;34m\u001b[0m\u001b[0;34m\u001b[0m\u001b[0;34m\u001b[0m\u001b[0m\n\u001b[1;32m      2\u001b[0m \u001b[0;34m\u001b[0m\u001b[0m\n\u001b[0;32m----> 3\u001b[0;31m \u001b[0mtree\u001b[0m\u001b[0;34m.\u001b[0m\u001b[0mAsMatrix\u001b[0m\u001b[0;34m(\u001b[0m\u001b[0;34m[\u001b[0m\u001b[0;34m\"muoniso\"\u001b[0m\u001b[0;34m]\u001b[0m\u001b[0;34m)\u001b[0m\u001b[0;34m\u001b[0m\u001b[0;34m\u001b[0m\u001b[0m\n\u001b[0m",
      "\u001b[0;32m~/miniconda3/lib/python3.7/site-packages/ROOT.py\u001b[0m in \u001b[0;36m_TTreeAsMatrix\u001b[0;34m(self, columns, exclude, dtype, return_labels)\u001b[0m\n\u001b[1;32m    331\u001b[0m         raise Exception(exception_template.format(\n\u001b[1;32m    332\u001b[0m             [k for k in invalid_cols_dtype], \"branch has unsupported data-type {}\".format(\n\u001b[0;32m--> 333\u001b[0;31m                 [invalid_cols_dtype[k] for k in invalid_cols_dtype])))\n\u001b[0m\u001b[1;32m    334\u001b[0m \u001b[0;34m\u001b[0m\u001b[0m\n\u001b[1;32m    335\u001b[0m     \u001b[0;31m# Check that given data-type is supported\u001b[0m\u001b[0;34m\u001b[0m\u001b[0;34m\u001b[0m\u001b[0;34m\u001b[0m\u001b[0m\n",
      "\u001b[0;31mException\u001b[0m: Reading of branch ['muoniso'] is not supported (branch has unsupported data-type ['vector<float>'])."
     ]
    }
   ],
   "source": [
    "# ... and not variable number of values per event, like vector<float>\n",
    "\n",
    "tree.AsMatrix([\"muoniso\"])"
   ]
  },
  {
   "cell_type": "code",
   "execution_count": 35,
   "metadata": {},
   "outputs": [
    {
     "data": {
      "image/png": "[encoded data removed]",
      "text/plain": [
       "<IPython.core.display.Image object>"
      ]
     },
     "metadata": {},
     "output_type": "display_data"
    }
   ],
   "source": [
    "# ROOT's new preferred way of processing TTrees is called RDataFrame.\n",
    "# You can define a dataflow in Python with C++ in strings (convenient!).\n",
    "\n",
    "rdf = ROOT.RDataFrame(\"events\", \"data/HZZ-objects.root\")\n",
    "h = (rdf.Filter(\"muonp4.size() >= 2\")\n",
    "        .Define(\"zmass\", r\"\"\"(muonp4[0] + muonp4[1]).M()\"\"\")\n",
    "        .Histo1D((\"\", \"\", 120, 0, 120), \"zmass\"))\n",
    "h.Draw(); canvas.Draw()"
   ]
  },
  {
   "cell_type": "code",
   "execution_count": 36,
   "metadata": {},
   "outputs": [
    {
     "data": {
      "text/plain": [
       "{'zmass': numpy.array([90.22779777, 74.74654928, 89.75736376, ..., 92.06495256,\n",
       "              85.44384208, 75.96066262])}"
      ]
     },
     "execution_count": 36,
     "metadata": {},
     "output_type": "execute_result"
    }
   ],
   "source": [
    "# And you can get the result of this dataflow as Numpy arrays (even better!).\n",
    "\n",
    "array = (rdf.Filter(\"muonp4.size() >= 2\")\n",
    "            .Define(\"zmass\", r\"\"\"(muonp4[0] + muonp4[1]).M()\"\"\")\n",
    "            .AsNumpy(columns=[\"zmass\"]))\n",
    "array"
   ]
  },
  {
   "cell_type": "code",
   "execution_count": 37,
   "metadata": {},
   "outputs": [
    {
     "data": {
      "text/plain": [
       "numpy.array([<ROOT.ROOT::VecOps::RVec<TLorentzVector> object at 0x5a08b5f8f790>,\n",
       "             <ROOT.ROOT::VecOps::RVec<TLorentzVector> object at 0x5a08b5f8f7b8>,\n",
       "             <ROOT.ROOT::VecOps::RVec<TLorentzVector> object at 0x5a08b5f8f7e0>,\n",
       "             ...,\n",
       "             <ROOT.ROOT::VecOps::RVec<TLorentzVector> object at 0x5a08b5fa7160>,\n",
       "             <ROOT.ROOT::VecOps::RVec<TLorentzVector> object at 0x5a08b5fa7188>,\n",
       "             <ROOT.ROOT::VecOps::RVec<TLorentzVector> object at 0x5a08b5fa71b0>],\n",
       "            dtype=object)"
      ]
     },
     "execution_count": 37,
     "metadata": {},
     "output_type": "execute_result"
    }
   ],
   "source": [
    "# You can also get arrays of objects and arrays of vectors of objects.\n",
    "\n",
    "array = rdf.AsNumpy(columns=[\"muonp4\"])[\"muonp4\"]\n",
    "array"
   ]
  },
  {
   "cell_type": "code",
   "execution_count": 38,
   "metadata": {},
   "outputs": [
    {
     "name": "stdout",
     "output_type": "stream",
     "text": [
      "event 0\n",
      "<ROOT.TLorentzVector object (\"TLorentzVector\") at 0x5a08b5d0f2c0> 54.16810703140204\n",
      "<ROOT.TLorentzVector object (\"TLorentzVector\") at 0x5a08b5d0f300> 37.74415265978988\n",
      "event 1\n",
      "<ROOT.TLorentzVector object (\"TLorentzVector\") at 0x5a08b5d0f350> 24.41791248135961\n",
      "event 2\n",
      "<ROOT.TLorentzVector object (\"TLorentzVector\") at 0x5a08b5d0f3a0> 53.58826697278532\n",
      "<ROOT.TLorentzVector object (\"TLorentzVector\") at 0x5a08b5d0f3e0> 29.811997139120674\n",
      "event 3\n",
      "<ROOT.TLorentzVector object (\"TLorentzVector\") at 0x5a08b54d1d50> 88.63194310332618\n",
      "<ROOT.TLorentzVector object (\"TLorentzVector\") at 0x5a08b54d1d90> 77.95148447265454\n",
      "event 4\n",
      "<ROOT.TLorentzVector object (\"TLorentzVector\") at 0x5a08b54d1de0> 81.01140452083426\n",
      "<ROOT.TLorentzVector object (\"TLorentzVector\") at 0x5a08b54d1e20> 47.17504574667714\n",
      "event 5\n",
      "<ROOT.TLorentzVector object (\"TLorentzVector\") at 0x5a08b54d1e70> 41.591052358050575\n",
      "<ROOT.TLorentzVector object (\"TLorentzVector\") at 0x5a08b54d1eb0> 30.844215085173435\n",
      "event 6\n",
      "<ROOT.TLorentzVector object (\"TLorentzVector\") at 0x5a08b54d1f00> 44.35777431661225\n",
      "<ROOT.TLorentzVector object (\"TLorentzVector\") at 0x5a08b54d1f40> 29.874452374029385\n",
      "event 7\n",
      "<ROOT.TLorentzVector object (\"TLorentzVector\") at 0x5a08b54d1f90> 38.37087544930784\n",
      "event 8\n",
      "<ROOT.TLorentzVector object (\"TLorentzVector\") at 0x5a08b54d1fe0> 106.28355631699014\n",
      "<ROOT.TLorentzVector object (\"TLorentzVector\") at 0x5a08b54d2020> 12.311635885539262\n",
      "event 9\n",
      "<ROOT.TLorentzVector object (\"TLorentzVector\") at 0x5a08b54d2070> 85.53881159059787\n",
      "<ROOT.TLorentzVector object (\"TLorentzVector\") at 0x5a08b54d20b0> 39.506103898783294\n",
      "event 10\n",
      "<ROOT.TLorentzVector object (\"TLorentzVector\") at 0x5a08b4ed3710> 51.64914852288953\n",
      "<ROOT.TLorentzVector object (\"TLorentzVector\") at 0x5a08b4ed3750> 46.49716868294783\n",
      "event 11\n",
      "<ROOT.TLorentzVector object (\"TLorentzVector\") at 0x5a08b4ed37a0> 75.51093887887036\n",
      "<ROOT.TLorentzVector object (\"TLorentzVector\") at 0x5a08b4ed37e0> 50.514888290524446\n"
     ]
    }
   ],
   "source": [
    "# But looping over them is back to PyROOT. The array is an array of PyROOT objects.\n",
    "\n",
    "for i, event in enumerate(array):\n",
    "    print(\"event\", i)\n",
    "    for muon in event:\n",
    "        print(repr(muon), muon.Pt())\n",
    "    if i > 10:\n",
    "        break"
   ]
  },
  {
   "cell_type": "markdown",
   "metadata": {},
   "source": [
    "<br><br><br>\n",
    "\n",
    "<p style=\"font-size: 1.25em\">To get efficient processing in ROOT, you have to do the heavy work in C++. That's just how it works. What's new is that the C++ can be expressed as inline strings in Python.</p>\n",
    "\n",
    "<br><br><br>"
   ]
  },
  {
   "cell_type": "markdown",
   "metadata": {},
   "source": [
    "<br><br>\n",
    "\n",
    "<p style=\"font-size: 1.25em\">uproot is an alternative ROOT I/O implemented in Python + Numpy (i.e. it's pip-installable).</p>\n",
    "\n",
    "<br>\n",
    "\n",
    "<center><img src=\"img/abstraction-layers.png\" width=\"80%\"></center>\n",
    "\n",
    "<br><br>"
   ]
  },
  {
   "cell_type": "code",
   "execution_count": 39,
   "metadata": {},
   "outputs": [
    {
     "data": {
      "text/plain": [
       "<JaggedArrayMethods [[TLorentzVector(-52.899, -11.655, -8.1608, 54.779) TLorentzVector(37.738, 0.69347, -11.308, 39.402)] [TLorentzVector(-0.81646, -24.404, 20.2, 31.69)] [TLorentzVector(48.988, -21.723, 11.168, 54.74) TLorentzVector(0.82757, 29.801, 36.965, 47.489)] ... [TLorentzVector(-29.757, -15.304, -52.664, 62.395)] [TLorentzVector(1.1419, 63.61, 162.18, 174.21)] [TLorentzVector(23.913, -35.665, 54.719, 69.556)]] at 0x7bac2e62b160>"
      ]
     },
     "execution_count": 39,
     "metadata": {},
     "output_type": "execute_result"
    }
   ],
   "source": [
    "import uproot\n",
    "\n",
    "file = uproot.open(\"data/HZZ-objects.root\")\n",
    "tree = file[\"events\"]\n",
    "\n",
    "array = tree.array(\"muonp4\")\n",
    "array"
   ]
  },
  {
   "cell_type": "code",
   "execution_count": 40,
   "metadata": {},
   "outputs": [
    {
     "name": "stdout",
     "output_type": "stream",
     "text": [
      " layout \n",
      "[     ()] JaggedArrayMethods(starts=layout[0], stops=layout[1], content=layout[2])\n",
      "[      0]   ndarray(shape=2421, dtype=dtype('int64'))\n",
      "[      1]   ndarray(shape=2421, dtype=dtype('int64'))\n",
      "[      2]   ObjectArrayMethods(content=layout[2, 0], generator=<function ArrayMethods._initObjectArray.<locals>.<lambda> at 0x7bac2e39e6a8>, args=(), kwargs={})\n",
      "[   2, 0]     Table( fBits=layout[2, 0, 0],  fUniqueID=layout[2, 0, 1],  fBits2=layout[2, 0, 2],  fUniqueID2=layout[2, 0, 3], fX=layout[2, 0, 4], fY=layout[2, 0, 5], fZ=layout[2, 0, 6], fE=layout[2, 0, 7])\n",
      "[2, 0, 0]       ndarray(shape=3825, dtype=dtype('uint64'))\n",
      "[2, 0, 1]       ndarray(shape=3825, dtype=dtype('uint64'))\n",
      "[2, 0, 2]       ndarray(shape=3825, dtype=dtype('uint64'))\n",
      "[2, 0, 3]       ndarray(shape=3825, dtype=dtype('uint64'))\n",
      "[2, 0, 4]       ndarray(shape=3825, dtype=dtype('float64'))\n",
      "[2, 0, 5]       ndarray(shape=3825, dtype=dtype('float64'))\n",
      "[2, 0, 6]       ndarray(shape=3825, dtype=dtype('float64'))\n",
      "[2, 0, 7]       ndarray(shape=3825, dtype=dtype('float64'))\n",
      "\n",
      "array for TLorentzVector.fX:\n",
      "[-52.89945602  37.73778152  -0.81645936 ... -29.75678635   1.14186978\n",
      "  23.9132061 ]\n"
     ]
    }
   ],
   "source": [
    "# Although this looks like an array of variable-length arrays of TLorentzVectors,\n",
    "# it's implmented in terms of columnar arrays, not objects.\n",
    "print(array.layout)\n",
    "print(f\"\\narray for TLorentzVector.fX:\\n{array.layout[2, 0, 4].array}\")"
   ]
  },
  {
   "cell_type": "code",
   "execution_count": 41,
   "metadata": {},
   "outputs": [
    {
     "name": "stdout",
     "output_type": "stream",
     "text": [
      "good_events: [ True False  True ... False False False]\n",
      "\n",
      "first:       [TLorentzVector(-52.899, -11.655, -8.1608, 54.779) TLorentzVector(48.988, -21.723, 11.168, 54.74) TLorentzVector(22.088, -85.835, 403.85, 413.46) ... TLorentzVector(53.006, -24.486, 13.952, 60.032) TLorentzVector(55.72, 26.37, -24.588, 66.368) TLorentzVector(34.507, 28.84, -150.66, 157.23)]\n",
      "second:      [TLorentzVector(37.738, 0.69347, -11.308, 39.402) TLorentzVector(0.82757, 29.801, 36.965, 47.489) TLorentzVector(76.692, -13.956, 335.09, 344.04) ... TLorentzVector(-30.209, 19.269, 18.661, 40.399) TLorentzVector(-26.914, -9.8128, -0.38995, 28.65) TLorentzVector(-31.568, -10.424, -111.26, 116.13)]\n",
      "\n",
      "z_mass:      [90.22779777 74.74654928 89.75736376 ... 92.06495256 85.44384208\n",
      " 75.96066262]\n"
     ]
    }
   ],
   "source": [
    "# So the interface is array-at-a-time: neither for loops nor call-outs to C++.\n",
    "\n",
    "good_events = (array.counts >= 2)\n",
    "print(f\"good_events: {good_events}\")\n",
    "\n",
    "first  = array[good_events, 0]\n",
    "second = array[good_events, 1]\n",
    "print(f\"\\nfirst:       {first}\")\n",
    "print(f\"second:      {second}\")\n",
    "\n",
    "z_candidates = first + second\n",
    "print(f\"\\nz_mass:      {z_candidates.mass}\")"
   ]
  },
  {
   "cell_type": "markdown",
   "metadata": {},
   "source": [
    "<br><br><br><br><br>\n",
    "\n",
    "<p style=\"font-size: 1.25em; text-align: center\">Which one should you use?</p>\n",
    "\n",
    "<br><br><br><br><br>"
   ]
  },
  {
   "cell_type": "markdown",
   "metadata": {},
   "source": [
    "<br><br><br><br><br>\n",
    "\n",
    "<p style=\"font-size: 2em; font-weight: bold; text-align: center\">Both!</p>\n",
    "\n",
    "<br><br><br><br><br>"
   ]
  }
 ],
 "metadata": {
  "kernelspec": {
   "display_name": "Python 3",
   "language": "python",
   "name": "python3"
  },
  "language_info": {
   "codemirror_mode": {
    "name": "ipython",
    "version": 3
   },
   "file_extension": ".py",
   "mimetype": "text/x-python",
   "name": "python",
   "nbconvert_exporter": "python",
   "pygments_lexer": "ipython3",
   "version": "3.7.3"
  }
 },
 "nbformat": 4,
 "nbformat_minor": 4
}
