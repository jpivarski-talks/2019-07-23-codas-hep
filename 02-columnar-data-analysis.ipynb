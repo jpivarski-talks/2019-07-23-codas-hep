{
 "cells": [
  {
   "cell_type": "markdown",
   "metadata": {},
   "source": [
    "<br><br><br><br><br>\n",
    "\n",
    "# Columnar data analysis\n",
    "\n",
    "<br><br><br><br><br>"
   ]
  },
  {
   "cell_type": "markdown",
   "metadata": {},
   "source": [
    "<br><br><br><br>\n",
    "\n",
    "<p style=\"font-size: 1.25em\">Array programming is a programming language paradigm like Object-Oriented Programming (OOP) and Functional Programming (FP).</p>\n",
    "\n",
    "<br>\n",
    "\n",
    "<p style=\"font-size: 1.25em\">As physicists, we are mostly familiar with <i>imperative, procedural, structured, object-oriented programming</i> (see <a href=\"https://en.wikipedia.org/wiki/Comparison_of_programming_paradigms#Main_paradigm_approaches\">this list</a>).</p>\n",
    "\n",
    "<br><br><br><br>"
   ]
  },
  {
   "cell_type": "code",
   "execution_count": null,
   "metadata": {},
   "outputs": [],
   "source": [
    "from IPython.display import IFrame    \n",
    "IFrame(\"http://zoom.it/6rJp\", width=\"100%\", height=\"440\")"
   ]
  },
  {
   "cell_type": "markdown",
   "metadata": {},
   "source": [
    "<br>\n",
    "\n",
    "<p style=\"font-size: 1.25em\">Array programming is common to languages and systems designed for interactive data analysis.</p>\n",
    "\n",
    "<img src=\"img/apl-timeline.png\" width=\"100%\">\n",
    "\n",
    "<br>"
   ]
  },
  {
   "cell_type": "markdown",
   "metadata": {},
   "source": [
    "<br>\n",
    "\n",
    "<table align=\"left\" width=\"33%\" style=\"margin-right: 50px\">\n",
    "<tr style=\"background: white\"><td><img src=\"img/apl-keyboard.jpg\" width=\"100%\"></td></tr>\n",
    "<tr style=\"background: white\"><td style=\"text-align: center\"><i>Special keyboard for all the symbols.</i></td></tr>\n",
    "<tr style=\"background: white\"><td align=\"center\"><img src=\"img/tshirt.jpg\" width=\"50%\"></td></tr>\n",
    "<tr style=\"background: white\"><td style=\"text-align: center\"><i>A program was a struggle to write, but T-shirt fodder when it worked.</i></td></tr>\n",
    "</table>\n",
    "\n",
    "<br>\n",
    "\n",
    "<p style=\"font-size: 1.25em\">APL (1963) pioneered programming language conciseness—and discovered the mistake of being too concise.</p>\n",
    "\n",
    "| APL | <br> | Numpy |\n",
    "|:---:|:----:|:-----:|\n",
    "| <tt>ι4</tt> | <br> | <tt>numpy.arange(4)</tt> |\n",
    "| <tt>(3+ι4)</tt> | <br> | <tt>numpy.arange(4) + 3</tt> |\n",
    "| <tt>+/(3+ι4)</tt> | <br> | <tt>(numpy.arange(4) + 3).sum()</tt> |\n",
    "| <tt>m ← +/(3+ι4)</tt> | <br> | <tt>m = (numpy.arange(4) + 3).sum()</tt> |\n",
    "\n",
    "(The other extreme is writing for loops for each of the above.)\n",
    "\n",
    "<br>"
   ]
  },
  {
   "cell_type": "markdown",
   "metadata": {},
   "source": [
    "<br><br><br><br>\n",
    "\n",
    "<p style=\"font-size: 1.25em\">The fundamental data type in this world is an array. (Some array languages don't even have non-arrays.)</p>\n",
    "\n",
    "<br>\n",
    "\n",
    "<p style=\"font-size: 1.25em\">Unlike the others (APL, IDL, MATLAB, R), Numpy is a library, not a language, though it goes all the way back to the beginning of Python (1995) and significantly influenced Python's grammar.</p>\n",
    "\n",
    "<br><br><br><br>"
   ]
  },
  {
   "cell_type": "code",
   "execution_count": null,
   "metadata": {},
   "outputs": [],
   "source": [
    "# Assortment of ways to make Numpy arrays\n",
    "\n",
    "import numpy, uproot\n",
    "print(numpy.arange(20),                                        end=\"\\n\\n\")\n",
    "print(numpy.linspace(-5, 5, 21),                               end=\"\\n\\n\")\n",
    "print(numpy.empty(10000, numpy.float16),                       end=\"\\n\\n\")\n",
    "print(numpy.full((2, 7), 999),                                 end=\"\\n\\n\")\n",
    "print(numpy.random.normal(-1, 0.0001, 10000),                  end=\"\\n\\n\")\n",
    "print(uproot.open(\"data/Zmumu.root\")[\"events\"][\"E1\"].array(),  end=\"\\n\\n\")"
   ]
  },
  {
   "cell_type": "markdown",
   "metadata": {},
   "source": [
    "<br><br>\n",
    "\n",
    "<center><img src=\"img/numpy-memory-layout.png\" width=\"90%\"></center>\n",
    "\n",
    "<br><br>"
   ]
  },
  {
   "cell_type": "code",
   "execution_count": null,
   "metadata": {},
   "outputs": [],
   "source": [
    "a = numpy.array([2**30, 2**30 + 2**26, -1, 0, 2**30 + 2**24, 2**30 + 2**20], numpy.int32)\n",
    "# a = a.view(numpy.float32)\n",
    "# a = a.reshape((2, 3))\n",
    "# a = a.astype(numpy.int64)\n",
    "\n",
    "print(\"data:\\n\", a, end=\"\\n\\n\")\n",
    "print(\"type:\", type(a), end=\"\\n\\n\")\n",
    "print(\"dtype (type of the data it contains):\", a.dtype, end=\"\\n\\n\")\n",
    "print(\"shape: (size of each dimension):\", a.shape, end=\"\\n\\n\")"
   ]
  },
  {
   "cell_type": "code",
   "execution_count": null,
   "metadata": {},
   "outputs": [],
   "source": [
    "# Any mathematical function that would map scalar arguments to a scalar result\n",
    "#                                      maps array arguments to an array result.\n",
    "\n",
    "a_array = numpy.random.uniform(5, 10, 10000);     a_scalar = a_array[0]\n",
    "b_array = numpy.random.uniform(10, 20, 10000);    b_scalar = b_array[0]\n",
    "c_array = numpy.random.uniform(-0.1, 0.1, 10000); c_scalar = c_array[0]\n",
    "\n",
    "def quadratic_formula(a, b, c):\n",
    "    return (-b + numpy.sqrt(b**2 - 4*a*c)) / (2*a)\n",
    "\n",
    "print(\"scalar:\\n\", quadratic_formula(a_scalar, b_scalar, c_scalar), end=\"\\n\\n\")\n",
    "print(\"array:\\n\",  quadratic_formula(a_array,  b_array,  c_array), end=\"\\n\\n\")"
   ]
  },
  {
   "cell_type": "code",
   "execution_count": null,
   "metadata": {},
   "outputs": [],
   "source": [
    "# Each step in the calculation is performed over whole arrays before moving on to the next.\n",
    "\n",
    "a, b, c = a_array, b_array, c_array\n",
    "\n",
    "roots1 = (-b + numpy.sqrt(b**2 - 4*a*c)) / (2*a)\n",
    "\n",
    "tmp1 = numpy.negative(b)            # -b\n",
    "tmp2 = numpy.square(b)              # b**2\n",
    "tmp3 = numpy.multiply(4, a)         # 4*a\n",
    "tmp4 = numpy.multiply(tmp3, c)      # tmp3*c\n",
    "tmp5 = numpy.subtract(tmp2, tmp4)   # tmp2 - tmp4\n",
    "tmp6 = numpy.sqrt(tmp5)             # sqrt(tmp5)\n",
    "tmp7 = numpy.add(tmp1, tmp6)        # tmp1 + tmp6\n",
    "tmp8 = numpy.multiply(2, a)         # 2*a\n",
    "roots2 = numpy.divide(tmp7, tmp8)   # tmp7 / tmp8\n",
    "\n",
    "roots1, roots2"
   ]
  },
  {
   "cell_type": "code",
   "execution_count": null,
   "metadata": {},
   "outputs": [],
   "source": [
    "# Even comparison operators are element-by-element.\n",
    "\n",
    "roots1 == roots2"
   ]
  },
  {
   "cell_type": "code",
   "execution_count": null,
   "metadata": {},
   "outputs": [],
   "source": [
    "# So use a reducer (e.g. sum, max, min, any, all) to turn the array into a scalar.\n",
    "\n",
    "(roots1 == roots2).all()"
   ]
  },
  {
   "cell_type": "markdown",
   "metadata": {},
   "source": [
    "<br><br><br><br><br>\n",
    "\n",
    "<p style=\"font-size: 1.25em\">Just as a Numpy array is a common data type, this is a common function type: \"universal functions\" or \"ufuncs.\"</p>\n",
    "\n",
    "<br><br><br><br><br>"
   ]
  },
  {
   "cell_type": "code",
   "execution_count": null,
   "metadata": {},
   "outputs": [],
   "source": [
    "px, py, pz = uproot.open(\"data/Zmumu.root\")[\"events\"].arrays(\"p[xyz]1\", outputtype=tuple)\n",
    "\n",
    "p = numpy.sqrt(px**2 + py**2 + pz**2)\n",
    "p"
   ]
  },
  {
   "cell_type": "code",
   "execution_count": null,
   "metadata": {},
   "outputs": [],
   "source": [
    "# But what if there are multiple values per event?\n",
    "\n",
    "uproot.open(\"data/HZZ.root\")[\"events\"].array(\"Muon_Px\")"
   ]
  },
  {
   "cell_type": "code",
   "execution_count": null,
   "metadata": {},
   "outputs": [],
   "source": [
    "# JaggedArray can be used in place of a Numpy array in some contexts,\n",
    "# such as array-at-a-time math. Functions like numpy.sqrt recognize it.\n",
    "\n",
    "px, py, pz = uproot.open(\"data/HZZ.root\")[\"events\"].arrays([\"Muon_P[xyz]\"], outputtype=tuple)\n",
    "\n",
    "numpy.sqrt(px**2 + py**2 + pz**2)"
   ]
  },
  {
   "cell_type": "markdown",
   "metadata": {},
   "source": [
    "<br><br>\n",
    "\n",
    "<center><img src=\"img/numpy-memory-broadcasting.png\" width=\"75%\"></center>\n",
    "\n",
    "<br><br>"
   ]
  },
  {
   "cell_type": "code",
   "execution_count": null,
   "metadata": {},
   "outputs": [],
   "source": [
    "E, px, py, pz = uproot.open(\"data/Zmumu.root\")[\"events\"].arrays([\"E1\", \"p[xyz]1\"], outputtype=tuple)\n",
    "\n",
    "# Numpy arrays\n",
    "#                   array   array   array   scalar\n",
    "energy = numpy.sqrt(px**2 + py**2 + pz**2 + 0.1056583745**2)\n",
    "energy, E"
   ]
  },
  {
   "cell_type": "code",
   "execution_count": null,
   "metadata": {},
   "outputs": [],
   "source": [
    "E, px, py, pz = uproot.open(\"data/HZZ.root\")[\"events\"].arrays([\"Muon_E\", \"Muon_P[xyz]\"], outputtype=tuple)\n",
    "\n",
    "# JaggedArrays\n",
    "#                   array   array   array   scalar\n",
    "energy = numpy.sqrt(px**2 + py**2 + pz**2 + 0.1056583745**2)\n",
    "energy, E"
   ]
  },
  {
   "cell_type": "code",
   "execution_count": null,
   "metadata": {},
   "outputs": [],
   "source": [
    "import awkward  # the library that defines JaggedArrays and other \"awkward\" arrays\n",
    "\n",
    "scalar = 1000\n",
    "flat   = numpy.array([100, 200, 300])\n",
    "jagged = awkward.fromiter([[1.1, 2.2, 3.3], [], [4.4, 5.5]])\n",
    "\n",
    "# With JaggedArrays, there are more broadcasting cases:\n",
    "print(f\"scalar + flat:   {scalar + flat}\")\n",
    "print(f\"\\nscalar + jagged: {scalar + jagged}\")\n",
    "print(f\"\\n  flat + jagged: {flat + jagged}\")"
   ]
  },
  {
   "cell_type": "code",
   "execution_count": null,
   "metadata": {},
   "outputs": [],
   "source": [
    "# Using jagged broadcasting in physics\n",
    "\n",
    "jetx, jety, metx, mety = uproot.open(\"data/HZZ.root\")[\"events\"].arrays(\n",
    "    [\"Jet_P[xy]\", \"MET_p[xy]\"], outputtype=tuple)\n",
    "\n",
    "jet_phi = numpy.arctan2(jety, jetx)\n",
    "met_phi = numpy.arctan2(mety, metx)\n",
    "\n",
    "print(f\"multi per event: {jet_phi}\")\n",
    "print(f\"one per event:   {met_phi}\")\n",
    "\n",
    "print(f\"\\ndifference:      {jet_phi - met_phi}\")"
   ]
  },
  {
   "cell_type": "code",
   "execution_count": null,
   "metadata": {},
   "outputs": [],
   "source": [
    "# Q: What about ensuring that each delta-phi is between -pi and pi without if/then?\n",
    "# A: You start to pick up tricks, like this:\n",
    "\n",
    "raw_diff = jet_phi - met_phi\n",
    "\n",
    "bounded_diff = (raw_diff + numpy.pi) % (2*numpy.pi) - numpy.pi\n",
    "\n",
    "# Should dphi be a library function? That's the kind of question we think about...\n",
    "\n",
    "raw_diff, bounded_diff\n",
    "# bounded_diff.flatten().min(), bounded_diff.flatten().max()"
   ]
  },
  {
   "cell_type": "markdown",
   "metadata": {},
   "source": [
    "<br><br><br><br><br>\n",
    "\n",
    "<p style=\"font-size: 1.25em; text-align: center\"><b>Reducers:</b> any, all, count, count_nonzero, sum, prod, min, max</p>\n",
    "\n",
    "<br><br><br><br><br>"
   ]
  },
  {
   "cell_type": "code",
   "execution_count": null,
   "metadata": {},
   "outputs": [],
   "source": [
    "# Another way JaggedArrays extend Numpy arrays:\n",
    "\n",
    "# Reducers, like sum, min, max, turn flat arrays into scalars.\n",
    "\n",
    "met_phi.min(), met_phi.max()"
   ]
  },
  {
   "cell_type": "code",
   "execution_count": null,
   "metadata": {},
   "outputs": [],
   "source": [
    "# Another way JaggedArrays extend Numpy arrays:\n",
    "\n",
    "# Reducers, like sum, min, max, turn jagged arrays into flat arrays.\n",
    "\n",
    "jet_phi.min(), jet_phi.max()"
   ]
  },
  {
   "cell_type": "code",
   "execution_count": null,
   "metadata": {},
   "outputs": [],
   "source": [
    "# The meaning of flat.sum() is \"sum of all elements of the flat array.\"\n",
    "# The meaning of jagged.sum() is \"sum of all elements in each inner array.\"\n",
    "\n",
    "jagged = awkward.fromiter([[1.0, 2.0, 3.0], [], [4.0, 5.0]])\n",
    "jagged.sum()   # min, max"
   ]
  },
  {
   "cell_type": "code",
   "execution_count": null,
   "metadata": {},
   "outputs": [],
   "source": [
    "# jagged.sum().sum() completes the process, resulting in a scalar. But,\n",
    "# jagged.flatten().sum() does the same thing. Why?\n",
    "\n",
    "jagged.sum().sum(), jagged.flatten().sum()"
   ]
  },
  {
   "cell_type": "code",
   "execution_count": null,
   "metadata": {},
   "outputs": [],
   "source": [
    "# mean, var, std are also available, just like Numpy, but these aren't associative.\n",
    "\n",
    "# \"Don't do a mean of means unless you mean it!\"\n",
    "\n",
    "jet_phi.mean()"
   ]
  },
  {
   "cell_type": "code",
   "execution_count": null,
   "metadata": {},
   "outputs": [],
   "source": [
    "# Also worth noting that any and all are reducers... of booleans.\n",
    "\n",
    "same_hemicircle = (abs(bounded_diff) < numpy.pi/2)\n",
    "\n",
    "print(f\"same_hemicircle:             {same_hemicircle}\")\n",
    "print(f\"same_hemicircle.any():       {same_hemicircle.any()}\")\n",
    "print(f\"same_hemicircle.any().any(): {same_hemicircle.any().any()}\")\n",
    "print(f\"same_hemicircle.any().all(): {same_hemicircle.any().all()}\")\n",
    "print(f\"same_hemicircle.all():       {same_hemicircle.all()}\")\n",
    "print(f\"same_hemicircle.all().any(): {same_hemicircle.all().any()}\")\n",
    "print(f\"same_hemicircle.all().all(): {same_hemicircle.all().all()}\")"
   ]
  },
  {
   "cell_type": "markdown",
   "metadata": {},
   "source": [
    "<br><br><br><br><br>\n",
    "\n",
    "<p style=\"font-size: 1.25em; text-align: center\"><b>Slicing:</b> single-item extraction, filtering (cuts), rearrangement</p>\n",
    "\n",
    "<br><br><br><br><br>"
   ]
  },
  {
   "cell_type": "code",
   "execution_count": null,
   "metadata": {},
   "outputs": [],
   "source": [
    "# Basic array slicing is the same as Python list slicing\n",
    "\n",
    "a = numpy.array([0.0, 1.1, 2.2, 3.3, 4.4, 5.5, 6.6, 7.7, 8.8, 9.9])\n",
    "\n",
    "for expr in [\"a[3]      \", \"a[3:]     \", \"a[:3]     \",\n",
    "             \"a[3:7]    \", \"a[3:7:2]  \", \"a[::2]    \"]:\n",
    "    print(expr, \"=\", eval(expr))\n",
    "\n",
    "print()\n",
    "for expr in [\"a[-3]     \", \"a[-3:]    \", \"a[:-3]    \",\n",
    "             \"a[-7:-3]  \", \"a[-7:-3:2]\", \"a[::-1]   \"]:\n",
    "    print(expr, \"=\", eval(expr))"
   ]
  },
  {
   "cell_type": "code",
   "execution_count": null,
   "metadata": {},
   "outputs": [],
   "source": [
    "# But multidimensional arrays can be sliced with an extension of list slicing.\n",
    "a = numpy.array([[ 0,  1,  2,  3,  4,  5],\n",
    "                 [10, 11, 12, 13, 14, 15],\n",
    "                 [20, 21, 22, 23, 24, 25],\n",
    "                 [30, 31, 32, 33, 34, 35]])\n",
    "for expr in \"a[2:, 1:]\", \"a[:, 1:-1]\", \"a[::2, ::2]\", \"a[:, 3]\":\n",
    "    print(expr, \" =\\n\", eval(expr), sep=\"\", end=\"\\n\\n\")"
   ]
  },
  {
   "cell_type": "markdown",
   "metadata": {},
   "source": [
    "<br>\n",
    "\n",
    "<center><img src=\"img/numpy-slicing.png\" width=\"40%\"></center>\n",
    "\n",
    "<br>"
   ]
  },
  {
   "cell_type": "code",
   "execution_count": null,
   "metadata": {},
   "outputs": [],
   "source": [
    "# Masking: using an array of booleans as a slice\n",
    "\n",
    "a    = numpy.array([  1.1,   2.2,   3.3,   4.4,  5.5,   6.6,  7.7,   8.8,  9.9])\n",
    "mask = numpy.array([False, False, False, False, True, False, True, False, True])\n",
    "#                                                5.5          7.7          9.9\n",
    "\n",
    "for expr in \"a[mask]\", \"a < 5\", \"a[a < 5]\":\n",
    "    print(expr, \" =\\n\", eval(expr), sep=\"\", end=\"\\n\\n\")"
   ]
  },
  {
   "cell_type": "code",
   "execution_count": null,
   "metadata": {},
   "outputs": [],
   "source": [
    "# Five-minute exercise: plot masses with (1) opposite charges and\n",
    "#                                        (2) both muon abs(eta) < 1\n",
    "arrays = uproot.open(\"data/Zmumu.root\")[\"events\"].arrays(namedecode=\"utf-8\")\n",
    "print(arrays.keys())\n",
    "for n in arrays:\n",
    "    exec(f\"{n} = arrays['{n}']\")\n",
    "\n",
    "import matplotlib.pyplot\n",
    "matplotlib.pyplot.hist(M, bins=100);"
   ]
  },
  {
   "cell_type": "code",
   "execution_count": null,
   "metadata": {},
   "outputs": [],
   "source": [
    "# What if the boolean mask is jagged?\n",
    "\n",
    "E, px, py, pz, q = uproot.open(\"data/HZZ.root\")[\"events\"].arrays(\n",
    "    [\"Muon_E\", \"Muon_P[xyz]\", \"Muon_Charge\"], outputtype=tuple)\n",
    "\n",
    "print(f\"q:        {q}\")\n",
    "print(f\"\\nq > 0:    {q > 0}\")\n",
    "print(f\"\\nE:        {E}\")\n",
    "print(f\"\\nE[q > 0]: {E[q > 0]}\")"
   ]
  },
  {
   "cell_type": "code",
   "execution_count": null,
   "metadata": {},
   "outputs": [],
   "source": [
    "# JaggedArray slicing does what Numpy does in the cases that overlap...\n",
    "\n",
    "x = awkward.fromiter([[1.1, 2.2, 3.3, 4.4], [5.5, 6.6], [7.7, 8.8, 9.9]])\n",
    "print(f\"x                      = {x}\")\n",
    "\n",
    "# take the first two inner arrays\n",
    "print(f\"\\nx[:2]                  = {x[:2]}\")\n",
    "\n",
    "# take the first two of each inner arrays\n",
    "print(f\"\\nx[:, :2]               = {x[:, :2]}\")\n",
    "\n",
    "# mask outer lists\n",
    "print(f\"\\nx[[True, False, True]] = {x[[True, False, True]]}\")"
   ]
  },
  {
   "cell_type": "code",
   "execution_count": null,
   "metadata": {},
   "outputs": [],
   "source": [
    "# ... and naturally extend it in the new cases.\n",
    "\n",
    "x      = awkward.fromiter([[ 1.1,   2.2,  3.3], [  4.4,   5.5], [ 6.6,  7.7,  8.8]])\n",
    "mask   = awkward.fromiter([        True,             False,             True      ])\n",
    "jmask  = awkward.fromiter([[True, False, True], [False, False], [True, True, True]])\n",
    "\n",
    "print(f\"x[mask]  = {x[mask]}\")       # mask outer array\n",
    "print(f\"\\nx[jmask] = {x[jmask]}\")    # mask inner arrays"
   ]
  },
  {
   "cell_type": "code",
   "execution_count": null,
   "metadata": {},
   "outputs": [],
   "source": [
    "# In Numpy, arrays of integers can also be used as indexes.\n",
    "\n",
    "a = numpy.array([0.0, 1.1, 2.2, 3.3, 4.4, 5.5, 6.6, 7.7, 8.8, 9.9])\n",
    "\n",
    "print(\"selects elements, possibly out of order\")\n",
    "index = numpy.array([3, 5, 0, 9])\n",
    "print(\"a[[3, 5, 0, 9]] =\", a[index])\n",
    "\n",
    "print(\"\\nmay use negative indexing, just like single integers and slices\")\n",
    "index = numpy.array([3, 5, 0, -1, -2, -3])\n",
    "print(\"a[[3, 5, 0, -1, -2, -3]] =\", a[index])\n",
    "\n",
    "print(\"\\nmay include repetitions(!)\")\n",
    "index = numpy.array([3, 5, 0, 9, 9, 9, 3, 5, 0])\n",
    "print(\"a[[3, 5, 0, 9, 9, 9, 3, 5, 0]] =\", a[index])"
   ]
  },
  {
   "cell_type": "code",
   "execution_count": null,
   "metadata": {},
   "outputs": [],
   "source": [
    "# What is integer indexing good for?\n",
    "\n",
    "permutation = eta1.argsort()                   # also try abs(eta1).argsort()\n",
    "\n",
    "print(f\"permutation:\\n{permutation}\")\n",
    "\n",
    "print(f\"\\n\\nsorted eta1:\\n{eta1[permutation]}\")\n",
    "\n",
    "print(f\"\\n\\nE1 sorted by eta1:\\n{E1[permutation]}\")"
   ]
  },
  {
   "cell_type": "code",
   "execution_count": null,
   "metadata": {},
   "outputs": [],
   "source": [
    "# Integer indexes with JaggedArrays:\n",
    "\n",
    "x      = awkward.fromiter([[ 1.1, 2.2, 3.3, 4.4], [5.5, 6.6], [7.7, 8.8, 9.9]])\n",
    "index  = awkward.fromiter([-1, 0, 0])\n",
    "jindex = awkward.fromiter([[0, 0, -1], [0, 0, -1], [0, 0, -1]])\n",
    "\n",
    "print(f\"x[index]  = {x[index]}\")       # rearrange outer array\n",
    "print(f\"\\nx[jindex] = {x[jindex]}\")    # rearrange inner arrays"
   ]
  },
  {
   "cell_type": "code",
   "execution_count": null,
   "metadata": {},
   "outputs": [],
   "source": [
    "# Use case for jagged indexing: argmin and argmax\n",
    "\n",
    "E, px, py, pz, q = uproot.open(\"data/HZZ.root\")[\"events\"].arrays(\n",
    "    [\"Muon_E\", \"Muon_P[xyz]\", \"Muon_Charge\"], outputtype=tuple)\n",
    "\n",
    "eta = numpy.arctanh(pz / numpy.sqrt(px**2 + py**2 + pz**2))\n",
    "print(f\"eta:            {eta}\")\n",
    "\n",
    "maxabseta = abs(eta).argmax()\n",
    "print(f\"\\nmaxabseta:      {maxabseta}\")\n",
    "\n",
    "print(f\"\\neta[maxabseta]: {eta[maxabseta]}\")   # eta with max |eta| per event\n",
    "\n",
    "print(f\"\\nE[maxabseta]:   {E[maxabseta]}\")     # energy with max |eta| per event"
   ]
  },
  {
   "cell_type": "code",
   "execution_count": null,
   "metadata": {},
   "outputs": [],
   "source": [
    "# Array indexing is useful in surprising ways because it's a basic mathematical\n",
    "# operation: thinking of f[x] as a function, array indexing is function composition.\n",
    "\n",
    "# Take any two non-negative functions of integers...\n",
    "def f(x):\n",
    "    return x**2 - 5*x + 10\n",
    "def g(y):\n",
    "    return max(0, 2*y - 10) + 3\n",
    "\n",
    "# ... and sample them as arrays\n",
    "F   = numpy.array([f(i) for i in numpy.arange(10)])     # F is f at 10 elements\n",
    "G   = numpy.array([g(i) for i in numpy.arange(100)])    # G is g at enough elements to include max(f)\n",
    "GoF = numpy.array([g(f(i)) for i in numpy.arange(10)])  # GoF is g∘f at 10 elements\n",
    "\n",
    "print(\"G\\u2218F =\", G[F])   # integer indexing\n",
    "print(\"g\\u2218f =\", GoF)    # array of the composed functions"
   ]
  },
  {
   "cell_type": "code",
   "execution_count": null,
   "metadata": {},
   "outputs": [],
   "source": [
    "# Consider the following application:\n",
    "\n",
    "text = \"\"\"Four score and seven years ago our fathers brought forth on this continent, a new nation,\n",
    "conceived in Liberty, and dedicated to the proposition that all men are created equal.\n",
    "\n",
    "Now we are engaged in a great civil war, testing whether that nation, or any nation so conceived and\n",
    "so dedicated, can long endure. We are met on a great battle-field of that war. We have come to\n",
    "dedicate a portion of that field, as a final resting place for those who here gave their lives that\n",
    "that nation might live. It is altogether fitting and proper that we should do this.\n",
    "\n",
    "But, in a larger sense, we can not dedicate—we can not consecrate—we can not hallow—this ground. The\n",
    "brave men, living and dead, who struggled here, have consecrated it, far above our poor power to add\n",
    "or detract. The world will little note, nor long remember what we say here, but it can never forget\n",
    "what they did here. It is for us the living, rather, to be dedicated here to the unfinished work which\n",
    "they who fought here have thus far so nobly advanced. It is rather for us to be here dedicated to the\n",
    "great task remaining before us—that from these honored dead we take increased devotion to that cause\n",
    "for which they gave the last full measure of devotion—that we here highly resolve that these dead\n",
    "shall not have died in vain—that this nation, under God, shall have a new birth of freedom—and that\n",
    "government of the people, by the people, for the people, shall not perish from the earth.\"\"\"\n",
    "\n",
    "words = text.replace(\".\", \" \").replace(\",\", \" \").replace(\"-\", \" \").replace(\"\\u2014\", \" \").split()"
   ]
  },
  {
   "cell_type": "code",
   "execution_count": null,
   "metadata": {},
   "outputs": [],
   "source": [
    "# Dictionary encoding: for compression or textual analysis\n",
    "\n",
    "words = numpy.array(words)\n",
    "dictionary, index = numpy.unique(words, return_inverse=True)\n",
    "\n",
    "print(\"len(words) =\", len(words), \"\\nwords[:25] =\\n\" + str(words[:25]))\n",
    "print(\"\\nlen(dictionary) =\", len(dictionary), \"\\ndictionary[:25] =\\n\" + str(dictionary[:25]))\n",
    "print(\"\\nlen(index) =\", len(index), \"\\nindex[:25] =\\n\" + str(index[:25]))"
   ]
  },
  {
   "cell_type": "code",
   "execution_count": null,
   "metadata": {},
   "outputs": [],
   "source": [
    "# Recovering the original text is function composition:\n",
    "# \n",
    "# index             : positions in corpus → integer codes\n",
    "# dictionary        : integer codes       → words\n",
    "\n",
    "dictionary[index]"
   ]
  },
  {
   "cell_type": "code",
   "execution_count": null,
   "metadata": {},
   "outputs": [],
   "source": [
    "# Five minute exercise: dense array → sparse array → dense array.\n",
    "dense1 = 1.1 * numpy.array(\n",
    "    [0, 0, 0, 0, 0, 0, 0, 0, 0, 0, 0, 0, 0, 0, 0, 0, 0, 0, 0, 0, 0, 0, 0, 0, 0,\n",
    "     0, 0, 0, 0, 0, 0, 0, 0, 0, 0, 0, 0, 1, 2, 0, 1, 0, 0, 0, 0, 4, 1, 0, 3, 0,\n",
    "     1, 2, 0, 1, 0, 0, 0, 0, 1, 0, 0, 0, 0, 0, 0, 0, 0, 0, 0, 0, 0, 0, 0, 0, 0,\n",
    "     0, 0, 0, 0, 0, 0, 0, 0, 0, 0, 0, 0, 0, 0, 0, 0, 0, 0, 0, 0, 0, 0, 0, 0, 0])\n",
    "\n",
    "sparse_indexes = numpy.nonzero(dense1)[0]\n",
    "sparse_values  = dense1[sparse_indexes]\n",
    "print(\"sparse indexes:\", sparse_indexes, \"\\nsparse values: \", sparse_values)\n",
    "\n",
    "dense2 = numpy.zeros(len(dense1))\n",
    "???\n",
    "print(\"recovered dense:\", dense2, sep=\"\\n\")"
   ]
  },
  {
   "cell_type": "markdown",
   "metadata": {},
   "source": [
    "<br><br>\n",
    "\n",
    "<p style=\"font-size: 1.25em\">Summary of slicing</p>\n",
    "\n",
    "   * **if X is an integer:** selects individual elements;\n",
    "   * **if X is a slice:** selects a contiguous or regularly strided subrange (strides can be backward);\n",
    "   * **if X is a tuple** (any commas between square brackets): applies selections to multiple dimensions;\n",
    "   * **if X is a boolean array:** filters arbitrarily chosen elements (preserving order);\n",
    "   * **if X is an integer array:** applies a function of integers, arbitrarily chosen, in any order, and may have duplicates.\n",
    "\n",
    "<br>\n",
    "\n",
    "See [Numpy's advanced indexing documentation](https://docs.scipy.org/doc/numpy/reference/arrays.indexing.html#advanced-indexing) for more (e.g. slicing by a tuple of arrays)."
   ]
  },
  {
   "cell_type": "markdown",
   "metadata": {},
   "source": [
    "<br><br><br><br><br>\n",
    "\n",
    "<p style=\"font-size: 1.25em; text-align: center\"><b>Awkward arrays:</b> extensions to Numpy for particle physics</p>\n",
    "\n",
    "<br><br><br><br><br>"
   ]
  },
  {
   "cell_type": "markdown",
   "metadata": {},
   "source": [
    "<br>\n",
    "\n",
    "<p style=\"font-size: 1.25em\">We've seen some examples of jagged arrays and how they extend Numpy.</p>\n",
    "\n",
    "<p style=\"font-size: 1.25em\"><tt>JaggedArray</tt> is one of the classes in awkward-array to provide the kinds of data structures needed by particle physics in array form.</p>\n",
    "\n",
    "<br>\n",
    "\n",
    "<center><img src=\"img/abstraction-layers.png\" width=\"80%\"></center>\n",
    "\n",
    "<br>"
   ]
  },
  {
   "cell_type": "code",
   "execution_count": null,
   "metadata": {},
   "outputs": [],
   "source": [
    "# PyROOT's jagged array is an RVec object for every event (viewed through PyROOT).\n",
    "\n",
    "import ROOT\n",
    "rdf = ROOT.RDataFrame(\"events\", \"data/HZZ.root\")\n",
    "rdf.AsNumpy(columns=[\"Muon_E\"])"
   ]
  },
  {
   "cell_type": "code",
   "execution_count": null,
   "metadata": {},
   "outputs": [],
   "source": [
    "# root_numpy's jagged array is a Numpy array for every event.\n",
    "\n",
    "import root_numpy\n",
    "root_numpy.root2array(\"data/HZZ.root\", \"events\", branches=[\"Muon_E\"])"
   ]
  },
  {
   "cell_type": "code",
   "execution_count": null,
   "metadata": {},
   "outputs": [],
   "source": [
    "# Awkward/uproot's jagged array consists of three arrays: starts/stops and content.\n",
    "#\n",
    "# The number of Python objects does not scale with the number of events.\n",
    "\n",
    "import uproot\n",
    "array = uproot.open(\"data/HZZ.root\")[\"events\"].array(\"Muon_E\")\n",
    "\n",
    "print(array.layout)\n",
    "\n",
    "array.starts, array.stops, array.content"
   ]
  },
  {
   "cell_type": "markdown",
   "metadata": {},
   "source": [
    "<img src=\"img/arrow-website.png\" width=\"100%\">"
   ]
  },
  {
   "cell_type": "code",
   "execution_count": null,
   "metadata": {},
   "outputs": [],
   "source": [
    "# Recent projects outside of particle physics (Arrow, Parquet, Zarr, XND, and\n",
    "# TensorFlow) also have jagged arrays represented as contiguous flat arrays.\n",
    "# \n",
    "# Using a similar format lets us easily (and quickly!) convert between them.\n",
    "\n",
    "awkward.toparquet(\"tmp.parquet\", array)\n",
    "awkward.toarrow(array)"
   ]
  },
  {
   "cell_type": "markdown",
   "metadata": {},
   "source": [
    "<br><br>\n",
    "\n",
    "<p style=\"font-size: 2em; margin-bottom: 0px\">In particular,</p>\n",
    "\n",
    "<center style=\"margin-top: 0px\"><img src=\"img/pandas-logo.png\" width=\"35%\" style=\"margin-top: 0px\"></center>\n",
    "\n",
    "<br><br>"
   ]
  },
  {
   "cell_type": "code",
   "execution_count": null,
   "metadata": {},
   "outputs": [],
   "source": [
    "# Pandas is a data analysis environment built around in-memory tables.\n",
    "# \n",
    "# \"Numpy with an index\" ... \"Programmatic Excel\" ... \"SQL with an ordering\"\n",
    "\n",
    "uproot.open(\"data/Zmumu.root\")[\"events\"].pandas.df()"
   ]
  },
  {
   "cell_type": "code",
   "execution_count": null,
   "metadata": {},
   "outputs": [],
   "source": [
    "# Pandas deals with jaggedness by putting structure in an index, not the values.\n",
    "\n",
    "df = uproot.open(\"data/HZZ.root\")[\"events\"].pandas.df([\"Muon_E\", \"Muon_P[xyz]\"])\n",
    "df"
   ]
  },
  {
   "cell_type": "code",
   "execution_count": null,
   "metadata": {},
   "outputs": [],
   "source": [
    "# This seems a little odd (to me), but you can definitely work with it.\n",
    "\n",
    "df.unstack()"
   ]
  },
  {
   "cell_type": "code",
   "execution_count": null,
   "metadata": {},
   "outputs": [],
   "source": [
    "# This has some interesting features: nested objects become multi-level columns...\n",
    "\n",
    "array = awkward.fromiter([{\"x\": i, \"y\": {\"y1\": i, \"y2\": i}, \"z\": {\"z1\": {\"z2\": i}}}\n",
    "                          for i in range(10)])\n",
    "print(array[:2].tolist())\n",
    "awkward.topandas(array, flatten=True)"
   ]
  },
  {
   "cell_type": "code",
   "execution_count": null,
   "metadata": {},
   "outputs": [],
   "source": [
    "# ... and nested lists become multi-level rows.\n",
    "\n",
    "f = lambda i: [{\"x\": i, \"y\": i}] * i\n",
    "array = awkward.fromiter([[f(1), f(2)], [f(3)], [f(4), f(5), f(6)]])\n",
    "print(array[:2].tolist())\n",
    "awkward.topandas(array, flatten=True)"
   ]
  },
  {
   "cell_type": "code",
   "execution_count": null,
   "metadata": {},
   "outputs": [],
   "source": [
    "# One-per-event data must be duplicated for each particle, and are inaccessible\n",
    "# when there are no particles.\n",
    "\n",
    "# (Switch between flatten=False and flatten=True.)\n",
    "uproot.open(\"data/HZZ.root\")[\"events\"].pandas.df([\"MET_*\", \"Jet_P[xyz]\"],\n",
    "                                                 flatten=False)"
   ]
  },
  {
   "cell_type": "code",
   "execution_count": null,
   "metadata": {},
   "outputs": [],
   "source": [
    "# And there isn't a way to deal with different jaggedness in the same table.\n",
    "\n",
    "# (Switch between flatten=False and flatten=True.)\n",
    "uproot.open(\"data/HZZ.root\")[\"events\"].pandas.df([\"Muon_P[xyz]\", \"Jet_P[xyz]\"],\n",
    "                                                 flatten=False)"
   ]
  },
  {
   "cell_type": "markdown",
   "metadata": {},
   "source": [
    "<br><br><br><br>\n",
    "\n",
    "<center><img src=\"img/awkward-logo.png\" width=\"40%\"></center>\n",
    "\n",
    "<br><br><br><br>"
   ]
  },
  {
   "cell_type": "code",
   "execution_count": null,
   "metadata": {},
   "outputs": [],
   "source": [
    "# Awkward-array is designed to handle arbitrary data structures in a way that\n",
    "# fits both ROOT and Arrow/Parquet.\n",
    "\n",
    "array = awkward.Table(uproot.open(\"data/HZZ-objects.root\")[\"events\"].arrays(\n",
    "    [\"MET\", \"muonp4\", \"muonq\", \"jetp4\"], namedecode=\"utf-8\"))\n",
    "\n",
    "array[:10].tolist()"
   ]
  },
  {
   "cell_type": "code",
   "execution_count": null,
   "metadata": {},
   "outputs": [],
   "source": [
    "# ROOT has objects like TLorentzVector, but they translate to generic Tables\n",
    "# in Arrow/Parquet.\n",
    "\n",
    "awkward.toarrow(array)\n",
    "# awkward.fromarrow(awkward.toarrow(array))[:10].tolist()"
   ]
  },
  {
   "cell_type": "code",
   "execution_count": null,
   "metadata": {},
   "outputs": [],
   "source": [
    "# You can iterate over these objects in for loops, like PyROOT...\n",
    "\n",
    "for i, event in enumerate(array):\n",
    "    print(\"new event\", event.MET)\n",
    "    for muon in event.muonp4:\n",
    "        print(\"    muon\", muon)\n",
    "    for jet in event.jetp4:\n",
    "        print(\"    jet \", jet)\n",
    "    if i > 10:\n",
    "        break"
   ]
  },
  {
   "cell_type": "code",
   "execution_count": null,
   "metadata": {},
   "outputs": [],
   "source": [
    "# ... but if you need to scale up, use array-at-a-time operations.\n",
    "\n",
    "mu1 = array.muonp4[array.muonp4.counts >= 2, 0]\n",
    "mu2 = array.muonp4[array.muonp4.counts >= 2, 1]\n",
    "(mu1 + mu2).mass"
   ]
  },
  {
   "cell_type": "code",
   "execution_count": null,
   "metadata": {},
   "outputs": [],
   "source": [
    "# The \"combinatorics\" we need for particle physics requires a few new operations.\n",
    "\n",
    "# Take any two muons from events that have them, not necessarily the first two.\n",
    "pairs = array.muonp4.choose(2)\n",
    "pairs"
   ]
  },
  {
   "cell_type": "code",
   "execution_count": null,
   "metadata": {},
   "outputs": [],
   "source": [
    "# Get the first and second element of each pair.\n",
    "\n",
    "first, second = pairs.unzip()\n",
    "first, second"
   ]
  },
  {
   "cell_type": "code",
   "execution_count": null,
   "metadata": {},
   "outputs": [],
   "source": [
    "# Compute the mass and plot.\n",
    "# \n",
    "# (\"flatten\" because Matplotlib needs a flat array, not a jagged array.)\n",
    "\n",
    "matplotlib.pyplot.hist((first + second).mass.flatten(), bins=100, range=(0, 150));"
   ]
  },
  {
   "cell_type": "code",
   "execution_count": null,
   "metadata": {},
   "outputs": [],
   "source": [
    "# Five-minute exercise: plot masses with (1) opposite charges and\n",
    "#                                        (2) both muon abs(eta) < 1\n",
    "# This time, it's jagged.\n",
    "\n",
    "array.muonq, array.muonp4.eta\n",
    "\n",
    "# first, second = array.muonp4.choose(2).unzip()\n",
    "# matplotlib.pyplot.hist((first + second).mass.flatten(), bins=100, range=(0, 150));"
   ]
  },
  {
   "cell_type": "code",
   "execution_count": null,
   "metadata": {},
   "outputs": [],
   "source": [
    "# Advanced combinatorics: muons that are close to jets\n",
    "\n",
    "# Step 1: jet-muon pairs with a doubly-jagged structure\n",
    "# so we have one of these for every jet\n",
    "jets, muons = array.jetp4.cross(array.muonp4, nested=True).unzip()\n",
    "jets, muons"
   ]
  },
  {
   "cell_type": "code",
   "execution_count": null,
   "metadata": {},
   "outputs": [],
   "source": [
    "# Advanced combinatorics: muons that are close to jets\n",
    "\n",
    "# Step 2: ΔR between each jet and muon\n",
    "distance = jets.delta_r(muons)\n",
    "distance"
   ]
  },
  {
   "cell_type": "code",
   "execution_count": null,
   "metadata": {},
   "outputs": [],
   "source": [
    "# Advanced combinatorics: muons that are close to jets\n",
    "\n",
    "# Step 3: mask those that have any within ΔR < 1.0\n",
    "mask = (distance < 1.0).any()\n",
    "print(f\"mask:  {mask}\")\n",
    "\n",
    "# Step 4: index of the closest one\n",
    "index = distance.argmin()\n",
    "print(f\"index: {index}\")"
   ]
  },
  {
   "cell_type": "code",
   "execution_count": null,
   "metadata": {},
   "outputs": [],
   "source": [
    "# Advanced combinatorics: muons that are close to jets\n",
    "\n",
    "# Step 5: select those jets\n",
    "jets_near_muons = jets[index][mask]\n",
    "jets_near_muons\n",
    "\n",
    "# (Use this to see just the events that have one.)\n",
    "# jets_near_muons[jets_near_muons.counts > 0]"
   ]
  },
  {
   "cell_type": "code",
   "execution_count": null,
   "metadata": {},
   "outputs": [],
   "source": [
    "# Advanced combinatorics: muons that are close to jets\n",
    "\n",
    "# Choice A: we want just those jets. Need to flatten the inner arrays so that\n",
    "# the result is singly jagged, like the original jets.\n",
    "\n",
    "array[\"jets_near_muons\"] = jets_near_muons.flatten(axis=1)\n",
    "\n",
    "for i, event in enumerate(array):\n",
    "    if mask[i].any():\n",
    "        print(event.jetp4)\n",
    "        print(event.jets_near_muons)\n",
    "        print()\n",
    "    if i > 100:\n",
    "        break"
   ]
  },
  {
   "cell_type": "code",
   "execution_count": null,
   "metadata": {},
   "outputs": [],
   "source": [
    "# Advanced combinatorics: muons that are close to jets\n",
    "\n",
    "# Choice B: we want to link to the relevant muons, with the ΔR distance\n",
    "\n",
    "array[\"nearest_muon\"] = muons[index].pad(1, axis=1).flatten(axis=1)\n",
    "array[\"distance\"]     = distance[index].pad(1, axis=1).flatten(axis=1)\n",
    "\n",
    "# Set link to None if nearest_muon or distance doesn't pass the cut\n",
    "array.nearest_muon.content.mask |= ~mask.flatten()\n",
    "array.distance.content.mask     |= ~mask.flatten()\n",
    "\n",
    "for i, event in enumerate(array):\n",
    "    if mask[i].any():\n",
    "        print(event.jetp4)\n",
    "        print(event.nearest_muon)\n",
    "        print(event.distance)\n",
    "        print()\n",
    "    if i > 100:\n",
    "        break"
   ]
  },
  {
   "cell_type": "code",
   "execution_count": null,
   "metadata": {},
   "outputs": [],
   "source": [
    "# Apologies for using functions that have not yet been introduced: just as with\n",
    "# Numpy, working with awkward arrays means learning a vocabulary of single-step\n",
    "# functions and putting them together.\n",
    "\n",
    "a = awkward.fromiter([[1.1, 2.2, 3.3], [], [4.4, 5.5], [6.6, 7.7, 8.8, 9.9]])\n",
    "\n",
    "# \"pad\" means fill inner arrays with None until it has at least N elements.\n",
    "a.pad(3)"
   ]
  },
  {
   "cell_type": "code",
   "execution_count": null,
   "metadata": {},
   "outputs": [],
   "source": [
    "# Apologies for using functions that have not yet been introduced: just as with\n",
    "# Numpy, working with awkward arrays means learning a vocabulary of single-step\n",
    "# functions and putting them together.\n",
    "\n",
    "a = awkward.fromiter([[1.1, 2.2, 3.3], [], [4.4, 5.5], [6.6, 7.7, 8.8, 9.9]])\n",
    "\n",
    "# You can use it with \"fillna\" and \"regular\" to make a regular Numpy array.\n",
    "a.pad(3, clip=True).fillna(999).regular()"
   ]
  },
  {
   "cell_type": "code",
   "execution_count": null,
   "metadata": {},
   "outputs": [],
   "source": [
    "# Apologies for using functions that have not yet been introduced: just as with\n",
    "# Numpy, working with awkward arrays means learning a vocabulary of single-step\n",
    "# functions and putting them together.\n",
    "\n",
    "a = awkward.fromiter([[1.1, 2.2, 3.3], [], [4.4, 5.5], [6.6, 7.7, 8.8, 9.9]])\n",
    "\n",
    "# In the previous example, we used it with argmax, which makes inner arrays of\n",
    "# length 0 or 1, to ensure that they're always length 1.\n",
    "a.argmax().pad(1)"
   ]
  },
  {
   "cell_type": "code",
   "execution_count": null,
   "metadata": {},
   "outputs": [],
   "source": [
    "# Apologies for using functions that have not yet been introduced: just as with\n",
    "# Numpy, working with awkward arrays means learning a vocabulary of single-step\n",
    "# functions and putting them together.\n",
    "\n",
    "a = awkward.fromiter([[1.1, 2.2, 3.3], [], [4.4, 5.5], [6.6, 7.7, 8.8, 9.9]])\n",
    "\n",
    "# Once we've done that, we don't need the inner structure anymore and can flatten\n",
    "# it to get a non-jagged array.\n",
    "a.argmax().pad(1).flatten()"
   ]
  },
  {
   "cell_type": "code",
   "execution_count": null,
   "metadata": {},
   "outputs": [],
   "source": [
    "# Apologies for using functions that have not yet been introduced: just as with\n",
    "# Numpy, working with awkward arrays means learning a vocabulary of single-step\n",
    "# functions and putting them together.\n",
    "\n",
    "a = awkward.fromiter([[[1.1, 2.2, 3.3]], [[], [4.4, 5.5]], [[6.6, 7.7, 8.8, 9.9]]])\n",
    "\n",
    "# But all of that happened inside a doubly-jagged array, in which we wanted to\n",
    "# collapse the inner dimension, so we used axis=1. (Same meaning as in Numpy.)\n",
    "a.argmax().pad(1, axis=1).flatten(axis=1)"
   ]
  },
  {
   "cell_type": "markdown",
   "metadata": {},
   "source": [
    "<br><br>\n",
    "\n",
    "<p style=\"font-size: 1.25em\">Although we've only talked about variable-length lists, objects, and <tt>None</tt>, awkward-array types form a complete type system:</p>\n",
    "\n",
    "<ul>\n",
    "    <li style=\"font-size: 1.25em\"><b>Primitive types:</b> numbers, booleans, and fixed-size binary blobs via Numpy,\n",
    "    <li style=\"font-size: 1.25em\"><b>Lists:</b> variable-length lists via <tt>JaggedArray</tt>,\n",
    "    <li style=\"font-size: 1.25em\"><b>Union (sum) types:</b> heterogeneous lists via <tt>UnionArray</tt>,\n",
    "    <li style=\"font-size: 1.25em\"><b>Record (product) types:</b> objects (<tt>Table</tt>), implicitly in our previous examples,\n",
    "    <li style=\"font-size: 1.25em\"><b>Pointers:</b> cross-references and circular references via <tt>IndexedArray</tt>,\n",
    "    <li style=\"font-size: 1.25em\"><b>Non-contiguous data:</b> via <tt>ChunkedArray</tt>,\n",
    "    <li style=\"font-size: 1.25em\"><b>Lazy data:</b> via <tt>VirtualArray</tt>.\n",
    "</ul>\n",
    "\n",
    "<br><br>"
   ]
  },
  {
   "cell_type": "code",
   "execution_count": null,
   "metadata": {},
   "outputs": [],
   "source": [
    "# Just to demonstrate, let's make a tree...\n",
    "\n",
    "tree = awkward.fromiter([\n",
    "    {\"value\": 1.23, \"left\":    1, \"right\":    2},     # node 0\n",
    "    {\"value\": 3.21, \"left\":    3, \"right\":    4},     # node 1\n",
    "    {\"value\": 9.99, \"left\":    5, \"right\":    6},     # node 2\n",
    "    {\"value\": 3.14, \"left\":    7, \"right\": None},     # node 3\n",
    "    {\"value\": 2.71, \"left\": None, \"right\":    8},     # node 4\n",
    "    {\"value\": 5.55, \"left\": None, \"right\": None},     # node 5\n",
    "    {\"value\": 8.00, \"left\": None, \"right\": None},     # node 6\n",
    "    {\"value\": 9.00, \"left\": None, \"right\": None},     # node 7\n",
    "    {\"value\": 0.00, \"left\": None, \"right\": None},     # node 8\n",
    "])\n",
    "\n",
    "left = tree.contents[\"left\"].content\n",
    "right = tree.contents[\"right\"].content\n",
    "left[(left < 0) | (left > 8)] = 0\n",
    "right[(right < 0) | (right > 8)] = 0\n",
    "\n",
    "tree.contents[\"left\"].content = awkward.IndexedArray(left, tree)\n",
    "tree.contents[\"right\"].content = awkward.IndexedArray(right, tree)"
   ]
  },
  {
   "cell_type": "code",
   "execution_count": null,
   "metadata": {},
   "outputs": [],
   "source": [
    "print(\"Physical layout:\")\n",
    "print(\"------------------------------------------------------------------\")\n",
    "for i, x in tree.layout.items():\n",
    "    if x.cls == numpy.ndarray:\n",
    "        print(\"{0:10s} {1}\".format(repr(i), x.array))\n",
    "\n",
    "import json\n",
    "print(\"\\nLogical meaning:\")\n",
    "print(\"------------------------------------------------------------------\")\n",
    "print(json.dumps(tree[0].tolist(), indent=4))"
   ]
  },
  {
   "cell_type": "code",
   "execution_count": null,
   "metadata": {},
   "outputs": [],
   "source": [
    "# For those of you who were here yesterday, do you remember this?\n",
    "import sklearn.datasets, matplotlib.pyplot\n",
    "X1, y1 = sklearn.datasets.make_gaussian_quantiles(\n",
    "    cov=2.0, n_samples=200, n_features=2, n_classes=2, random_state=1)\n",
    "X2, y2 = sklearn.datasets.make_gaussian_quantiles(\n",
    "    mean=(3, 3), cov=1.5, n_samples=400, n_features=2, n_classes=2, random_state=1)\n",
    "X = numpy.concatenate((X1, X2))\n",
    "y = numpy.concatenate((y1, -y2 + 1))\n",
    "matplotlib.pyplot.scatter(X[y == 0, 0], X[y == 0, 1], c=\"deepskyblue\", edgecolor=\"black\");\n",
    "matplotlib.pyplot.scatter(X[y == 1, 0], X[y == 1, 1], c=\"orange\", edgecolor=\"black\");"
   ]
  },
  {
   "cell_type": "code",
   "execution_count": null,
   "metadata": {},
   "outputs": [],
   "source": [
    "# We made a decision tree using Scikit-Learn...\n",
    "import sklearn.tree\n",
    "decision_tree = sklearn.tree.DecisionTreeClassifier(max_depth=8)\n",
    "decision_tree.fit(X, y)\n",
    "xx, yy = numpy.meshgrid(numpy.arange(-5, 8, 0.02), numpy.arange(-5, 8, 0.02))\n",
    "Z = decision_tree.predict(numpy.c_[xx.ravel(), yy.ravel()]).reshape(xx.shape)\n",
    "matplotlib.pyplot.contourf(xx, yy, Z);\n",
    "matplotlib.pyplot.scatter(X[y == 0, 0], X[y == 0, 1], c=\"deepskyblue\", edgecolor=\"black\", alpha=0.2);\n",
    "matplotlib.pyplot.scatter(X[y == 1, 0], X[y == 1, 1], c=\"orange\", edgecolor=\"black\", alpha=0.2);\n",
    "matplotlib.pyplot.xlim(-5, 8); matplotlib.pyplot.ylim(-5, 8);"
   ]
  },
  {
   "cell_type": "code",
   "execution_count": null,
   "metadata": {},
   "outputs": [],
   "source": [
    "# Scikit-Learn is already using columnar trees: we can just cast it.\n",
    "mask = decision_tree.tree_.children_left < 0\n",
    "left = decision_tree.tree_.children_left.copy()\n",
    "right = decision_tree.tree_.children_right.copy()\n",
    "left[mask] = 0\n",
    "right[mask] = 0\n",
    "\n",
    "tree = awkward.Table()\n",
    "tree[\"feature\"]   = awkward.MaskedArray(mask, decision_tree.tree_.feature)\n",
    "tree[\"threshold\"] = awkward.MaskedArray(mask, decision_tree.tree_.threshold)\n",
    "tree[\"left\"]      = awkward.MaskedArray(mask, awkward.IndexedArray(left, tree))\n",
    "tree[\"right\"]     = awkward.MaskedArray(mask, awkward.IndexedArray(right, tree))\n",
    "tree[\"value\"]     = decision_tree.tree_.value[:, 0, 0] - decision_tree.tree_.value[:, 0, 1]\n",
    "\n",
    "tree[0].tolist()"
   ]
  },
  {
   "cell_type": "markdown",
   "metadata": {},
   "source": [
    "<br>\n",
    "\n",
    "<p style=\"font-size: 1.25em\">Columnar data structures are more general than the array-at-a-time programming paradigm. There are ongoing efforts to use the same awkward arrays in several programming paradigms:</p>\n",
    "\n",
    "<ul>\n",
    "    <li style=\"font-size: 1.25em\"><b>conventional imperative programming</b> in Numba (compiled Python, using awkward arrays as data types),\n",
    "    <li style=\"font-size: 1.25em\"><b>truly vectorized programming</b> on GPUs with CuPy and Numba,\n",
    "    <li style=\"font-size: 1.25em\"><b>declarative languages</b> (user specifies the <i>what</i>, not the <i>how</i>). Examples: LINQ, SQL-per-event, combinatorical pattern-matching...\n",
    "</ul>\n",
    "\n",
    "<br>\n",
    "\n",
    "<p style=\"font-size: 1.25em\">Columnar data structures provide a zero-copy medium between all of these paradigms.</p>\n",
    "\n",
    "<br>"
   ]
  },
  {
   "cell_type": "markdown",
   "metadata": {},
   "source": [
    "<br><br><br><br>\n",
    "\n",
    "<center><img src=\"img/uproot-logo.png\" width=\"40%\"></center>\n",
    "\n",
    "<br><br><br><br>"
   ]
  },
  {
   "cell_type": "code",
   "execution_count": null,
   "metadata": {},
   "outputs": [],
   "source": [
    "# We've been using uproot for many of our examples so far.\n",
    "# \n",
    "# As a re-write of ROOT I/O in Python, uproot presents the data in a Pythonic way:\n",
    "\n",
    "file = uproot.open(\"http://scikit-hep.org/uproot/examples/nesteddirs.root\")\n",
    "\n",
    "print(\"file is a read-only dict, from object names to objects:\\n\")\n",
    "print(f\"file.keys()                  → {file.keys()}\\n\")\n",
    "print(f\"file['one'].keys()           → {file['one'].keys()}\\n\")\n",
    "print(f\"file['one']['two'].classes() → {dict(file['one']['two'].classes())}\\n\")\n",
    "print(f\"file['one']['two']['tree']   → {file['one']['two']['tree']}\\n\")\n",
    "print(f\"file['one/two/tree']         → {file['one/two/tree']}\")"
   ]
  },
  {
   "cell_type": "code",
   "execution_count": null,
   "metadata": {},
   "outputs": [],
   "source": [
    "# TBranches of TTrees are also presented as dicts.\n",
    "events = uproot.open(\"data/Zmumu.root\")[\"events\"]\n",
    "events.keys()"
   ]
  },
  {
   "cell_type": "code",
   "execution_count": null,
   "metadata": {},
   "outputs": [],
   "source": [
    "# Get an array with TBranch.array().\n",
    "\n",
    "events[\"E1\"].array()"
   ]
  },
  {
   "cell_type": "code",
   "execution_count": null,
   "metadata": {},
   "outputs": [],
   "source": [
    "# Or TTree.array(branchname).\n",
    "\n",
    "events.array(\"E1\")"
   ]
  },
  {
   "cell_type": "code",
   "execution_count": null,
   "metadata": {},
   "outputs": [],
   "source": [
    "# The plural form, arrays, returns a dict from branch names to arrays.\n",
    "\n",
    "events.arrays(\"E1\")"
   ]
  },
  {
   "cell_type": "code",
   "execution_count": null,
   "metadata": {},
   "outputs": [],
   "source": [
    "# You get the arrays you ask for.\n",
    "\n",
    "events.arrays([\"E1\", \"px1\", \"py1\", \"pz1\"])"
   ]
  },
  {
   "cell_type": "code",
   "execution_count": null,
   "metadata": {},
   "outputs": [],
   "source": [
    "# With wildcards.\n",
    "\n",
    "events.arrays([\"E1\", \"p[xyz]1\"])"
   ]
  },
  {
   "cell_type": "code",
   "execution_count": null,
   "metadata": {},
   "outputs": [],
   "source": [
    "# These are the same wildcard patterns as matching files in UNIX.\n",
    "\n",
    "events.arrays([\"E1\", \"p*1\"])"
   ]
  },
  {
   "cell_type": "code",
   "execution_count": null,
   "metadata": {},
   "outputs": [],
   "source": [
    "# Or with slashes, they become regular expressions.\n",
    "\n",
    "events.arrays([\"E1\", \"/p.*[0-1]/\"])"
   ]
  },
  {
   "cell_type": "code",
   "execution_count": null,
   "metadata": {},
   "outputs": [],
   "source": [
    "# The \"b\" before each string (for bytestring) can be removed in Python 3 by\n",
    "# specifying an encoding (strings in ROOT have no default encoding).\n",
    "\n",
    "events.arrays([\"E1\", \"px1\", \"py1\", \"pz1\"], namedecode=\"utf-8\")"
   ]
  },
  {
   "cell_type": "code",
   "execution_count": null,
   "metadata": {},
   "outputs": [],
   "source": [
    "# And we can change the container from a dict to something else by passing a\n",
    "# class name; tuple is useful because it lets us assign each array.\n",
    "\n",
    "E, px, py, pz = events.arrays([\"E1\", \"px1\", \"py1\", \"pz1\"], outputtype=tuple)"
   ]
  },
  {
   "cell_type": "code",
   "execution_count": null,
   "metadata": {},
   "outputs": [],
   "source": [
    "# outputtype=pandas.DataFrame is a synonym for TTree.pandas.df.\n",
    "\n",
    "import pandas\n",
    "events.arrays([\"E1\", \"px1\", \"py1\", \"pz1\"], outputtype=pandas.DataFrame)"
   ]
  },
  {
   "cell_type": "code",
   "execution_count": null,
   "metadata": {},
   "outputs": [],
   "source": [
    "# Use an explicit cache to avoid reading many times from the same file.\n",
    "\n",
    "uproot.asdtype.debug_reading = True\n",
    "\n",
    "print(\"asking for array...\")\n",
    "events.array(\"E1\")\n",
    "\n",
    "mycache = {}    # or maybe uproot.ArrayCache(\"1 GB\")\n",
    "\n",
    "print(\"asking for it with a cache...\")\n",
    "events.array(\"E1\", cache=mycache)\n",
    "\n",
    "print(\"asking for it again...\")\n",
    "events.array(\"E1\", cache=mycache)\n",
    "\n",
    "uproot.asdtype.debug_reading = False"
   ]
  },
  {
   "cell_type": "markdown",
   "metadata": {},
   "source": [
    "<br>\n",
    "\n",
    "<p style=\"font-weight: bold; font-size: 1.875em; color: gray\">Three ways to get data:</p>\n",
    "\n",
    "<table width=\"100%\" style=\"font-size: 1.25em\"><tr style=\"background: white;\">\n",
    "    <td width=\"33%\" style=\"vertical-align: top\">\n",
    "        <p style=\"font-weight: bold; font-size: 1.5em; margin-bottom: 0.5em\">Direct</p>\n",
    "        <p>Read the file and return an array.</p>\n",
    "        <ul>\n",
    "            <li style=\"margin-bottom: 0.3em\"><a href=\"https://uproot.readthedocs.io/en/latest/ttree-handling.html#id11\">TBranch.array</a></li>\n",
    "            <li style=\"margin-bottom: 0.3em\"><a href=\"https://uproot.readthedocs.io/en/latest/ttree-handling.html#array\">TTree.array</a></li>\n",
    "            <li style=\"margin-bottom: 0.3em\"><a href=\"https://uproot.readthedocs.io/en/latest/ttree-handling.html#arrays\">TTree.arrays</a></li>\n",
    "        </ul>\n",
    "    </td><td width=\"33%\" style=\"vertical-align: top\">\n",
    "        <p style=\"font-weight: bold; font-size: 1.5em; margin-bottom: 0.5em\">Lazy</p>\n",
    "        <p>Get an object that reads on demand.</p>\n",
    "        <ul>\n",
    "            <li style=\"margin-bottom: 0.3em\"><a href=\"https://uproot.readthedocs.io/en/latest/ttree-handling.html#id13\">TBranch.lazyarray</a></li>\n",
    "            <li style=\"margin-bottom: 0.3em\"><a href=\"https://uproot.readthedocs.io/en/latest/ttree-handling.html#lazyarray\">TTree.lazyarray</a></li>\n",
    "            <li style=\"margin-bottom: 0.3em\"><a href=\"https://uproot.readthedocs.io/en/latest/ttree-handling.html#lazyarrays\">TTree.lazyarrays</a></li>\n",
    "            <li style=\"margin-bottom: 0.3em\"><a href=\"https://uproot.readthedocs.io/en/latest/opening-files.html#uproot-lazyarray-and-lazyarrays\">uproot.lazyarray</a>*</li>\n",
    "            <li style=\"margin-bottom: 0.3em\"><a href=\"https://uproot.readthedocs.io/en/latest/opening-files.html#uproot-lazyarray-and-lazyarrays\">uproot.lazyarrays</a>*</li>\n",
    "        </ul>\n",
    "    </td><td width=\"33%\" style=\"vertical-align: top\">\n",
    "        <p style=\"font-weight: bold; font-size: 1.5em; margin-bottom: 0.5em\">Iterative</p>\n",
    "        <p>Read arrays in batches of entries.</p>\n",
    "        <ul>\n",
    "            <li style=\"margin-bottom: 0.3em\"><a href=\"https://uproot.readthedocs.io/en/latest/ttree-handling.html#iterate\">TTree.iterate</a></li>\n",
    "            <li style=\"margin-bottom: 0.3em\"><a href=\"https://uproot.readthedocs.io/en/latest/opening-files.html#uproot-iterate\">uproot.iterate</a>*</li>\n",
    "        </ul>\n",
    "    </td>\n",
    "</tr></table>\n",
    "\n",
    "<p>*Lazy arrays or iteration over sets of files.</p>"
   ]
  },
  {
   "cell_type": "code",
   "execution_count": null,
   "metadata": {},
   "outputs": [],
   "source": [
    "# Direct:\n",
    "\n",
    "events.array(\"E1\")"
   ]
  },
  {
   "cell_type": "code",
   "execution_count": null,
   "metadata": {},
   "outputs": [],
   "source": [
    "# Lazy:\n",
    "\n",
    "uproot.asdtype.debug_reading = True\n",
    "\n",
    "print(\"getting lazy array...\")\n",
    "lazyarray = events.lazyarray(\"E1\", entrysteps=500)\n",
    "print(f\"len(lazyarray.chunks) = {len(lazyarray.chunks)}\")\n",
    "\n",
    "print(\"before looking at the array...\")\n",
    "print(f\"lazyarray = {lazyarray}\")\n",
    "print(f\"chunks read = {[x.ismaterialized for x in lazyarray.chunks]}\")\n",
    "\n",
    "print(\"before computing a value...\")\n",
    "print(f\"numpy.sqrt(lazyarray) = {numpy.sqrt(lazyarray)}\")\n",
    "\n",
    "print(\"before computing another value...\")\n",
    "print(f\"lazyarray**2 = {numpy.sqrt(lazyarray)}\")\n",
    "\n",
    "uproot.asdtype.debug_reading = False"
   ]
  },
  {
   "cell_type": "code",
   "execution_count": null,
   "metadata": {},
   "outputs": [],
   "source": [
    "# Iterative:\n",
    "\n",
    "for arrays in events.iterate(\"E1\", entrysteps=500):\n",
    "    print(arrays)"
   ]
  },
  {
   "cell_type": "markdown",
   "metadata": {},
   "source": [
    "<br><br>\n",
    "\n",
    "<p style=\"font-weight: bold; font-size: 1.875em; color: gray\">Advantages and disadvantages of each:</p>\n",
    "\n",
    "<table width=\"100%\" style=\"font-size: 1.25em\"><tr style=\"background: white;\">\n",
    "    <td width=\"33%\" style=\"vertical-align: top\">\n",
    "        <p style=\"font-weight: bold; font-size: 1.5em; margin-bottom: 0.5em\">Direct</p>\n",
    "        <p>Simple; returns pure Numpy arrays if possible.</p>\n",
    "    </td><td width=\"33%\" style=\"vertical-align: top\">\n",
    "        <p style=\"font-weight: bold; font-size: 1.5em; margin-bottom: 0.5em\">Lazy</p>\n",
    "        <p>Transparently work on data too large to fit into memory.</p>\n",
    "    </td><td width=\"33%\" style=\"vertical-align: top\">\n",
    "        <p style=\"font-weight: bold; font-size: 1.5em; margin-bottom: 0.5em\">Iterative</p>\n",
    "        <p>Control the loading of data into and out of memory.</p>\n",
    "    </td>\n",
    "</tr></table>"
   ]
  },
  {
   "cell_type": "code",
   "execution_count": null,
   "metadata": {},
   "outputs": [],
   "source": [
    "# Controlling the chunk size:\n",
    "\n",
    "print(\"Lazy or iteration steps as a fixed number of entries:\")\n",
    "for arrays in events.iterate(entrysteps=500):\n",
    "    print(len(arrays[b\"E1\"]))\n",
    "\n",
    "print(\"\\nLazy or iteration steps as a fixed memory footprint:\")\n",
    "for arrays in events.iterate(entrysteps=\"100 kB\"):\n",
    "    print(len(arrays[b\"E1\"]))"
   ]
  },
  {
   "cell_type": "code",
   "execution_count": null,
   "metadata": {},
   "outputs": [],
   "source": [
    "# Reading complex data: mostly simplified by the fact that C++ classes are \"split\"\n",
    "# into TBranches, and most TBranches are simple arrays.\n",
    "\n",
    "tree = uproot.open(\"http://scikit-hep.org/uproot/examples/Event.root\")[\"T\"]\n",
    "tree.show()\n",
    "\n",
    "# branch name              streamer type, if any      uproot's interpretation"
   ]
  },
  {
   "cell_type": "code",
   "execution_count": null,
   "metadata": {},
   "outputs": [],
   "source": [
    "# In this view, class attributes are NOT special types; they're just numbers.\n",
    "\n",
    "tree.array(\"fTemperature\", entrystop=20)"
   ]
  },
  {
   "cell_type": "code",
   "execution_count": null,
   "metadata": {},
   "outputs": [],
   "source": [
    "# Fixed-width matrices are multidimensional arrays,\n",
    "\n",
    "tree.array(\"fMatrix[4][4]\", entrystop=6)"
   ]
  },
  {
   "cell_type": "code",
   "execution_count": null,
   "metadata": {},
   "outputs": [],
   "source": [
    "# branches with multiple leaves (\"leaf-list\") are Numpy record arrays,\n",
    "\n",
    "uproot.open(\"http://scikit-hep.org/uproot/examples/\"\n",
    "                                    \"leaflist.root\")[\"tree\"][\"leaflist\"].array()"
   ]
  },
  {
   "cell_type": "code",
   "execution_count": null,
   "metadata": {},
   "outputs": [],
   "source": [
    "# and anything in variable-length lists is a JaggedArray,\n",
    "\n",
    "tree.array(\"fTracks.fMass2\", entrystop=6)"
   ]
  },
  {
   "cell_type": "code",
   "execution_count": null,
   "metadata": {},
   "outputs": [],
   "source": [
    "# even if it's fixed-width within jagged or whatever.\n",
    "\n",
    "tree.array(\"fTracks.fTArray[3]\", entrystop=6)"
   ]
  },
  {
   "cell_type": "code",
   "execution_count": null,
   "metadata": {},
   "outputs": [],
   "source": [
    "# There are some types that ROOT does not split because they are too complex.\n",
    "# For example, *histograms* inside a TTree:\n",
    "\n",
    "tree.array(\"fH\", entrystop=6)"
   ]
  },
  {
   "cell_type": "code",
   "execution_count": null,
   "metadata": {},
   "outputs": [],
   "source": [
    "# Uproot can read objects like this because ROOT describes their layout in\n",
    "# \"streamers;\" uproot reads the (most common types of) streamers and generates\n",
    "# Python classes, some of which have specialized, high-level methods.\n",
    "\n",
    "for histogram in tree.array(\"fH\", entrystop=3):\n",
    "    print(histogram.title)\n",
    "    print(histogram.values)\n",
    "print(\"\\n...\\n\")\n",
    "for histogram in tree.array(\"fH\", entrystart=-3):\n",
    "    print(histogram.title)\n",
    "    print(histogram.values)"
   ]
  },
  {
   "cell_type": "code",
   "execution_count": null,
   "metadata": {},
   "outputs": [],
   "source": [
    "# As we've seen, histograms have some convenience methods.\n",
    "# They're mostly for conversion to other formats, like Numpy.\n",
    "# \n",
    "# Numpy \"histograms\" are a 2-tuple of counts and edges.\n",
    "\n",
    "uproot.open(\"http://scikit-hep.org/uproot/examples/\"\n",
    "                                        \"hepdata-example.root\")[\"hpx\"].numpy()"
   ]
  },
  {
   "cell_type": "code",
   "execution_count": null,
   "metadata": {},
   "outputs": [],
   "source": [
    "# Similarly for 2-dimensional histograms.\n",
    "\n",
    "uproot.open(\"http://scikit-hep.org/uproot/examples/hepdata-example.root\")[\"hpxpy\"].numpy()"
   ]
  },
  {
   "cell_type": "code",
   "execution_count": null,
   "metadata": {},
   "outputs": [],
   "source": [
    "# It can also be useful to turn histograms into Pandas DataFrames (note the IntervalIndex).\n",
    "\n",
    "uproot.open(\"http://scikit-hep.org/uproot/examples/Event.root\")[\"htime\"].pandas()"
   ]
  },
  {
   "cell_type": "code",
   "execution_count": null,
   "metadata": {},
   "outputs": [],
   "source": [
    "# Or HEPData's YAML format. As Python objects, it's just a little work to make different formats.\n",
    "\n",
    "print(uproot.open(\"http://scikit-hep.org/uproot/examples/Event.root\")[\"htime\"].hepdata())"
   ]
  },
  {
   "cell_type": "code",
   "execution_count": null,
   "metadata": {},
   "outputs": [],
   "source": [
    "# At the moment, only two kinds of objects can be *written* to ROOT files:\n",
    "# TObjString and histograms.\n",
    "# \n",
    "# To write, open a file for writing (create/recreate/update) and assign to it\n",
    "# like a dict:\n",
    "\n",
    "file = uproot.recreate(\"tmp.root\", compression=uproot.ZLIB(4))\n",
    "file[\"name\"] = \"Some object, like a TObjString.\""
   ]
  },
  {
   "cell_type": "code",
   "execution_count": null,
   "metadata": {},
   "outputs": [],
   "source": [
    "import ROOT\n",
    "\n",
    "pyroot_file = ROOT.TFile(\"tmp.root\")\n",
    "pyroot_file.Get(\"name\")"
   ]
  },
  {
   "cell_type": "code",
   "execution_count": null,
   "metadata": {},
   "outputs": [],
   "source": [
    "# During assignment, uproot recognizes Pythonic types, such as Numpy histograms.\n",
    "\n",
    "file[\"from_numpy\"] = numpy.histogram(numpy.random.normal(0, 1, 10000))"
   ]
  },
  {
   "cell_type": "code",
   "execution_count": null,
   "metadata": {},
   "outputs": [],
   "source": [
    "pyroot_file = ROOT.TFile(\"tmp.root\")           # refresh the PyROOT file\n",
    "pyroot_hist = pyroot_file.Get(\"from_numpy\")\n",
    "\n",
    "canvas = ROOT.TCanvas(\"canvas\", \"\", 400, 300)\n",
    "pyroot_hist.Draw(\"hist\")\n",
    "canvas.Draw()"
   ]
  },
  {
   "cell_type": "code",
   "execution_count": null,
   "metadata": {},
   "outputs": [],
   "source": [
    "# 2-dimensional Numpy histograms.\n",
    "\n",
    "file[\"from_numpy2d\"] = numpy.histogram2d(numpy.random.normal(0, 1, 10000), numpy.random.normal(0, 1, 10000))"
   ]
  },
  {
   "cell_type": "code",
   "execution_count": null,
   "metadata": {},
   "outputs": [],
   "source": [
    "pyroot_file = ROOT.TFile(\"tmp.root\")           # refresh the PyROOT file\n",
    "pyroot_hist = pyroot_file.Get(\"from_numpy2d\")\n",
    "\n",
    "pyroot_hist.Draw()\n",
    "canvas.Draw()"
   ]
  }
 ],
 "metadata": {
  "kernelspec": {
   "display_name": "Python 3",
   "language": "python",
   "name": "python3"
  },
  "language_info": {
   "codemirror_mode": {
    "name": "ipython",
    "version": 3
   },
   "file_extension": ".py",
   "mimetype": "text/x-python",
   "name": "python",
   "nbconvert_exporter": "python",
   "pygments_lexer": "ipython3",
   "version": "3.7.3"
  }
 },
 "nbformat": 4,
 "nbformat_minor": 4
}
