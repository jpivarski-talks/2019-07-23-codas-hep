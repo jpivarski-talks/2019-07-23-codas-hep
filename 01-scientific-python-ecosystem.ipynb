{
 "cells": [
  {
   "cell_type": "markdown",
   "metadata": {},
   "source": [
    "<br><br><br><br><br>\n",
    "\n",
    "# Why Python in HEP?\n",
    "\n",
    "<br><br><br><br><br>"
   ]
  },
  {
   "cell_type": "markdown",
   "metadata": {},
   "source": [
    "<br>\n",
    "\n",
    "<p style=\"font-size: 1.25em\">I could point to its broad adoption as a programming language...</p>\n",
    "\n",
    "<center><img src=\"img/pypl-2019.png\" width=\"75%\"></center>\n",
    "\n",
    "<br>"
   ]
  },
  {
   "cell_type": "markdown",
   "metadata": {},
   "source": [
    "<br>\n",
    "\n",
    "<p style=\"font-size: 1.25em\">But it is more relevant to point to its use in data analysis.</p>\n",
    "\n",
    "<center><img src=\"img/python-r-cpp-googletrends-dataset.png\" width=\"75%\"></center>\n",
    "\n",
    "<br>\n",
    "\n",
    "<center><img src=\"img/python-r-cpp-googletrends-machinelearning.png\" width=\"75%\"></center>\n",
    "\n",
    "<br>"
   ]
  },
  {
   "cell_type": "markdown",
   "metadata": {},
   "source": [
    "<br>\n",
    "\n",
    "<p style=\"font-size: 1.25em\">It's hard to overstate the scale of these communities.</p>\n",
    "\n",
    "<center><img src=\"img/root-spark-pandas-google-trends.png\" width=\"75%\"></center>\n",
    "\n",
    "<br>\n",
    "\n",
    "<p style=\"font-size: 1.1em\">There is value in adopting popular tools: every question/error message is googlable...</p>\n",
    "\n",
    "<br>"
   ]
  },
  {
   "cell_type": "markdown",
   "metadata": {},
   "source": [
    "<p style=\"font-size: 1.25em\">Python is widespread in astronomy: LIGO analysis publicly shared in Jupyter...</p>\n",
    "\n",
    "<table width=\"100%\"><tr style=\"background: white\"><td><img src=\"img/mentions-of-programming-languages.png\" width=\"100%\"></td><td><img src=\"img/ligo-notebook.png\" width=\"100%\"></td></tr></table>"
   ]
  },
  {
   "cell_type": "markdown",
   "metadata": {},
   "source": [
    "<p style=\"font-size: 1.25em\">And it is the language of choice for some—but not all—LHC experiments.</p>\n",
    "\n",
    "<center><img src=\"img/github-cmssw-lin.png\" width=\"70%\"></center>\n",
    "\n",
    "<center><img src=\"img/github-alice-lin.png\" width=\"70%\"></center>\n",
    "\n",
    "<p style=\"font-size: 1.25em\">(Can't measure ATLAS and LHCb because of private repos on GitLab.)</p>"
   ]
  },
  {
   "cell_type": "markdown",
   "metadata": {},
   "source": [
    "<br>\n",
    "\n",
    "<img src=\"img/commute-by-plane.png\" width=\"65%\"> _(Stolen from Jake Vanderplas.)_\n",
    "\n",
    "<br>"
   ]
  },
  {
   "cell_type": "markdown",
   "metadata": {},
   "source": [
    "<br><br>\n",
    "\n",
    "<p style=\"font-size: 1.25em; font-weight: bold\">Drive to the airport, then take a plane:</p>\n",
    "\n",
    "   * Not everything needs to be fast, only the part that scales with the number of events (or other large number, like number of histogram bins or MC toys). Most analysis code is bookkeeping.\n",
    "   * Need to step up from interactive tinkering to full-scale analysis __*in small steps*__. Rewriting (and debugging) for speed considered harmful.\n",
    "\n",
    "<br><br>"
   ]
  },
  {
   "cell_type": "code",
   "execution_count": 1,
   "metadata": {},
   "outputs": [
    {
     "name": "stdout",
     "output_type": "stream",
     "text": [
      "11524.2138504982 ns per pixel\n"
     ]
    }
   ],
   "source": [
    "# Example: code to compute a fractal (calendar/mousepad/T-shirt...).\n",
    "import time, numpy\n",
    "\n",
    "def run_python(height, width, maxiterations=20):\n",
    "    y, x = numpy.ogrid[-1:0:height*1j, -1.5:0:width*1j]\n",
    "    c = x + y*1j\n",
    "    fractal = numpy.full(c.shape, maxiterations, dtype=numpy.int32)\n",
    "    for h in range(height):\n",
    "        for w in range(width):               # for each pixel (h, w)...\n",
    "            z = c[h, w]\n",
    "            for i in range(maxiterations):   # iterate at most 20 times\n",
    "                z = z**2 + c[h, w]           # applying z → z² + c\n",
    "                if abs(z) > 2:               # if it diverges (|z| > 2)\n",
    "                    fractal[h, w] = i        # color with the iteration number\n",
    "                    break                    # we're done, no need to keep iterating\n",
    "    return fractal\n",
    "\n",
    "starttime = time.time()\n",
    "fractal = run_python(800, 1200)\n",
    "print(\"{0} ns per pixel\".format(1e9 * (time.time() - starttime) / (800 * 1200)))"
   ]
  },
  {
   "cell_type": "code",
   "execution_count": 2,
   "metadata": {},
   "outputs": [
    {
     "data": {
      "image/png": "[encoded data removed]",
      "text/plain": [
       "<Figure size 720x360 with 1 Axes>"
      ]
     },
     "metadata": {
      "needs_background": "light"
     },
     "output_type": "display_data"
    }
   ],
   "source": [
    "# Pretty, isn't it?\n",
    "\n",
    "%matplotlib inline\n",
    "import matplotlib.pyplot\n",
    "fig, ax = matplotlib.pyplot.subplots(figsize=(10, 5)); ax.imshow(fractal);"
   ]
  },
  {
   "cell_type": "code",
   "execution_count": 3,
   "metadata": {},
   "outputs": [],
   "source": [
    "# REMINDER: the original code...\n",
    "\n",
    "\n",
    "def run_python(height, width, maxiterations=20):\n",
    "    y, x = numpy.ogrid[-1:0:height*1j, -1.5:0:width*1j]\n",
    "    c = x + y*1j\n",
    "    fractal = numpy.full(c.shape, maxiterations, dtype=numpy.int32)\n",
    "\n",
    "\n",
    "\n",
    "    for h in range(height):\n",
    "        for w in range(width):               # for each pixel (h, w)...\n",
    "            z = c[h, w]\n",
    "            for i in range(maxiterations):   # iterate at most 20 times\n",
    "                z = z**2 + c[h, w]           # applying z → z² + c\n",
    "                if abs(z) > 2:               # if it diverges (|z| > 2)\n",
    "                    fractal[h, w] = i        # color with the iteration number\n",
    "                    break                    # we're done, no need to keep iterating\n",
    "    return fractal\n",
    "\n",
    "\n",
    "\n"
   ]
  },
  {
   "cell_type": "code",
   "execution_count": 4,
   "metadata": {},
   "outputs": [
    {
     "name": "stdout",
     "output_type": "stream",
     "text": [
      "125.85092335939407 ns per pixel\n"
     ]
    }
   ],
   "source": [
    "# 100× faster...\n",
    "import numba\n",
    "\n",
    "def run_numba(height, width, maxiterations=20):\n",
    "    y, x = numpy.ogrid[-1:0:height*1j, -1.5:0:width*1j]\n",
    "    c = x + y*1j\n",
    "    fractal = numpy.full(c.shape, maxiterations, dtype=numpy.int32)\n",
    "    return tight_loop(height, width, maxiterations, c, fractal)\n",
    "@numba.jit\n",
    "def tight_loop(height, width, maxiterations, c, fractal):\n",
    "    for h in range(height):\n",
    "        for w in range(width):               # for each pixel (h, w)...\n",
    "            z = c[h, w]\n",
    "            for i in range(maxiterations):   # iterate at most 20 times\n",
    "                z = z**2 + c[h, w]           # applying z → z² + c\n",
    "                if abs(z) > 2:               # if it diverges (|z| > 2)\n",
    "                    fractal[h, w] = i        # color with the iteration number\n",
    "                    break                    # we're done, no need to keep iterating\n",
    "    return fractal\n",
    "\n",
    "starttime = time.time()\n",
    "fractal = run_numba(3200, 4800)\n",
    "print(\"{0} ns per pixel\".format(1e9 * (time.time() - starttime) / (3200 * 4800)))"
   ]
  },
  {
   "cell_type": "markdown",
   "metadata": {},
   "source": [
    "<br><br>\n",
    "\n",
    "<p style=\"font-size: 1.25em\">The \"catch\" is that code in the loop must be purely numerical: arrays and basic number types.</p>\n",
    "\n",
    "<br>\n",
    "\n",
    "<p style=\"font-size: 1.25em\">It is semantically equivalent to C code and the <tt>@numba.jit</tt> compiles it.</p>\n",
    "\n",
    "<br>\n",
    "\n",
    "<p style=\"font-size: 1.25em\">So... why not just write C code? If you developed your analysis in interactive Python, in a notebook or command prompt, it's easier (less buggy) to exorcise a few non-numerical structures than translate everything to C or C++.</p>\n",
    "\n",
    "<br>"
   ]
  },
  {
   "cell_type": "markdown",
   "metadata": {},
   "source": [
    "<br><br>\n",
    "\n",
    "<p style=\"font-size: 1.25em\"><b>Drive/bike/skateboard on your daily commute:</b> do exploration and problem-solving in Python because it has simple data structures, doesn't seg-fault, and dumps stack traces...</p>\n",
    "\n",
    "<br>\n",
    "\n",
    "<p style=\"font-size: 1.25em\"><b>Fly to Europe:</b> hyper-optimize the loop that scales with big numbers so that you can finish analyzing your 100 TB this year...</p>\n",
    "\n",
    "<br>\n",
    "\n",
    "<p style=\"font-size: 1.25em; text-align: right; margin-right: 10%\">... by replacing critical code <i><b>in small steps</b></i>.</p>"
   ]
  },
  {
   "cell_type": "markdown",
   "metadata": {},
   "source": [
    "<p style=\"font-size: 1.25em\">Rewriting the loop in C++ is <i>not</i> the easiest/best way to speed it up. (See <a href=\"misc-fractal.ipynb\">misc-fractal.ipynb</a>.)</p>\n",
    "\n",
    "| Method                                     | time (ns/px) | speedup |\n",
    "|:-------------------------------------------|-------------:|--------:|\n",
    "| Pure Python                                        | 12000   |    1× |\n",
    "| Vectorized Numpy                                   |   368   |   30× |\n",
    "| Vectorized CuPy (run on GPU)                       |    81   |  150× |\n",
    "| Compiled by Numba                                  |   136   |   90× |\n",
    "| Compiled & parallelized by Numba                   |    45   |  250× |\n",
    "| Compiled & run on GPU by Numba                     |     7.8 | 1500× |\n",
    "| Parallelized by Dask                               |   238   |   50× |\n",
    "| Parallelized by Dask, compiled by Numba            |    48   |  250× |\n",
    "| Partially rewritten in Cython (Python/C++ hybrid)  |  1485   |    8× |\n",
    "| Completely rewritten in Cython (pure C++)          |    99   |  120× |\n",
    "| Completely rewritten in pybind11 (pure C++)        |    98   |  120× |\n",
    "| Completely rewritten in ROOT (pure C++ with `-O0`) |   379   |   32× |"
   ]
  },
  {
   "cell_type": "markdown",
   "metadata": {},
   "source": [
    "<br>\n",
    "\n",
    "<center><img src=\"img/numpy-logo.png\" width=\"35%\"></center>\n",
    "\n",
    "<br>\n",
    "\n",
    "<p style=\"font-size: 1.25em\">Numpy is the common (in-memory) data format for scientific Python.</p>\n",
    "\n",
    "<br>\n",
    "\n",
    "<p style=\"font-size: 1.25em\">Nearly every package can input/output data as Numpy arrays.</p>\n",
    "\n",
    "<br>\n",
    "\n",
    "<p style=\"font-size: 1.25em\">Numpy also has a suite of functions for doing calculations a whole array at a time: vectorized in the sense of a <b>S</b>ingle (Python) <b>I</b>nstruction on <b>M</b>ultiple <b>D</b>ata.</p>"
   ]
  },
  {
   "cell_type": "code",
   "execution_count": 5,
   "metadata": {},
   "outputs": [
    {
     "ename": "FileNotFoundError",
     "evalue": "[Errno 2] No such file or directory: 'data/Zmumu.root'",
     "output_type": "error",
     "traceback": [
      "\u001b[0;31m---------------------------------------------------------------------------\u001b[0m",
      "\u001b[0;31mFileNotFoundError\u001b[0m                         Traceback (most recent call last)",
      "\u001b[0;32m<ipython-input-5-cd035176b885>\u001b[0m in \u001b[0;36m<module>\u001b[0;34m\u001b[0m\n\u001b[1;32m      1\u001b[0m \u001b[0;31m# Numpy arrays of physics data:\u001b[0m\u001b[0;34m\u001b[0m\u001b[0;34m\u001b[0m\u001b[0;34m\u001b[0m\u001b[0m\n\u001b[1;32m      2\u001b[0m \u001b[0;32mimport\u001b[0m \u001b[0muproot\u001b[0m\u001b[0;34m\u001b[0m\u001b[0;34m\u001b[0m\u001b[0m\n\u001b[0;32m----> 3\u001b[0;31m \u001b[0marrays\u001b[0m \u001b[0;34m=\u001b[0m \u001b[0muproot\u001b[0m\u001b[0;34m.\u001b[0m\u001b[0mopen\u001b[0m\u001b[0;34m(\u001b[0m\u001b[0;34m\"data/Zmumu.root\"\u001b[0m\u001b[0;34m)\u001b[0m\u001b[0;34m[\u001b[0m\u001b[0;34m\"events\"\u001b[0m\u001b[0;34m]\u001b[0m\u001b[0;34m.\u001b[0m\u001b[0marrays\u001b[0m\u001b[0;34m(\u001b[0m\u001b[0mnamedecode\u001b[0m\u001b[0;34m=\u001b[0m\u001b[0;34m\"utf-8\"\u001b[0m\u001b[0;34m)\u001b[0m\u001b[0;34m\u001b[0m\u001b[0;34m\u001b[0m\u001b[0m\n\u001b[0m\u001b[1;32m      4\u001b[0m \u001b[0;34m\u001b[0m\u001b[0m\n\u001b[1;32m      5\u001b[0m \u001b[0mprint\u001b[0m\u001b[0;34m(\u001b[0m\u001b[0;34m\"Names of arrays in this dict:\"\u001b[0m\u001b[0;34m)\u001b[0m\u001b[0;34m\u001b[0m\u001b[0;34m\u001b[0m\u001b[0m\n",
      "\u001b[0;32m~/miniconda3/lib/python3.7/site-packages/uproot-3.7.0-py3.7.egg/uproot/rootio.py\u001b[0m in \u001b[0;36mopen\u001b[0;34m(path, localsource, xrootdsource, httpsource, **options)\u001b[0m\n\u001b[1;32m     49\u001b[0m         \u001b[0;32melse\u001b[0m\u001b[0;34m:\u001b[0m\u001b[0;34m\u001b[0m\u001b[0;34m\u001b[0m\u001b[0m\n\u001b[1;32m     50\u001b[0m             \u001b[0mopenfcn\u001b[0m \u001b[0;34m=\u001b[0m \u001b[0mlocalsource\u001b[0m\u001b[0;34m\u001b[0m\u001b[0;34m\u001b[0m\u001b[0m\n\u001b[0;32m---> 51\u001b[0;31m         \u001b[0;32mreturn\u001b[0m \u001b[0mROOTDirectory\u001b[0m\u001b[0;34m.\u001b[0m\u001b[0mread\u001b[0m\u001b[0;34m(\u001b[0m\u001b[0mopenfcn\u001b[0m\u001b[0;34m(\u001b[0m\u001b[0mpath\u001b[0m\u001b[0;34m)\u001b[0m\u001b[0;34m,\u001b[0m \u001b[0;34m**\u001b[0m\u001b[0moptions\u001b[0m\u001b[0;34m)\u001b[0m\u001b[0;34m\u001b[0m\u001b[0;34m\u001b[0m\u001b[0m\n\u001b[0m\u001b[1;32m     52\u001b[0m \u001b[0;34m\u001b[0m\u001b[0m\n\u001b[1;32m     53\u001b[0m     \u001b[0;32melif\u001b[0m \u001b[0m_bytesid\u001b[0m\u001b[0;34m(\u001b[0m\u001b[0mparsed\u001b[0m\u001b[0;34m.\u001b[0m\u001b[0mscheme\u001b[0m\u001b[0;34m)\u001b[0m \u001b[0;34m==\u001b[0m \u001b[0;34mb\"root\"\u001b[0m\u001b[0;34m:\u001b[0m\u001b[0;34m\u001b[0m\u001b[0;34m\u001b[0m\u001b[0m\n",
      "\u001b[0;32m~/miniconda3/lib/python3.7/site-packages/uproot-3.7.0-py3.7.egg/uproot/rootio.py\u001b[0m in \u001b[0;36m<lambda>\u001b[0;34m(path)\u001b[0m\n\u001b[1;32m     46\u001b[0m                 \u001b[0;32mif\u001b[0m \u001b[0mn\u001b[0m \u001b[0;32min\u001b[0m \u001b[0moptions\u001b[0m\u001b[0;34m:\u001b[0m\u001b[0;34m\u001b[0m\u001b[0;34m\u001b[0m\u001b[0m\n\u001b[1;32m     47\u001b[0m                     \u001b[0mkwargs\u001b[0m\u001b[0;34m[\u001b[0m\u001b[0mn\u001b[0m\u001b[0;34m]\u001b[0m \u001b[0;34m=\u001b[0m \u001b[0moptions\u001b[0m\u001b[0;34m.\u001b[0m\u001b[0mpop\u001b[0m\u001b[0;34m(\u001b[0m\u001b[0mn\u001b[0m\u001b[0;34m)\u001b[0m\u001b[0;34m\u001b[0m\u001b[0;34m\u001b[0m\u001b[0m\n\u001b[0;32m---> 48\u001b[0;31m             \u001b[0mopenfcn\u001b[0m \u001b[0;34m=\u001b[0m \u001b[0;32mlambda\u001b[0m \u001b[0mpath\u001b[0m\u001b[0;34m:\u001b[0m \u001b[0mMemmapSource\u001b[0m\u001b[0;34m(\u001b[0m\u001b[0mpath\u001b[0m\u001b[0;34m,\u001b[0m \u001b[0;34m**\u001b[0m\u001b[0mkwargs\u001b[0m\u001b[0;34m)\u001b[0m\u001b[0;34m\u001b[0m\u001b[0;34m\u001b[0m\u001b[0m\n\u001b[0m\u001b[1;32m     49\u001b[0m         \u001b[0;32melse\u001b[0m\u001b[0;34m:\u001b[0m\u001b[0;34m\u001b[0m\u001b[0;34m\u001b[0m\u001b[0m\n\u001b[1;32m     50\u001b[0m             \u001b[0mopenfcn\u001b[0m \u001b[0;34m=\u001b[0m \u001b[0mlocalsource\u001b[0m\u001b[0;34m\u001b[0m\u001b[0;34m\u001b[0m\u001b[0m\n",
      "\u001b[0;32m~/miniconda3/lib/python3.7/site-packages/uproot-3.7.0-py3.7.egg/uproot/source/memmap.py\u001b[0m in \u001b[0;36m__init__\u001b[0;34m(self, path)\u001b[0m\n\u001b[1;32m     17\u001b[0m     \u001b[0;32mdef\u001b[0m \u001b[0m__init__\u001b[0m\u001b[0;34m(\u001b[0m\u001b[0mself\u001b[0m\u001b[0;34m,\u001b[0m \u001b[0mpath\u001b[0m\u001b[0;34m)\u001b[0m\u001b[0;34m:\u001b[0m\u001b[0;34m\u001b[0m\u001b[0;34m\u001b[0m\u001b[0m\n\u001b[1;32m     18\u001b[0m         \u001b[0mself\u001b[0m\u001b[0;34m.\u001b[0m\u001b[0mpath\u001b[0m \u001b[0;34m=\u001b[0m \u001b[0mos\u001b[0m\u001b[0;34m.\u001b[0m\u001b[0mpath\u001b[0m\u001b[0;34m.\u001b[0m\u001b[0mexpanduser\u001b[0m\u001b[0;34m(\u001b[0m\u001b[0mpath\u001b[0m\u001b[0;34m)\u001b[0m\u001b[0;34m\u001b[0m\u001b[0;34m\u001b[0m\u001b[0m\n\u001b[0;32m---> 19\u001b[0;31m         \u001b[0mself\u001b[0m\u001b[0;34m.\u001b[0m\u001b[0m_source\u001b[0m \u001b[0;34m=\u001b[0m \u001b[0mnumpy\u001b[0m\u001b[0;34m.\u001b[0m\u001b[0mmemmap\u001b[0m\u001b[0;34m(\u001b[0m\u001b[0mself\u001b[0m\u001b[0;34m.\u001b[0m\u001b[0mpath\u001b[0m\u001b[0;34m,\u001b[0m \u001b[0mdtype\u001b[0m\u001b[0;34m=\u001b[0m\u001b[0mnumpy\u001b[0m\u001b[0;34m.\u001b[0m\u001b[0muint8\u001b[0m\u001b[0;34m,\u001b[0m \u001b[0mmode\u001b[0m\u001b[0;34m=\u001b[0m\u001b[0;34m\"r\"\u001b[0m\u001b[0;34m)\u001b[0m\u001b[0;34m\u001b[0m\u001b[0;34m\u001b[0m\u001b[0m\n\u001b[0m\u001b[1;32m     20\u001b[0m \u001b[0;34m\u001b[0m\u001b[0m\n\u001b[1;32m     21\u001b[0m     \u001b[0;32mdef\u001b[0m \u001b[0mparent\u001b[0m\u001b[0;34m(\u001b[0m\u001b[0mself\u001b[0m\u001b[0;34m)\u001b[0m\u001b[0;34m:\u001b[0m\u001b[0;34m\u001b[0m\u001b[0;34m\u001b[0m\u001b[0m\n",
      "\u001b[0;32m~/miniconda3/lib/python3.7/site-packages/numpy/core/memmap.py\u001b[0m in \u001b[0;36m__new__\u001b[0;34m(subtype, filename, dtype, mode, offset, shape, order)\u001b[0m\n\u001b[1;32m    223\u001b[0m             \u001b[0mf_ctx\u001b[0m \u001b[0;34m=\u001b[0m \u001b[0mcontextlib_nullcontext\u001b[0m\u001b[0;34m(\u001b[0m\u001b[0mfilename\u001b[0m\u001b[0;34m)\u001b[0m\u001b[0;34m\u001b[0m\u001b[0;34m\u001b[0m\u001b[0m\n\u001b[1;32m    224\u001b[0m         \u001b[0;32melse\u001b[0m\u001b[0;34m:\u001b[0m\u001b[0;34m\u001b[0m\u001b[0;34m\u001b[0m\u001b[0m\n\u001b[0;32m--> 225\u001b[0;31m             \u001b[0mf_ctx\u001b[0m \u001b[0;34m=\u001b[0m \u001b[0mopen\u001b[0m\u001b[0;34m(\u001b[0m\u001b[0mos_fspath\u001b[0m\u001b[0;34m(\u001b[0m\u001b[0mfilename\u001b[0m\u001b[0;34m)\u001b[0m\u001b[0;34m,\u001b[0m \u001b[0;34m(\u001b[0m\u001b[0;34m'r'\u001b[0m \u001b[0;32mif\u001b[0m \u001b[0mmode\u001b[0m \u001b[0;34m==\u001b[0m \u001b[0;34m'c'\u001b[0m \u001b[0;32melse\u001b[0m \u001b[0mmode\u001b[0m\u001b[0;34m)\u001b[0m\u001b[0;34m+\u001b[0m\u001b[0;34m'b'\u001b[0m\u001b[0;34m)\u001b[0m\u001b[0;34m\u001b[0m\u001b[0;34m\u001b[0m\u001b[0m\n\u001b[0m\u001b[1;32m    226\u001b[0m \u001b[0;34m\u001b[0m\u001b[0m\n\u001b[1;32m    227\u001b[0m         \u001b[0;32mwith\u001b[0m \u001b[0mf_ctx\u001b[0m \u001b[0;32mas\u001b[0m \u001b[0mfid\u001b[0m\u001b[0;34m:\u001b[0m\u001b[0;34m\u001b[0m\u001b[0;34m\u001b[0m\u001b[0m\n",
      "\u001b[0;31mFileNotFoundError\u001b[0m: [Errno 2] No such file or directory: 'data/Zmumu.root'"
     ]
    }
   ],
   "source": [
    "# Numpy arrays of physics data:\n",
    "import uproot\n",
    "arrays = uproot.open(\"data/Zmumu.root\")[\"events\"].arrays(namedecode=\"utf-8\")\n",
    "\n",
    "print(\"Names of arrays in this dict:\")\n",
    "print(list(arrays))\n",
    "\n",
    "# Take arrays out of the dict and make each one a variable.\n",
    "for n in arrays:\n",
    "    exec(f\"{n} = arrays['{n}']\")\n",
    "\n",
    "# Example array: energy of first muon in each event\n",
    "E1"
   ]
  },
  {
   "cell_type": "code",
   "execution_count": 5,
   "metadata": {},
   "outputs": [
    {
     "data": {
      "text/plain": [
       "array([ 7.17219282,  6.13819068,  5.81117254, ..., 43.50036668,\n",
       "       44.28500082, 44.19520441])"
      ]
     },
     "execution_count": 5,
     "metadata": {},
     "output_type": "execute_result"
    }
   ],
   "source": [
    "# Compute pT of all muon pairs:\n",
    "\n",
    "import numpy\n",
    "\n",
    "pt = numpy.sqrt((px1 + px2)**2 + (py1 + py2)**2)\n",
    "pt"
   ]
  },
  {
   "cell_type": "code",
   "execution_count": 6,
   "metadata": {},
   "outputs": [
    {
     "data": {
      "image/png": "[encoded data removed]",
      "text/plain": [
       "<Figure size 432x288 with 1 Axes>"
      ]
     },
     "metadata": {
      "needs_background": "light"
     },
     "output_type": "display_data"
    }
   ],
   "source": [
    "# And __LOOK__:\n",
    "\n",
    "matplotlib.pyplot.hist(pt, bins=100, range=(0, 200));"
   ]
  },
  {
   "cell_type": "code",
   "execution_count": 7,
   "metadata": {},
   "outputs": [
    {
     "data": {
      "text/plain": [
       "array([116.61271581, 117.90010197, 117.36645448, ..., 230.90205217,\n",
       "       232.63405045, 232.88789491])"
      ]
     },
     "execution_count": 7,
     "metadata": {},
     "output_type": "execute_result"
    }
   ],
   "source": [
    "# Compute p of all muon pairs:\n",
    "\n",
    "p = numpy.sqrt(pt**2 + (pz1 + pz2)**2)\n",
    "p"
   ]
  },
  {
   "cell_type": "code",
   "execution_count": 8,
   "metadata": {},
   "outputs": [
    {
     "data": {
      "image/png": "[encoded data removed]",
      "text/plain": [
       "<Figure size 432x288 with 1 Axes>"
      ]
     },
     "metadata": {
      "needs_background": "light"
     },
     "output_type": "display_data"
    }
   ],
   "source": [
    "# And __LOOK__:\n",
    "\n",
    "matplotlib.pyplot.hist(p, bins=100, range=(0, 500));"
   ]
  },
  {
   "cell_type": "code",
   "execution_count": 9,
   "metadata": {},
   "outputs": [
    {
     "data": {
      "text/plain": [
       "array([82.46269156, 83.62620401, 83.30846467, ..., 95.96547966,\n",
       "       96.49594382, 96.65672765])"
      ]
     },
     "execution_count": 9,
     "metadata": {},
     "output_type": "execute_result"
    }
   ],
   "source": [
    "# Compute mass of all muon pairs:\n",
    "\n",
    "mass = numpy.sqrt((E1 + E2)**2 - p**2)\n",
    "mass"
   ]
  },
  {
   "cell_type": "code",
   "execution_count": 10,
   "metadata": {},
   "outputs": [
    {
     "data": {
      "image/png": "[encoded data removed]",
      "text/plain": [
       "<Figure size 432x288 with 1 Axes>"
      ]
     },
     "metadata": {
      "needs_background": "light"
     },
     "output_type": "display_data"
    }
   ],
   "source": [
    "# And __LOOK__:\n",
    "\n",
    "matplotlib.pyplot.hist(mass, bins=100, range=(0, 120));"
   ]
  },
  {
   "cell_type": "code",
   "execution_count": 11,
   "metadata": {},
   "outputs": [
    {
     "data": {
      "image/png": "[encoded data removed]",
      "text/plain": [
       "<Figure size 432x288 with 1 Axes>"
      ]
     },
     "metadata": {
      "needs_background": "light"
     },
     "output_type": "display_data"
    }
   ],
   "source": [
    "# Start adding cuts, exploring different regions, etc.\n",
    "\n",
    "matplotlib.pyplot.hist(mass[Q1 != Q2], bins=100, range=(0, 120));\n",
    "matplotlib.pyplot.hist(mass[Q1 == Q2], bins=100, range=(0, 120));"
   ]
  },
  {
   "cell_type": "markdown",
   "metadata": {},
   "source": [
    "<br><br>\n",
    "\n",
    "<p style=\"font-size: 1.25em\">This is the point: you calculate <i>one thing</i> and then you <i>LOOK</i> at the result.</p>\n",
    "\n",
    "<br>\n",
    "\n",
    "<p style=\"font-size: 1.25em\">Array-at-a-time logic gives you a statistical view of each <i>step</i> in your calculation as you develop it.</p>"
   ]
  },
  {
   "cell_type": "code",
   "execution_count": 12,
   "metadata": {},
   "outputs": [
    {
     "name": "stdout",
     "output_type": "stream",
     "text": [
      "Welcome to JupyROOT 6.17/01\n"
     ]
    },
    {
     "data": {
      "image/png": "[encoded data removed]",
      "text/plain": [
       "<IPython.core.display.Image object>"
      ]
     },
     "metadata": {},
     "output_type": "display_data"
    }
   ],
   "source": [
    "# As physicists, we know this...\n",
    "\n",
    "import ROOT\n",
    "canvas = ROOT.TCanvas(\"canvas\", \"\", 400, 300)\n",
    "file = ROOT.TFile(\"data/Zmumu.root\")\n",
    "tree = file.Get(\"events\")\n",
    "tree.Draw(\"sqrt((E1 + E2)**2 - (px1 + px2)**2 - (py1 + py2)**2 - (pz1 + pz2)**2)\")\n",
    "canvas.Draw()"
   ]
  },
  {
   "cell_type": "markdown",
   "metadata": {},
   "source": [
    "<br>\n",
    "\n",
    "<p style=\"font-size: 1.25em\">The hard part is turning those <tt>TTree::Draw</tt> expressions into a full analysis.</p>\n",
    "\n",
    "<br>\n",
    "\n",
    "<p style=\"font-size: 1.25em\">How many of you have started with <tt>TTree::Draw</tt> and had to rewrite everything as a C++ loop?</p>\n",
    "\n",
    "<br>\n",
    "\n",
    "<p style=\"font-size: 1.25em\">The idea of using Python in for science is to do initial exploration and then scale up \"enough\" in a single environment.</p>\n",
    "\n",
    "<br>"
   ]
  }
 ],
 "metadata": {
  "kernelspec": {
   "display_name": "Python 3",
   "language": "python",
   "name": "python3"
  },
  "language_info": {
   "codemirror_mode": {
    "name": "ipython",
    "version": 3
   },
   "file_extension": ".py",
   "mimetype": "text/x-python",
   "name": "python",
   "nbconvert_exporter": "python",
   "pygments_lexer": "ipython3",
   "version": "3.7.3"
  }
 },
 "nbformat": 4,
 "nbformat_minor": 4
}
