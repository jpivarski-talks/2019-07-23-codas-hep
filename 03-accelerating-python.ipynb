{
 "cells": [
  {
   "cell_type": "markdown",
   "metadata": {},
   "source": [
    "<br><br><br><br><br>\n",
    "\n",
    "# Accelerating Python\n",
    "\n",
    "<br><br><br><br><br>"
   ]
  },
  {
   "cell_type": "markdown",
   "metadata": {},
   "source": [
    "<br>\n",
    "\n",
    "<p style=\"font-size: 1.25em\">Apart from clever algorithms, the speed of a program is determined by how laden it is with work unrelated to its main task.</p>\n",
    "\n",
    "<center><img src=\"img/swallows-coconut.jpg\" width=\"50%\"></center>\n",
    "\n",
    "<p style=\"font-size: 1.25em\">Python is slower than C because of dynamic type checking, garbage collection, everything-is-a-hashtable, pointer chasing, string equality checks...</p>\n",
    "\n",
    "<br>"
   ]
  },
  {
   "cell_type": "markdown",
   "metadata": {},
   "source": [
    "<p style=\"font-size: 1.25em\">Compare to Java, which has garbage collection but not dynamic type checking, and C, which has neither (on a variety of benchmark algorithms).</p>\n",
    "\n",
    "<img src=\"img/benchmark-games.png\" width=\"100%\">"
   ]
  },
  {
   "cell_type": "markdown",
   "metadata": {},
   "source": [
    "<br><br>\n",
    "\n",
    "<p style=\"font-size: 1.25em\">If you care about speed <i>more than</i> ease of development, use C or C++ (or Rust!).</p>\n",
    "\n",
    "<br>\n",
    "\n",
    "<p style=\"font-size: 1.25em\">If you want to use Python for all of its conveniences—dynamic type checking, garbage collection, everything-is-a-hashtable, interactive development and debugging—and need to speed up a critical section, there are ways to do it.</p>\n",
    "\n",
    "<br>\n",
    "\n",
    "<p style=\"font-size: 1.25em\">But you have to give up Python's dynamism <i>in that section.</i></p>\n",
    "\n",
    "<br><br>"
   ]
  },
  {
   "cell_type": "code",
   "execution_count": 1,
   "metadata": {},
   "outputs": [
    {
     "data": {
      "text/plain": [
       "Pointy(1, 2)"
      ]
     },
     "execution_count": 1,
     "metadata": {},
     "output_type": "execute_result"
    }
   ],
   "source": [
    "# Some wacky things you can do to types and objects in Python:\n",
    "class Point:\n",
    "    def __init__(self, x, y):\n",
    "        self.x, self.y = x, y\n",
    "p = Point(1, 2)\n",
    "\n",
    "# dynamically add an attribute to an instance (attributes are really a hashtable)\n",
    "p.z = 3\n",
    "\n",
    "# dynamically add a method to a class (class is a hashtable of functions)\n",
    "Point.mag2 = lambda self: self.x**2 + self.y**2 + self.z**2\n",
    "p.mag2()\n",
    "\n",
    "# dynamically add a method to an instance (differs only in assigning \"self\")\n",
    "p.mag = (lambda self: self.mag2()**0.5).__get__(p)\n",
    "p.mag()\n",
    "\n",
    "class Pointy(Point):\n",
    "    def __repr__(self):\n",
    "        return \"Pointy({0}, {1})\".format(self.x, self.y)\n",
    "\n",
    "# dynamically change the class of an object (type is just an attribute)\n",
    "p.__class__ = Pointy\n",
    "p"
   ]
  },
  {
   "cell_type": "code",
   "execution_count": 2,
   "metadata": {},
   "outputs": [
    {
     "name": "stdout",
     "output_type": "stream",
     "text": [
      "\n",
      "<__main__.Point object at 0x7859f8469710>\n",
      "\n",
      "{'x': 1, 'y': 2}\n",
      "\n",
      "{'x': 1, 'y': 2}\n"
     ]
    }
   ],
   "source": [
    "# That's because in Python, this:\n",
    "\n",
    "print()\n",
    "print(Point(1, 2))\n",
    "\n",
    "# is not fundamentally different from this:\n",
    "\n",
    "print()\n",
    "print({\"x\": 1, \"y\": 2})\n",
    "\n",
    "# as you can see by this:\n",
    "\n",
    "print()\n",
    "print(Point(1, 2).__dict__)"
   ]
  },
  {
   "cell_type": "markdown",
   "metadata": {},
   "source": [
    "<br><br>\n",
    "\n",
    "<p style=\"font-size: 1.25em\">As a statically compiled program, Python has only one data type, <tt>PyObject*</tt> with a pointer to its runtime type, which is yet another <tt>PyObject*</tt>.</p>\n",
    "\n",
    "<center><img src=\"img/pyobject.png\" width=\"50%\"></center>\n",
    "\n",
    "<p style=\"font-size: 1.25em\">That gives us the flexibility to do all the wacky things on the previous slide, but at a runtime cost of checking those types <i>every time they are used.</i></p>\n",
    "\n",
    "<br><br>"
   ]
  },
  {
   "cell_type": "code",
   "execution_count": 3,
   "metadata": {},
   "outputs": [
    {
     "ename": "TypeError",
     "evalue": "can only concatenate str (not \"int\") to str",
     "output_type": "error",
     "traceback": [
      "\u001b[0;31m---------------------------------------------------------------------------\u001b[0m",
      "\u001b[0;31mTypeError\u001b[0m                                 Traceback (most recent call last)",
      "\u001b[0;32m<ipython-input-3-0f80709ea3fd>\u001b[0m in \u001b[0;36m<module>\u001b[0;34m\u001b[0m\n\u001b[1;32m      7\u001b[0m         \u001b[0mx\u001b[0m \u001b[0;34m=\u001b[0m \u001b[0;34m\"hello\"\u001b[0m\u001b[0;34m\u001b[0m\u001b[0;34m\u001b[0m\u001b[0m\n\u001b[1;32m      8\u001b[0m     \u001b[0;31m# do an operation on x that only works for integers\u001b[0m\u001b[0;34m\u001b[0m\u001b[0;34m\u001b[0m\u001b[0;34m\u001b[0m\u001b[0m\n\u001b[0;32m----> 9\u001b[0;31m     \u001b[0mx\u001b[0m \u001b[0;34m+=\u001b[0m \u001b[0;36m1\u001b[0m\u001b[0;34m\u001b[0m\u001b[0;34m\u001b[0m\u001b[0m\n\u001b[0m",
      "\u001b[0;31mTypeError\u001b[0m: can only concatenate str (not \"int\") to str"
     ]
    }
   ],
   "source": [
    "# x is an integer\n",
    "x = 0\n",
    "\n",
    "for i in range(1000000):\n",
    "    # in the millionth step, replace x with a string\n",
    "    if i == 999999:\n",
    "        x = \"hello\"\n",
    "    # do an operation on x that only works for integers\n",
    "    x += 1"
   ]
  },
  {
   "cell_type": "code",
   "execution_count": 4,
   "metadata": {},
   "outputs": [
    {
     "ename": "TypingError",
     "evalue": "Failed in nopython mode pipeline (step: nopython frontend)\nCannot unify int64 and Literal[str](hello) for 'x', defined at <ipython-input-4-290cb8971149> (5)\n\nFile \"<ipython-input-4-290cb8971149>\", line 5:\ndef f():\n    x = 0\n    ^\n\n[1] During: typing of assignment at <ipython-input-4-290cb8971149> (9)\n\nFile \"<ipython-input-4-290cb8971149>\", line 9:\ndef f():\n    <source elided>\n        if i == 999999:\n            x = \"hello\"\n            ^\n\nThis is not usually a problem with Numba itself but instead often caused by\nthe use of unsupported features or an issue in resolving types.\n\nTo see Python/NumPy features supported by the latest release of Numba visit:\nhttp://numba.pydata.org/numba-doc/dev/reference/pysupported.html\nand\nhttp://numba.pydata.org/numba-doc/dev/reference/numpysupported.html\n\nFor more information about typing errors and how to debug them visit:\nhttp://numba.pydata.org/numba-doc/latest/user/troubleshoot.html#my-code-doesn-t-compile\n\nIf you think your code should work with Numba, please report the error message\nand traceback, along with a minimal reproducer at:\nhttps://github.com/numba/numba/issues/new\n",
     "output_type": "error",
     "traceback": [
      "\u001b[0;31m---------------------------------------------------------------------------\u001b[0m",
      "\u001b[0;31mTypingError\u001b[0m                               Traceback (most recent call last)",
      "\u001b[0;32m<ipython-input-4-290cb8971149>\u001b[0m in \u001b[0;36m<module>\u001b[0;34m\u001b[0m\n\u001b[1;32m     12\u001b[0m     \u001b[0;32mreturn\u001b[0m \u001b[0mx\u001b[0m\u001b[0;34m\u001b[0m\u001b[0;34m\u001b[0m\u001b[0m\n\u001b[1;32m     13\u001b[0m \u001b[0;34m\u001b[0m\u001b[0m\n\u001b[0;32m---> 14\u001b[0;31m \u001b[0mf\u001b[0m\u001b[0;34m(\u001b[0m\u001b[0;34m)\u001b[0m\u001b[0;34m\u001b[0m\u001b[0;34m\u001b[0m\u001b[0m\n\u001b[0m",
      "\u001b[0;32m~/miniconda3/lib/python3.7/site-packages/numba/dispatcher.py\u001b[0m in \u001b[0;36m_compile_for_args\u001b[0;34m(self, *args, **kws)\u001b[0m\n\u001b[1;32m    349\u001b[0m                 \u001b[0me\u001b[0m\u001b[0;34m.\u001b[0m\u001b[0mpatch_message\u001b[0m\u001b[0;34m(\u001b[0m\u001b[0mmsg\u001b[0m\u001b[0;34m)\u001b[0m\u001b[0;34m\u001b[0m\u001b[0;34m\u001b[0m\u001b[0m\n\u001b[1;32m    350\u001b[0m \u001b[0;34m\u001b[0m\u001b[0m\n\u001b[0;32m--> 351\u001b[0;31m             \u001b[0merror_rewrite\u001b[0m\u001b[0;34m(\u001b[0m\u001b[0me\u001b[0m\u001b[0;34m,\u001b[0m \u001b[0;34m'typing'\u001b[0m\u001b[0;34m)\u001b[0m\u001b[0;34m\u001b[0m\u001b[0;34m\u001b[0m\u001b[0m\n\u001b[0m\u001b[1;32m    352\u001b[0m         \u001b[0;32mexcept\u001b[0m \u001b[0merrors\u001b[0m\u001b[0;34m.\u001b[0m\u001b[0mUnsupportedError\u001b[0m \u001b[0;32mas\u001b[0m \u001b[0me\u001b[0m\u001b[0;34m:\u001b[0m\u001b[0;34m\u001b[0m\u001b[0;34m\u001b[0m\u001b[0m\n\u001b[1;32m    353\u001b[0m             \u001b[0;31m# Something unsupported is present in the user code, add help info\u001b[0m\u001b[0;34m\u001b[0m\u001b[0;34m\u001b[0m\u001b[0;34m\u001b[0m\u001b[0m\n",
      "\u001b[0;32m~/miniconda3/lib/python3.7/site-packages/numba/dispatcher.py\u001b[0m in \u001b[0;36merror_rewrite\u001b[0;34m(e, issue_type)\u001b[0m\n\u001b[1;32m    316\u001b[0m                 \u001b[0;32mraise\u001b[0m \u001b[0me\u001b[0m\u001b[0;34m\u001b[0m\u001b[0;34m\u001b[0m\u001b[0m\n\u001b[1;32m    317\u001b[0m             \u001b[0;32melse\u001b[0m\u001b[0;34m:\u001b[0m\u001b[0;34m\u001b[0m\u001b[0;34m\u001b[0m\u001b[0m\n\u001b[0;32m--> 318\u001b[0;31m                 \u001b[0mreraise\u001b[0m\u001b[0;34m(\u001b[0m\u001b[0mtype\u001b[0m\u001b[0;34m(\u001b[0m\u001b[0me\u001b[0m\u001b[0;34m)\u001b[0m\u001b[0;34m,\u001b[0m \u001b[0me\u001b[0m\u001b[0;34m,\u001b[0m \u001b[0;32mNone\u001b[0m\u001b[0;34m)\u001b[0m\u001b[0;34m\u001b[0m\u001b[0;34m\u001b[0m\u001b[0m\n\u001b[0m\u001b[1;32m    319\u001b[0m \u001b[0;34m\u001b[0m\u001b[0m\n\u001b[1;32m    320\u001b[0m         \u001b[0margtypes\u001b[0m \u001b[0;34m=\u001b[0m \u001b[0;34m[\u001b[0m\u001b[0;34m]\u001b[0m\u001b[0;34m\u001b[0m\u001b[0;34m\u001b[0m\u001b[0m\n",
      "\u001b[0;32m~/miniconda3/lib/python3.7/site-packages/numba/six.py\u001b[0m in \u001b[0;36mreraise\u001b[0;34m(tp, value, tb)\u001b[0m\n\u001b[1;32m    656\u001b[0m             \u001b[0mvalue\u001b[0m \u001b[0;34m=\u001b[0m \u001b[0mtp\u001b[0m\u001b[0;34m(\u001b[0m\u001b[0;34m)\u001b[0m\u001b[0;34m\u001b[0m\u001b[0;34m\u001b[0m\u001b[0m\n\u001b[1;32m    657\u001b[0m         \u001b[0;32mif\u001b[0m \u001b[0mvalue\u001b[0m\u001b[0;34m.\u001b[0m\u001b[0m__traceback__\u001b[0m \u001b[0;32mis\u001b[0m \u001b[0;32mnot\u001b[0m \u001b[0mtb\u001b[0m\u001b[0;34m:\u001b[0m\u001b[0;34m\u001b[0m\u001b[0;34m\u001b[0m\u001b[0m\n\u001b[0;32m--> 658\u001b[0;31m             \u001b[0;32mraise\u001b[0m \u001b[0mvalue\u001b[0m\u001b[0;34m.\u001b[0m\u001b[0mwith_traceback\u001b[0m\u001b[0;34m(\u001b[0m\u001b[0mtb\u001b[0m\u001b[0;34m)\u001b[0m\u001b[0;34m\u001b[0m\u001b[0;34m\u001b[0m\u001b[0m\n\u001b[0m\u001b[1;32m    659\u001b[0m         \u001b[0;32mraise\u001b[0m \u001b[0mvalue\u001b[0m\u001b[0;34m\u001b[0m\u001b[0;34m\u001b[0m\u001b[0m\n\u001b[1;32m    660\u001b[0m \u001b[0;34m\u001b[0m\u001b[0m\n",
      "\u001b[0;31mTypingError\u001b[0m: Failed in nopython mode pipeline (step: nopython frontend)\nCannot unify int64 and Literal[str](hello) for 'x', defined at <ipython-input-4-290cb8971149> (5)\n\nFile \"<ipython-input-4-290cb8971149>\", line 5:\ndef f():\n    x = 0\n    ^\n\n[1] During: typing of assignment at <ipython-input-4-290cb8971149> (9)\n\nFile \"<ipython-input-4-290cb8971149>\", line 9:\ndef f():\n    <source elided>\n        if i == 999999:\n            x = \"hello\"\n            ^\n\nThis is not usually a problem with Numba itself but instead often caused by\nthe use of unsupported features or an issue in resolving types.\n\nTo see Python/NumPy features supported by the latest release of Numba visit:\nhttp://numba.pydata.org/numba-doc/dev/reference/pysupported.html\nand\nhttp://numba.pydata.org/numba-doc/dev/reference/numpysupported.html\n\nFor more information about typing errors and how to debug them visit:\nhttp://numba.pydata.org/numba-doc/latest/user/troubleshoot.html#my-code-doesn-t-compile\n\nIf you think your code should work with Numba, please report the error message\nand traceback, along with a minimal reproducer at:\nhttps://github.com/numba/numba/issues/new\n"
     ]
    }
   ],
   "source": [
    "import numba\n",
    "\n",
    "@numba.jit(nopython=True)\n",
    "def f():\n",
    "    x = 0\n",
    "    for i in range(1000000):\n",
    "        # in the millionth step, replace x with a string\n",
    "        if i == 999999:\n",
    "            x = \"hello\"\n",
    "        # do an operation on x that only works for integers\n",
    "        x += 1\n",
    "    return x\n",
    "\n",
    "f()"
   ]
  },
  {
   "cell_type": "code",
   "execution_count": 6,
   "metadata": {},
   "outputs": [
    {
     "ename": "AttributeError",
     "evalue": "f",
     "output_type": "error",
     "traceback": [
      "\u001b[0;31m---------------------------------------------------------------------------\u001b[0m",
      "\u001b[0;31mAttributeError\u001b[0m                            Traceback (most recent call last)",
      "\u001b[0;32m<ipython-input-6-1be7defa0a75>\u001b[0m in \u001b[0;36m<module>\u001b[0;34m\u001b[0m\n\u001b[1;32m     15\u001b[0m }\"\"\")\n\u001b[1;32m     16\u001b[0m \u001b[0;34m\u001b[0m\u001b[0m\n\u001b[0;32m---> 17\u001b[0;31m \u001b[0mROOT\u001b[0m\u001b[0;34m.\u001b[0m\u001b[0mf\u001b[0m\u001b[0;34m(\u001b[0m\u001b[0;34m)\u001b[0m\u001b[0;34m\u001b[0m\u001b[0;34m\u001b[0m\u001b[0m\n\u001b[0m",
      "\u001b[0;32m~/miniconda3/lib/python3.7/site-packages/ROOT.py\u001b[0m in \u001b[0;36m__getattr2\u001b[0;34m(self, name)\u001b[0m\n\u001b[1;32m    683\u001b[0m \u001b[0;34m\u001b[0m\u001b[0m\n\u001b[1;32m    684\u001b[0m     \u001b[0;31m# reaching this point means failure ...\u001b[0m\u001b[0;34m\u001b[0m\u001b[0;34m\u001b[0m\u001b[0;34m\u001b[0m\u001b[0m\n\u001b[0;32m--> 685\u001b[0;31m       \u001b[0;32mraise\u001b[0m \u001b[0mAttributeError\u001b[0m\u001b[0;34m(\u001b[0m \u001b[0mname\u001b[0m \u001b[0;34m)\u001b[0m\u001b[0;34m\u001b[0m\u001b[0;34m\u001b[0m\u001b[0m\n\u001b[0m\u001b[1;32m    686\u001b[0m \u001b[0;34m\u001b[0m\u001b[0m\n\u001b[1;32m    687\u001b[0m    \u001b[0;32mdef\u001b[0m \u001b[0m__delattr__\u001b[0m\u001b[0;34m(\u001b[0m \u001b[0mself\u001b[0m\u001b[0;34m,\u001b[0m \u001b[0mname\u001b[0m \u001b[0;34m)\u001b[0m\u001b[0;34m:\u001b[0m\u001b[0;34m\u001b[0m\u001b[0;34m\u001b[0m\u001b[0m\n",
      "\u001b[0;31mAttributeError\u001b[0m: f"
     ]
    },
    {
     "name": "stderr",
     "output_type": "stream",
     "text": [
      "\u001b[1minput_line_33:7:17: \u001b[0m\u001b[0;1;31merror: \u001b[0m\u001b[1massigning to 'int' from incompatible type 'const char [6]'\u001b[0m\n",
      "            x = \"hello\";\n",
      "\u001b[0;1;32m                ^~~~~~~\n",
      "\u001b[0m"
     ]
    }
   ],
   "source": [
    "import ROOT\n",
    "\n",
    "ROOT.gInterpreter.Declare(\"\"\"\n",
    "int f() {\n",
    "    int x = 0;\n",
    "    for (int i = 0; i < 1000000; i++) {\n",
    "        // in the millionth step, replace x with a string\n",
    "        if (i == 999999) {\n",
    "            x = \"hello\";\n",
    "        }\n",
    "        // do an operation on x that only works for integers\n",
    "        x += 1;\n",
    "    }\n",
    "    return x;\n",
    "}\"\"\")\n",
    "\n",
    "ROOT.f()"
   ]
  },
  {
   "cell_type": "markdown",
   "metadata": {},
   "source": [
    "<br><br><br>\n",
    "\n",
    "<p style=\"font-size: 1.25em\">The unsurprising, conventional answer to <b>\"how do I make it fast?\"</b></p>\n",
    "\n",
    "<ol>\n",
    "    <li style=\"font-size: 1.25em; margin-bottom: 0.75em\">Determine all data types statically: i.e. one variable ↔ one type and all values in a list/array have the same type.\n",
    "    <li style=\"font-size: 1.25em\">Take advantage of the static types by converting the program into machine code: i.e. verify those types and generate code without runtime type-checks.\n",
    "</ol>\n",
    "\n",
    "<br>\n",
    "\n",
    "<p style=\"font-size: 1.25em; text-align: center\"><b>We usually call this \"compiling.\"</b></p>\n",
    "\n",
    "<br><br><br>"
   ]
  },
  {
   "cell_type": "markdown",
   "metadata": {},
   "source": [
    "<br><br><br>\n",
    "\n",
    "<p style=\"font-size: 1.25em\"><b>But:</b> \"compiling\" does not necessarily mean \"rewrite in C or C++.\"</p>\n",
    "\n",
    "<ul>\n",
    "    <li style=\"font-size: 1.25em; margin-bottom: 0.75em\">Any language can be compiled.\n",
    "    <li style=\"font-size: 1.25em; margin-bottom: 0.75em\">Compilation does not need to be a separate phase from running the program.\n",
    "    <li style=\"font-size: 1.25em; margin-bottom: 0.75em\">The compiled section can be as little or as much as you want.\n",
    "    <li style=\"font-size: 1.25em; margin-bottom: 0.75em\">If you're using Python to organize your analysis, focus only on the part that needs to be fast. <i>Which part scales with the number of events?</i>\n",
    "</ul>\n",
    "\n",
    "<br><br><br>"
   ]
  },
  {
   "cell_type": "markdown",
   "metadata": {},
   "source": [
    "<br><br><br>\n",
    "\n",
    "<center><img src=\"img/numba-logo.png\" width=\"25%\"></center>\n",
    "\n",
    "<br>\n",
    "\n",
    "<p style=\"font-size: 1.25em; text-align: center; margin-left: 0px; margin-right: 0px; padding-left: 0px; padding-right: 0px\">Numba is a just-in-time compiler of Python code.</p>\n",
    "\n",
    "<br><br><br>"
   ]
  },
  {
   "cell_type": "code",
   "execution_count": 7,
   "metadata": {},
   "outputs": [
    {
     "data": {
      "text/plain": [
       "CPUDispatcher(<function mag at 0x7859c0072ae8>)"
      ]
     },
     "execution_count": 7,
     "metadata": {},
     "output_type": "execute_result"
    }
   ],
   "source": [
    "import numpy\n",
    "\n",
    "@numba.jit(nopython=True)\n",
    "def mag(xarray, yarray):\n",
    "    out = numpy.empty(min(len(xarray), len(yarray)))\n",
    "    \n",
    "    for i in range(len(out)):\n",
    "        out[i] = numpy.sqrt(xarray[i]**2 + yarray[i]**2)\n",
    "    \n",
    "    return out\n",
    "\n",
    "mag"
   ]
  },
  {
   "cell_type": "code",
   "execution_count": 8,
   "metadata": {},
   "outputs": [
    {
     "name": "stdout",
     "output_type": "stream",
     "text": [
      "mag.overloads.keys() = []\n",
      "\n",
      "mag(a, a).sum()      = 707106074079.7664\n",
      "mag.overloads.keys() = [(array(int32, 1d, C), array(int32, 1d, C))]\n",
      "\n",
      "mag(a, b).sum()      = 707106074079.7664\n",
      "mag.overloads.keys() = [(array(int32, 1d, C), array(int32, 1d, C)),\n",
      "                        (array(int32, 1d, C), array(int64, 1d, C))]\n",
      "\n",
      "mag(b, b).sum()      = 707106074079.7664\n",
      "mag.overloads.keys() = [(array(int32, 1d, C), array(int32, 1d, C)),\n",
      "                        (array(int32, 1d, C), array(int64, 1d, C)),\n",
      "                        (array(int64, 1d, C), array(int64, 1d, C))]\n"
     ]
    }
   ],
   "source": [
    "a = numpy.arange(1000000, dtype=numpy.int32)\n",
    "b = numpy.arange(1000000, dtype=numpy.int64)\n",
    "\n",
    "gap = \",\\n                        \"\n",
    "print(f\"mag.overloads.keys() = [{gap.join(str(x) for x in mag.overloads.keys())}]\")\n",
    "print(f\"\\nmag(a, a).sum()      = {mag(a, a).sum()}\")\n",
    "print(f\"mag.overloads.keys() = [{gap.join(str(x) for x in mag.overloads.keys())}]\")\n",
    "print(f\"\\nmag(a, b).sum()      = {mag(a, b).sum()}\")\n",
    "print(f\"mag.overloads.keys() = [{gap.join(str(x) for x in mag.overloads.keys())}]\")\n",
    "print(f\"\\nmag(b, b).sum()      = {mag(b, b).sum()}\")\n",
    "print(f\"mag.overloads.keys() = [{gap.join(str(x) for x in mag.overloads.keys())}]\")"
   ]
  },
  {
   "cell_type": "markdown",
   "metadata": {},
   "source": [
    "<br><br><br>\n",
    "\n",
    "<p style=\"font-size: 1.25em\">Numba compiles a <a href=\"https://numba.pydata.org/numba-doc/dev/reference/pysupported.html\" target=\"_blank\">subset of the Python language</a> and a <a href=\"https://numba.pydata.org/numba-doc/dev/reference/numpysupported.html\" target=\"_blank\">subset of Numpy functions</a> to machine code (through LLVM).</p>\n",
    "\n",
    "<br>\n",
    "\n",
    "<p style=\"font-size: 1.25em\">It also sets up conversions between Python/Numpy and the compiled code.</p>\n",
    "\n",
    "<br>\n",
    "\n",
    "<p style=\"font-size: 1.25em\">A good way to use it: develop in Python because it's easy, eliminate dynamic features from the part that needs to be fast, and try <tt>@numba.jit</tt> until successful.</p>\n",
    "\n",
    "<br><br><br>"
   ]
  },
  {
   "cell_type": "code",
   "execution_count": 9,
   "metadata": {},
   "outputs": [
    {
     "data": {
      "text/plain": [
       "array([0.00000000e+00, 1.41421356e+00, 2.82842712e+00, ...,\n",
       "       1.41420932e+06, 1.41421073e+06, 1.41421215e+06])"
      ]
     },
     "execution_count": 9,
     "metadata": {},
     "output_type": "execute_result"
    }
   ],
   "source": [
    "# Numba has a particular affinity for Numpy (and an unfortunate name).\n",
    "#\n",
    "# Most of the type declarations (int this, float that) come from Numpy dtypes.\n",
    "\n",
    "# numba.vectorize lets you define a Numpy ufunc from a scalars → scalar function:\n",
    "@numba.vectorize\n",
    "def mag(x, y):\n",
    "    return numpy.sqrt(x**2 + y**2)\n",
    "\n",
    "mag(a, b)"
   ]
  },
  {
   "cell_type": "code",
   "execution_count": 10,
   "metadata": {},
   "outputs": [],
   "source": [
    "%%cpp -d\n",
    "\n",
    "//# Of course, you can also write the part that needs to be fast in C++.\n",
    "\n",
    "void mag(int n, double* xarray, double* yarray, double* out) {\n",
    "    for (int i = 0; i < n; i++) {\n",
    "        out[i] = sqrt(xarray[i]*xarray[i] + yarray[i]*yarray[i]);\n",
    "    }\n",
    "}"
   ]
  },
  {
   "cell_type": "code",
   "execution_count": 11,
   "metadata": {},
   "outputs": [
    {
     "data": {
      "text/plain": [
       "array([0.00000000e+00, 1.41421356e+00, 2.82842712e+00, ...,\n",
       "       1.41420932e+06, 1.41421073e+06, 1.41421215e+06])"
      ]
     },
     "execution_count": 11,
     "metadata": {},
     "output_type": "execute_result"
    }
   ],
   "source": [
    "xarray = numpy.arange(1000000, dtype=numpy.float64)\n",
    "yarray = numpy.arange(1000000, dtype=numpy.float64)\n",
    "out = numpy.empty(1000000, dtype=numpy.float64)\n",
    "\n",
    "ROOT.mag(len(out), xarray, yarray, out)\n",
    "\n",
    "out"
   ]
  },
  {
   "cell_type": "markdown",
   "metadata": {},
   "source": [
    "<br><br><br>\n",
    "\n",
    "<p style=\"font-size: 1.25em\">After you <tt>import ROOT</tt>,</p>\n",
    "\n",
    "<ul>\n",
    "    <li style=\"font-size: 1.25em\"><tt>%%cpp</tt> at the top of a Jupyter cell evaluates as a line of C++ ROOT,\n",
    "    <li style=\"font-size: 1.25em\"><tt>%%cpp -d</tt> at the top of a Jupyter cell defines a C++ function,\n",
    "    <li style=\"font-size: 1.25em\"><tt>ROOT.gInterpreter.ProcessLine</tt> in Python evaluates a line of C++ ROOT,\n",
    "    <li style=\"font-size: 1.25em\"><tt>ROOT.gInterpreter.Declare</tt> in Python defines a C++ function,\n",
    "</ul>\n",
    "\n",
    "<p style=\"font-size: 1.25em\">and PyROOT lets you call C++ functions from Python.</p>\n",
    "\n",
    "<br><br><br>"
   ]
  },
  {
   "cell_type": "markdown",
   "metadata": {},
   "source": [
    "<br>\n",
    "\n",
    "<img src=\"img/03-cheat-sheet.png\" width=\"100%\">\n",
    "\n",
    "<br>"
   ]
  },
  {
   "cell_type": "code",
   "execution_count": 12,
   "metadata": {},
   "outputs": [
    {
     "data": {
      "text/plain": [
       "25.0"
      ]
     },
     "execution_count": 12,
     "metadata": {},
     "output_type": "execute_result"
    }
   ],
   "source": [
    "# You can't redefine C++ functions, which makes interactive work difficult.\n",
    "# \n",
    "# Here's a way to make a redefinable function:\n",
    "\n",
    "pyname = \"cpp_func\"\n",
    "cppname = pyname + \"_%d\" % sum(1 if x.startswith(pyname) else 0 for x in dir(ROOT))\n",
    "ROOT.gInterpreter.Declare(r\"\"\"\n",
    "\n",
    "    double \"\"\" + cppname + r\"\"\"(double x) {\n",
    "        return x*x;\n",
    "    }\n",
    "\n",
    "\"\"\")\n",
    "exec(f\"{pyname} = ROOT.{cppname}\")\n",
    "\n",
    "cpp_func(5)"
   ]
  },
  {
   "cell_type": "code",
   "execution_count": 19,
   "metadata": {},
   "outputs": [
    {
     "data": {
      "text/plain": [
       "array([ 0.,  1.,  4.,  9., 16., 25., 36., 49., 64., 81.])"
      ]
     },
     "execution_count": 19,
     "metadata": {},
     "output_type": "execute_result"
    }
   ],
   "source": [
    "# Also, you need to be very careful about data types because ROOT does not\n",
    "# read them off of Numpy arrays.\n",
    "\n",
    "if not hasattr(ROOT, \"assumes_double\"):\n",
    "    ROOT.gInterpreter.Declare(\"\"\"\n",
    "void assumes_double(int n, double* xarray, double* out) {\n",
    "    for (int i = 0; i < n; i++) {\n",
    "        out[i] = xarray[i]*xarray[i];\n",
    "    }\n",
    "}\n",
    "\"\"\")\n",
    "\n",
    "xarray = numpy.arange(10, dtype=numpy.float64)     # change to int64\n",
    "out = numpy.empty(10, dtype=numpy.float64)         # change to int64\n",
    "\n",
    "ROOT.assumes_double(10, xarray, out)\n",
    "out"
   ]
  },
  {
   "cell_type": "code",
   "execution_count": 20,
   "metadata": {},
   "outputs": [
    {
     "data": {
      "text/plain": [
       "[0.0, 1.0, 2.0, 3.0, 4.0, 5.0, 6.0, 7.0, 8.0, 9.0]"
      ]
     },
     "execution_count": 20,
     "metadata": {},
     "output_type": "execute_result"
    }
   ],
   "source": [
    "# If you're sending arrays of data to and from ROOT, you should probably let\n",
    "# ROOT control the type, size, and memory of those arrays as C++ std::vector.\n",
    "\n",
    "# a_vector = std::vector<double>(1000000);\n",
    "a_vector = ROOT.std.vector(\"double\")(1000000)\n",
    "\n",
    "# a_array only WRAPS it as a Numpy array.\n",
    "a_array = numpy.asarray(a_vector)\n",
    "\n",
    "# Assigning to this Numpy array changes the memory owned by the std::vector.\n",
    "a_array[:] = numpy.arange(1000000, dtype=numpy.float64)\n",
    "\n",
    "# See?\n",
    "list(a_vector[:10])"
   ]
  },
  {
   "cell_type": "code",
   "execution_count": 32,
   "metadata": {},
   "outputs": [
    {
     "data": {
      "text/plain": [
       "array([0.00000e+00, 1.00000e+00, 2.00000e+00, ..., 9.99997e+05,\n",
       "       9.99998e+05, 9.99999e+05])"
      ]
     },
     "execution_count": 32,
     "metadata": {},
     "output_type": "execute_result"
    }
   ],
   "source": [
    "if not hasattr(ROOT, \"safer\"):\n",
    "    ROOT.gInterpreter.Declare(\"\"\"\n",
    "void safer(std::vector<double> xarray, std::vector<double> out) {\n",
    "    for (int i = 0; i < xarray.size(); i++) {\n",
    "        out[i] = xarray[i]*xarray[i];\n",
    "    }\n",
    "}\n",
    "\"\"\")\n",
    "\n",
    "b_vector = ROOT.std.vector(\"double\")(1000000)    # change to \"int\"\n",
    "b_array = numpy.asarray(a_vector)\n",
    "\n",
    "ROOT.safer(a_vector, b_vector)\n",
    "\n",
    "b_array"
   ]
  },
  {
   "cell_type": "markdown",
   "metadata": {},
   "source": [
    "<br><br>\n",
    "\n",
    "<p style=\"font-size: 1.25em\"><b>Reminder:</b> a Numpy object is a Python object that <i>points to</i> memory, maybe someone else's memory.</p>\n",
    "\n",
    "<br>\n",
    "\n",
    "<center><img src=\"img/numpy-memory-layout.png\" width=\"75%\"></center>\n",
    "\n",
    "<br><br>"
   ]
  }
 ],
 "metadata": {
  "kernelspec": {
   "display_name": "Python 3",
   "language": "python",
   "name": "python3"
  },
  "language_info": {
   "codemirror_mode": {
    "name": "ipython",
    "version": 3
   },
   "file_extension": ".py",
   "mimetype": "text/x-python",
   "name": "python",
   "nbconvert_exporter": "python",
   "pygments_lexer": "ipython3",
   "version": "3.7.3"
  }
 },
 "nbformat": 4,
 "nbformat_minor": 4
}
