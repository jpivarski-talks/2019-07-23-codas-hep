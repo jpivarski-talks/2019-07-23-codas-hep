{
 "cells": [
  {
   "cell_type": "markdown",
   "metadata": {},
   "source": [
    "<br><br><br><br><br>\n",
    "\n",
    "# Columnar data analysis\n",
    "\n",
    "<br><br><br><br><br>"
   ]
  },
  {
   "cell_type": "markdown",
   "metadata": {},
   "source": [
    "<br><br><br><br>\n",
    "\n",
    "<p style=\"font-size: 1.25em\">Array programming is a programming language paradigm like Object-Oriented Programming (OOP) and Functional Programming (FP).</p>\n",
    "\n",
    "<br>\n",
    "\n",
    "<p style=\"font-size: 1.25em\">As physicists, we are mostly familiar with <i>imperative, procedural, structured, object-oriented programming</i> (see <a href=\"https://en.wikipedia.org/wiki/Comparison_of_programming_paradigms#Main_paradigm_approaches\">this list</a>).</p>\n",
    "\n",
    "<br><br><br><br>"
   ]
  },
  {
   "cell_type": "code",
   "execution_count": 1,
   "metadata": {},
   "outputs": [
    {
     "data": {
      "text/html": [
       "\n",
       "        <iframe\n",
       "            width=\"100%\"\n",
       "            height=\"440\"\n",
       "            src=\"http://zoom.it/6rJp\"\n",
       "            frameborder=\"0\"\n",
       "            allowfullscreen\n",
       "        ></iframe>\n",
       "        "
      ],
      "text/plain": [
       "<IPython.lib.display.IFrame at 0x7b4ca8412438>"
      ]
     },
     "execution_count": 1,
     "metadata": {},
     "output_type": "execute_result"
    }
   ],
   "source": [
    "from IPython.display import IFrame    \n",
    "IFrame(\"http://zoom.it/6rJp\", width=\"100%\", height=\"440\")"
   ]
  },
  {
   "cell_type": "markdown",
   "metadata": {},
   "source": [
    "<br>\n",
    "\n",
    "<p style=\"font-size: 1.25em\">Array programming is common to languages and systems designed for interactive data analysis.</p>\n",
    "\n",
    "<img src=\"img/apl-timeline.png\" width=\"100%\">\n",
    "\n",
    "<br>"
   ]
  },
  {
   "cell_type": "markdown",
   "metadata": {},
   "source": [
    "<br><br>\n",
    "\n",
    "<table align=\"left\" width=\"33%\" style=\"margin-right: 50px\">\n",
    "<tr style=\"background: white\"><td><img src=\"img/apl-keyboard.jpg\" width=\"100%\"></td></tr>\n",
    "<tr style=\"background: white\"><td style=\"text-align: center\"><i>Special keyboard for all the symbols.</i></td></tr>\n",
    "<tr style=\"background: white\"><td align=\"center\"><img src=\"img/tshirt.jpg\" width=\"50%\"></td></tr>\n",
    "<tr style=\"background: white\"><td style=\"text-align: center\"><i>A program was a struggle to write, but T-shirt fodder when it worked.</i></td></tr>\n",
    "</table>\n",
    "\n",
    "<br>\n",
    "\n",
    "<p style=\"font-size: 1.25em\">APL (1963) pioneered programming language conciseness—and discovered the mistake of being too concise.</p>\n",
    "\n",
    "| APL | <br> | Numpy |\n",
    "|:---:|:----:|:-----:|\n",
    "| <tt>ι4</tt> | <br> | <tt>numpy.arange(4)</tt> |\n",
    "| <tt>(3+ι4)</tt> | <br> | <tt>numpy.arange(4) + 3</tt> |\n",
    "| <tt>+/(3+ι4)</tt> | <br> | <tt>(numpy.arange(4) + 3).sum()</tt> |\n",
    "| <tt>m ← +/(3+ι4)</tt> | <br> | <tt>m = (numpy.arange(4) + 3).sum()</tt> |\n",
    "\n",
    "(The other extreme is writing for loops for each of the above.)\n",
    "\n",
    "<br><br>"
   ]
  },
  {
   "cell_type": "markdown",
   "metadata": {},
   "source": [
    "<br><br><br><br>\n",
    "\n",
    "<p style=\"font-size: 1.25em\">The fundamental data type in this world is an array. (Some array languages don't even have non-arrays.)</p>\n",
    "\n",
    "<br>\n",
    "\n",
    "<p style=\"font-size: 1.25em\">Unlike the others (APL, IDL, MATLAB, R), Numpy is a library, not a language, though it goes all the way back to the beginning of Python (1995) and significantly influenced Python's grammar.</p>\n",
    "\n",
    "<br><br><br><br>"
   ]
  },
  {
   "cell_type": "code",
   "execution_count": 2,
   "metadata": {},
   "outputs": [
    {
     "name": "stdout",
     "output_type": "stream",
     "text": [
      "[ 0  1  2  3  4  5  6  7  8  9 10 11 12 13 14 15 16 17 18 19]\n",
      "\n",
      "[-5.  -4.5 -4.  -3.5 -3.  -2.5 -2.  -1.5 -1.  -0.5  0.   0.5  1.   1.5\n",
      "  2.   2.5  3.   3.5  4.   4.5  5. ]\n",
      "\n",
      "[ 7.812e-03  0.000e+00  0.000e+00 ... -5.323e-05  5.978e+04  0.000e+00]\n",
      "\n",
      "[[999 999 999 999 999 999 999]\n",
      " [999 999 999 999 999 999 999]]\n",
      "\n",
      "[-0.99988257 -1.00000867 -1.00004315 ... -0.99979673 -1.00007011\n",
      " -1.0001712 ]\n",
      "\n",
      "[82.20186639 62.34492895 62.34492895 ... 81.27013558 81.27013558\n",
      " 81.56621735]\n",
      "\n"
     ]
    }
   ],
   "source": [
    "# Assortment of ways to make Numpy arrays\n",
    "\n",
    "import numpy, uproot\n",
    "print(numpy.arange(20),                                        end=\"\\n\\n\")\n",
    "print(numpy.linspace(-5, 5, 21),                               end=\"\\n\\n\")\n",
    "print(numpy.empty(10000, numpy.float16),                       end=\"\\n\\n\")\n",
    "print(numpy.full((2, 7), 999),                                 end=\"\\n\\n\")\n",
    "print(numpy.random.normal(-1, 0.0001, 10000),                  end=\"\\n\\n\")\n",
    "print(uproot.open(\"data/Zmumu.root\")[\"events\"][\"E1\"].array(),  end=\"\\n\\n\")"
   ]
  },
  {
   "cell_type": "markdown",
   "metadata": {},
   "source": [
    "<br><br>\n",
    "\n",
    "<center><img src=\"img/numpy-memory-layout.png\" width=\"90%\"></center>\n",
    "\n",
    "<br><br>"
   ]
  },
  {
   "cell_type": "code",
   "execution_count": 3,
   "metadata": {},
   "outputs": [
    {
     "name": "stdout",
     "output_type": "stream",
     "text": [
      "data:\n",
      " [1073741824 1140850688         -1          0 1090519040 1074790400]\n",
      "\n",
      "type: <class 'numpy.ndarray'>\n",
      "\n",
      "dtype (type of the data it contains): int32\n",
      "\n",
      "shape: (size of each dimension): (6,)\n",
      "\n"
     ]
    }
   ],
   "source": [
    "a = numpy.array([2**30, 2**30 + 2**26, -1, 0, 2**30 + 2**24, 2**30 + 2**20], numpy.int32)\n",
    "# a = a.view(numpy.float32)\n",
    "# a = a.reshape((2, 3))\n",
    "# a = a.astype(numpy.int64)\n",
    "\n",
    "print(\"data:\\n\", a, end=\"\\n\\n\")\n",
    "print(\"type:\", type(a), end=\"\\n\\n\")\n",
    "print(\"dtype (type of the data it contains):\", a.dtype, end=\"\\n\\n\")\n",
    "print(\"shape: (size of each dimension):\", a.shape, end=\"\\n\\n\")"
   ]
  },
  {
   "cell_type": "code",
   "execution_count": 4,
   "metadata": {},
   "outputs": [
    {
     "name": "stdout",
     "output_type": "stream",
     "text": [
      "scalar:\n",
      " 0.0006013822673149542\n",
      "\n",
      "array:\n",
      " [ 0.00060138  0.00451882  0.00247519 ...  0.00496957  0.00975395\n",
      " -0.00526707]\n",
      "\n"
     ]
    }
   ],
   "source": [
    "# Any mathematical function that would map scalar arguments to a scalar result\n",
    "#                                      maps array arguments to an array result.\n",
    "\n",
    "a_array = numpy.random.uniform(5, 10, 10000);     a_scalar = a_array[0]\n",
    "b_array = numpy.random.uniform(10, 20, 10000);    b_scalar = b_array[0]\n",
    "c_array = numpy.random.uniform(-0.1, 0.1, 10000); c_scalar = c_array[0]\n",
    "\n",
    "def quadratic_formula(a, b, c):\n",
    "    return (-b + numpy.sqrt(b**2 - 4*a*c)) / (2*a)\n",
    "\n",
    "print(\"scalar:\\n\", quadratic_formula(a_scalar, b_scalar, c_scalar), end=\"\\n\\n\")\n",
    "print(\"array:\\n\",  quadratic_formula(a_array,  b_array,  c_array), end=\"\\n\\n\")"
   ]
  },
  {
   "cell_type": "code",
   "execution_count": 5,
   "metadata": {},
   "outputs": [
    {
     "data": {
      "text/plain": [
       "(array([ 0.00060138,  0.00451882,  0.00247519, ...,  0.00496957,\n",
       "         0.00975395, -0.00526707]),\n",
       " array([ 0.00060138,  0.00451882,  0.00247519, ...,  0.00496957,\n",
       "         0.00975395, -0.00526707]))"
      ]
     },
     "execution_count": 5,
     "metadata": {},
     "output_type": "execute_result"
    }
   ],
   "source": [
    "# Each step in the calculation is performed over whole arrays before moving on to the next.\n",
    "\n",
    "a, b, c = a_array, b_array, c_array\n",
    "\n",
    "roots1 = (-b + numpy.sqrt(b**2 - 4*a*c)) / (2*a)\n",
    "\n",
    "tmp1 = numpy.negative(b)            # -b\n",
    "tmp2 = numpy.square(b)              # b**2\n",
    "tmp3 = numpy.multiply(4, a)         # 4*a\n",
    "tmp4 = numpy.multiply(tmp3, c)      # tmp3*c\n",
    "tmp5 = numpy.subtract(tmp2, tmp4)   # tmp2 - tmp4\n",
    "tmp6 = numpy.sqrt(tmp5)             # sqrt(tmp5)\n",
    "tmp7 = numpy.add(tmp1, tmp6)        # tmp1 + tmp6\n",
    "tmp8 = numpy.multiply(2, a)         # 2*a\n",
    "roots2 = numpy.divide(tmp7, tmp8)   # tmp7 / tmp8\n",
    "\n",
    "roots1, roots2"
   ]
  },
  {
   "cell_type": "code",
   "execution_count": 6,
   "metadata": {},
   "outputs": [
    {
     "data": {
      "text/plain": [
       "array([ True,  True,  True, ...,  True,  True,  True])"
      ]
     },
     "execution_count": 6,
     "metadata": {},
     "output_type": "execute_result"
    }
   ],
   "source": [
    "# Even comparison operators are element-by-element.\n",
    "\n",
    "roots1 == roots2"
   ]
  },
  {
   "cell_type": "code",
   "execution_count": 7,
   "metadata": {},
   "outputs": [
    {
     "data": {
      "text/plain": [
       "True"
      ]
     },
     "execution_count": 7,
     "metadata": {},
     "output_type": "execute_result"
    }
   ],
   "source": [
    "# So use a reducer (e.g. sum, max, min, any, all) to turn the array into a scalar.\n",
    "\n",
    "(roots1 == roots2).all()"
   ]
  },
  {
   "cell_type": "code",
   "execution_count": 8,
   "metadata": {},
   "outputs": [
    {
     "data": {
      "text/plain": [
       "array([82.20179848, 62.34483942, 62.34483942, ..., 81.27006689,\n",
       "       81.27006689, 81.56614892])"
      ]
     },
     "execution_count": 8,
     "metadata": {},
     "output_type": "execute_result"
    }
   ],
   "source": [
    "px, py, pz = uproot.open(\"data/Zmumu.root\")[\"events\"].arrays(\"p[xyz]1\", outputtype=tuple)\n",
    "\n",
    "p = numpy.sqrt(px**2 + py**2 + pz**2)\n",
    "p"
   ]
  },
  {
   "cell_type": "code",
   "execution_count": 9,
   "metadata": {},
   "outputs": [
    {
     "data": {
      "text/plain": [
       "<JaggedArray [[-52.899456 37.73778] [-0.81645936] [48.98783 0.8275667] ... [-29.756786] [1.1418698] [23.913206]] at 0x7b4ca0137748>"
      ]
     },
     "execution_count": 9,
     "metadata": {},
     "output_type": "execute_result"
    }
   ],
   "source": [
    "# But what if there are multiple values per event?\n",
    "\n",
    "uproot.open(\"data/HZZ.root\")[\"events\"].array(\"Muon_Px\")"
   ]
  },
  {
   "cell_type": "code",
   "execution_count": 11,
   "metadata": {},
   "outputs": [
    {
     "data": {
      "text/plain": [
       "<JaggedArray [[54.7794 39.401554] [31.69027] [54.739685 47.48874] ... [62.395073] [174.2086] [69.55613]] at 0x7b4c8c08be80>"
      ]
     },
     "execution_count": 11,
     "metadata": {},
     "output_type": "execute_result"
    }
   ],
   "source": [
    "# JaggedArray can be used in place of a Numpy array in some contexts,\n",
    "# such as array-at-a-time math. Functions like numpy.sqrt recognize it.\n",
    "\n",
    "px, py, pz = uproot.open(\"data/HZZ.root\")[\"events\"].arrays([\"Muon_P[xyz]\"], outputtype=tuple)\n",
    "\n",
    "numpy.sqrt(px**2 + py**2 + pz**2)"
   ]
  },
  {
   "cell_type": "markdown",
   "metadata": {},
   "source": [
    "<br><br>\n",
    "\n",
    "<center><img src=\"img/numpy-memory-broadcasting.png\" width=\"75%\"></center>\n",
    "\n",
    "<br><br>"
   ]
  },
  {
   "cell_type": "code",
   "execution_count": 12,
   "metadata": {},
   "outputs": [
    {
     "data": {
      "text/plain": [
       "(array([82.20186639, 62.34492895, 62.34492895, ..., 81.27013558,\n",
       "        81.27013558, 81.56621735]),\n",
       " array([82.20186639, 62.34492895, 62.34492895, ..., 81.27013558,\n",
       "        81.27013558, 81.56621735]))"
      ]
     },
     "execution_count": 12,
     "metadata": {},
     "output_type": "execute_result"
    }
   ],
   "source": [
    "E, px, py, pz = uproot.open(\"data/Zmumu.root\")[\"events\"].arrays([\"E1\", \"p[xyz]1\"], outputtype=tuple)\n",
    "\n",
    "# Numpy arrays\n",
    "#                   array   array   array   scalar\n",
    "energy = numpy.sqrt(px**2 + py**2 + pz**2 + 0.1056583745**2)\n",
    "energy, E"
   ]
  },
  {
   "cell_type": "code",
   "execution_count": 13,
   "metadata": {},
   "outputs": [
    {
     "data": {
      "text/plain": [
       "(<JaggedArray [[54.7795 39.401695] [31.690447] [54.739788 47.488857] ... [62.39516] [174.20863] [69.55621]] at 0x7b4ca0127be0>,\n",
       " <JaggedArray [[54.7795 39.401695] [31.690445] [54.739788 47.488857] ... [62.39516] [174.20863] [69.55621]] at 0x7b4c837fe278>)"
      ]
     },
     "execution_count": 13,
     "metadata": {},
     "output_type": "execute_result"
    }
   ],
   "source": [
    "E, px, py, pz = uproot.open(\"data/HZZ.root\")[\"events\"].arrays([\"Muon_E\", \"Muon_P[xyz]\"], outputtype=tuple)\n",
    "\n",
    "# JaggedArrays\n",
    "#                   array   array   array   scalar\n",
    "energy = numpy.sqrt(px**2 + py**2 + pz**2 + 0.1056583745**2)\n",
    "energy, E"
   ]
  },
  {
   "cell_type": "code",
   "execution_count": 16,
   "metadata": {},
   "outputs": [
    {
     "name": "stdout",
     "output_type": "stream",
     "text": [
      "scalar + flat:   [1100 1200 1300]\n",
      "\n",
      "scalar + jagged: [[1001.1 1002.2 1003.3] [] [1004.4 1005.5]]\n",
      "\n",
      "  flat + jagged: [[101.1 102.2 103.3] [] [304.4 305.5]]\n"
     ]
    }
   ],
   "source": [
    "import awkward  # the library that defines JaggedArrays and other \"awkward\" arrays\n",
    "\n",
    "scalar = 1000\n",
    "flat   = numpy.array([100, 200, 300])\n",
    "jagged = awkward.fromiter([[1.1, 2.2, 3.3], [], [4.4, 5.5]])\n",
    "\n",
    "# With JaggedArrays, there are more broadcasting cases:\n",
    "print(f\"scalar + flat:   {scalar + flat}\")\n",
    "print(f\"\\nscalar + jagged: {scalar + jagged}\")\n",
    "print(f\"\\n  flat + jagged: {flat + jagged}\")"
   ]
  },
  {
   "cell_type": "code",
   "execution_count": 17,
   "metadata": {},
   "outputs": [
    {
     "name": "stdout",
     "output_type": "stream",
     "text": [
      "multi per event: [[] [2.669215] [] ... [-1.6703207] [2.8687775 -2.0823672] []]\n",
      "one per event:   [ 0.40911174 -0.58348763  2.5796134  ...  1.2252938  -0.58017296\n",
      " -0.18039851]\n",
      "\n",
      "difference:      [[] [3.2527027] [] ... [-2.8956146] [3.4489505 -1.5021942] []]\n"
     ]
    }
   ],
   "source": [
    "# Using jagged broadcasting in physics\n",
    "\n",
    "jetx, jety, metx, mety = uproot.open(\"data/HZZ.root\")[\"events\"].arrays(\n",
    "    [\"Jet_P[xy]\", \"MET_p[xy]\"], outputtype=tuple)\n",
    "\n",
    "jet_phi = numpy.arctan2(jety, jetx)\n",
    "met_phi = numpy.arctan2(mety, metx)\n",
    "\n",
    "print(f\"multi per event: {jet_phi}\")\n",
    "print(f\"one per event:   {met_phi}\")\n",
    "\n",
    "print(f\"\\ndifference:      {jet_phi - met_phi}\")"
   ]
  },
  {
   "cell_type": "code",
   "execution_count": 20,
   "metadata": {},
   "outputs": [
    {
     "data": {
      "text/plain": [
       "(<JaggedArray [[] [3.2527027] [] ... [-2.8956146] [3.4489505 -1.5021942] []] at 0x7b4ca0128b38>,\n",
       " <JaggedArray [[] [-3.0304825] [] ... [-2.8956146] [-2.834235 -1.5021942] []] at 0x7b4c8c1ae630>)"
      ]
     },
     "execution_count": 20,
     "metadata": {},
     "output_type": "execute_result"
    }
   ],
   "source": [
    "# Q: What about ensuring that each delta-phi is between -pi and pi without if/then?\n",
    "# A: You start to pick up tricks, like this:\n",
    "\n",
    "raw_diff = jet_phi - met_phi\n",
    "\n",
    "bounded_diff = (raw_diff + numpy.pi) % (2*numpy.pi) - numpy.pi\n",
    "\n",
    "# Should dphi be a library function? That's the kind of question we think about...\n",
    "\n",
    "raw_diff, bounded_diff\n",
    "# bounded_diff.flatten().min(), bounded_diff.flatten().max()"
   ]
  },
  {
   "cell_type": "markdown",
   "metadata": {},
   "source": [
    "<br><br><br><br><br>\n",
    "\n",
    "<p style=\"font-size: 1.25em; text-align: center\"><b>Reducers:</b> any, all, count, count_nonzero, sum, prod, min, max</p>\n",
    "\n",
    "<br><br><br><br><br>"
   ]
  },
  {
   "cell_type": "code",
   "execution_count": 21,
   "metadata": {},
   "outputs": [
    {
     "data": {
      "text/plain": [
       "(-3.141034, 3.1297169)"
      ]
     },
     "execution_count": 21,
     "metadata": {},
     "output_type": "execute_result"
    }
   ],
   "source": [
    "# Another way JaggedArrays extend Numpy arrays:\n",
    "\n",
    "# Reducers, like sum, min, max, turn flat arrays into scalars.\n",
    "\n",
    "met_phi.min(), met_phi.max()"
   ]
  },
  {
   "cell_type": "code",
   "execution_count": 22,
   "metadata": {},
   "outputs": [
    {
     "data": {
      "text/plain": [
       "(array([       inf,  2.669215 ,        inf, ..., -1.6703207, -2.0823672,\n",
       "               inf], dtype=float32),\n",
       " array([      -inf,  2.669215 ,       -inf, ..., -1.6703207,  2.8687775,\n",
       "              -inf], dtype=float32))"
      ]
     },
     "execution_count": 22,
     "metadata": {},
     "output_type": "execute_result"
    }
   ],
   "source": [
    "# Another way JaggedArrays extend Numpy arrays:\n",
    "\n",
    "# Reducers, like sum, min, max, turn jagged arrays into flat arrays.\n",
    "\n",
    "jet_phi.min(), jet_phi.max()"
   ]
  },
  {
   "cell_type": "code",
   "execution_count": 24,
   "metadata": {},
   "outputs": [
    {
     "data": {
      "text/plain": [
       "array([6., 0., 9.])"
      ]
     },
     "execution_count": 24,
     "metadata": {},
     "output_type": "execute_result"
    }
   ],
   "source": [
    "# The meaning of flat.sum() is \"sum of all elements of the flat array.\"\n",
    "# The meaning of jagged.sum() is \"sum of all elements in each inner array.\"\n",
    "\n",
    "jagged = awkward.fromiter([[1.0, 2.0, 3.0], [], [4.0, 5.0]])\n",
    "jagged.sum()   # min, max"
   ]
  },
  {
   "cell_type": "code",
   "execution_count": 25,
   "metadata": {},
   "outputs": [
    {
     "data": {
      "text/plain": [
       "(15.0, 15.0)"
      ]
     },
     "execution_count": 25,
     "metadata": {},
     "output_type": "execute_result"
    }
   ],
   "source": [
    "# jagged.sum().sum() completes the process, resulting in a scalar. But,\n",
    "# jagged.flatten().sum() does the same thing. Why?\n",
    "\n",
    "jagged.sum().sum(), jagged.flatten().sum()"
   ]
  },
  {
   "cell_type": "code",
   "execution_count": 26,
   "metadata": {},
   "outputs": [
    {
     "data": {
      "text/plain": [
       "array([        nan,  2.66921496,         nan, ..., -1.67032075,\n",
       "        0.39320517,         nan])"
      ]
     },
     "execution_count": 26,
     "metadata": {},
     "output_type": "execute_result"
    }
   ],
   "source": [
    "# mean, var, std are also available, just like Numpy, but these aren't associative.\n",
    "\n",
    "# \"Don't do a mean of means unless you mean it!\"\n",
    "\n",
    "jet_phi.mean()"
   ]
  },
  {
   "cell_type": "code",
   "execution_count": 27,
   "metadata": {},
   "outputs": [
    {
     "name": "stdout",
     "output_type": "stream",
     "text": [
      "same_hemicircle:             [[] [False] [] ... [False] [False True] []]\n",
      "same_hemicircle.any():       [False False False ... False  True False]\n",
      "same_hemicircle.any().any(): True\n",
      "same_hemicircle.any().all(): False\n",
      "same_hemicircle.all():       [ True False  True ... False False  True]\n",
      "same_hemicircle.all().any(): True\n",
      "same_hemicircle.all().all(): False\n"
     ]
    }
   ],
   "source": [
    "# Also worth noting that any and all are reducers... of booleans.\n",
    "\n",
    "same_hemicircle = (abs(bounded_diff) < numpy.pi/2)\n",
    "\n",
    "print(f\"same_hemicircle:             {same_hemicircle}\")\n",
    "print(f\"same_hemicircle.any():       {same_hemicircle.any()}\")\n",
    "print(f\"same_hemicircle.any().any(): {same_hemicircle.any().any()}\")\n",
    "print(f\"same_hemicircle.any().all(): {same_hemicircle.any().all()}\")\n",
    "print(f\"same_hemicircle.all():       {same_hemicircle.all()}\")\n",
    "print(f\"same_hemicircle.all().any(): {same_hemicircle.all().any()}\")\n",
    "print(f\"same_hemicircle.all().all(): {same_hemicircle.all().all()}\")"
   ]
  },
  {
   "cell_type": "markdown",
   "metadata": {},
   "source": [
    "<br><br><br><br><br>\n",
    "\n",
    "<p style=\"font-size: 1.25em; text-align: center\"><b>Slicing:</b> single-item extraction, filtering (cuts), rearrangement</p>\n",
    "\n",
    "<br><br><br><br><br>"
   ]
  },
  {
   "cell_type": "code",
   "execution_count": 28,
   "metadata": {},
   "outputs": [
    {
     "name": "stdout",
     "output_type": "stream",
     "text": [
      "a[3]       = 3.3\n",
      "a[3:]      = [3.3 4.4 5.5 6.6 7.7 8.8 9.9]\n",
      "a[:3]      = [0.  1.1 2.2]\n",
      "a[3:7]     = [3.3 4.4 5.5 6.6]\n",
      "a[3:7:2]   = [3.3 5.5]\n",
      "a[::2]     = [0.  2.2 4.4 6.6 8.8]\n",
      "\n",
      "a[-3]      = 7.7\n",
      "a[-3:]     = [7.7 8.8 9.9]\n",
      "a[:-3]     = [0.  1.1 2.2 3.3 4.4 5.5 6.6]\n",
      "a[-7:-3]   = [3.3 4.4 5.5 6.6]\n",
      "a[-7:-3:2] = [3.3 5.5]\n",
      "a[::-1]    = [9.9 8.8 7.7 6.6 5.5 4.4 3.3 2.2 1.1 0. ]\n"
     ]
    }
   ],
   "source": [
    "# Basic array slicing is the same as Python list slicing\n",
    "\n",
    "a = numpy.array([0.0, 1.1, 2.2, 3.3, 4.4, 5.5, 6.6, 7.7, 8.8, 9.9])\n",
    "\n",
    "for expr in [\"a[3]      \", \"a[3:]     \", \"a[:3]     \",\n",
    "             \"a[3:7]    \", \"a[3:7:2]  \", \"a[::2]    \"]:\n",
    "    print(expr, \"=\", eval(expr))\n",
    "\n",
    "print()\n",
    "for expr in [\"a[-3]     \", \"a[-3:]    \", \"a[:-3]    \",\n",
    "             \"a[-7:-3]  \", \"a[-7:-3:2]\", \"a[::-1]   \"]:\n",
    "    print(expr, \"=\", eval(expr))"
   ]
  },
  {
   "cell_type": "code",
   "execution_count": 29,
   "metadata": {},
   "outputs": [
    {
     "name": "stdout",
     "output_type": "stream",
     "text": [
      "a[2:, 1:] =\n",
      "[[21 22 23 24 25]\n",
      " [31 32 33 34 35]]\n",
      "\n",
      "a[:, 1:-1] =\n",
      "[[ 1  2  3  4]\n",
      " [11 12 13 14]\n",
      " [21 22 23 24]\n",
      " [31 32 33 34]]\n",
      "\n",
      "a[::2, ::2] =\n",
      "[[ 0  2  4]\n",
      " [20 22 24]]\n",
      "\n",
      "a[:, 3] =\n",
      "[ 3 13 23 33]\n",
      "\n"
     ]
    }
   ],
   "source": [
    "# But multidimensional arrays can be sliced with an extension of list slicing.\n",
    "a = numpy.array([[ 0,  1,  2,  3,  4,  5],\n",
    "                 [10, 11, 12, 13, 14, 15],\n",
    "                 [20, 21, 22, 23, 24, 25],\n",
    "                 [30, 31, 32, 33, 34, 35]])\n",
    "for expr in \"a[2:, 1:]\", \"a[:, 1:-1]\", \"a[::2, ::2]\", \"a[:, 3]\":\n",
    "    print(expr, \" =\\n\", eval(expr), sep=\"\", end=\"\\n\\n\")"
   ]
  },
  {
   "cell_type": "markdown",
   "metadata": {},
   "source": [
    "<center><img src=\"img/numpy-slicing.png\" width=\"40%\"></center>"
   ]
  },
  {
   "cell_type": "code",
   "execution_count": 31,
   "metadata": {},
   "outputs": [
    {
     "name": "stdout",
     "output_type": "stream",
     "text": [
      "a[mask] =\n",
      "[5.5 7.7 9.9]\n",
      "\n",
      "a < 5 =\n",
      "[ True  True  True  True False False False False False]\n",
      "\n",
      "a[a < 5] =\n",
      "[1.1 2.2 3.3 4.4]\n",
      "\n"
     ]
    }
   ],
   "source": [
    "# Masking: using an array of booleans as a slice\n",
    "\n",
    "a    = numpy.array([  1.1,   2.2,   3.3,   4.4,  5.5,   6.6,  7.7,   8.8,  9.9])\n",
    "mask = numpy.array([False, False, False, False, True, False, True, False, True])\n",
    "#                                                5.5          7.7          9.9\n",
    "\n",
    "for expr in \"a[mask]\", \"a < 5\", \"a[a < 5]\":\n",
    "    print(expr, \" =\\n\", eval(expr), sep=\"\", end=\"\\n\\n\")"
   ]
  },
  {
   "cell_type": "code",
   "execution_count": 33,
   "metadata": {},
   "outputs": [
    {
     "name": "stdout",
     "output_type": "stream",
     "text": [
      "dict_keys(['Type', 'Run', 'Event', 'E1', 'px1', 'py1', 'pz1', 'pt1', 'eta1', 'phi1', 'Q1', 'E2', 'px2', 'py2', 'pz2', 'pt2', 'eta2', 'phi2', 'Q2', 'M'])\n"
     ]
    },
    {
     "data": {
      "image/png": "[encoded data removed]",
      "text/plain": [
       "<Figure size 432x288 with 1 Axes>"
      ]
     },
     "metadata": {
      "needs_background": "light"
     },
     "output_type": "display_data"
    }
   ],
   "source": [
    "# Five-minute exercise: plot masses with (1) opposite charges and\n",
    "#                                        (2) both muon abs(eta) < 1\n",
    "arrays = uproot.open(\"data/Zmumu.root\")[\"events\"].arrays(namedecode=\"utf-8\")\n",
    "print(arrays.keys())\n",
    "for n in arrays:\n",
    "    exec(f\"{n} = arrays['{n}']\")\n",
    "\n",
    "import matplotlib.pyplot\n",
    "matplotlib.pyplot.hist(M, bins=100);"
   ]
  },
  {
   "cell_type": "code",
   "execution_count": 35,
   "metadata": {},
   "outputs": [
    {
     "name": "stdout",
     "output_type": "stream",
     "text": [
      "q:        [[1 -1] [1] [1 -1] ... [-1] [-1] [-1]]\n",
      "\n",
      "q > 0:    [[True False] [True] [True False] ... [False] [False] [False]]\n",
      "\n",
      "E:        [[54.7795 39.401695] [31.690445] [54.739788 47.488857] ... [62.39516] [174.20863] [69.55621]]\n",
      "\n",
      "E[q > 0]: [[54.7795] [31.690445] [54.739788] ... [] [] []]\n"
     ]
    }
   ],
   "source": [
    "# What if the boolean mask is jagged?\n",
    "\n",
    "E, px, py, pz, q = uproot.open(\"data/HZZ.root\")[\"events\"].arrays(\n",
    "    [\"Muon_E\", \"Muon_P[xyz]\", \"Muon_Charge\"], outputtype=tuple)\n",
    "\n",
    "print(f\"q:        {q}\")\n",
    "print(f\"\\nq > 0:    {q > 0}\")\n",
    "print(f\"\\nE:        {E}\")\n",
    "print(f\"\\nE[q > 0]: {E[q > 0]}\")"
   ]
  },
  {
   "cell_type": "code",
   "execution_count": 36,
   "metadata": {},
   "outputs": [
    {
     "name": "stdout",
     "output_type": "stream",
     "text": [
      "x                      = [[1.1 2.2 3.3 4.4] [5.5 6.6] [7.7 8.8 9.9]]\n",
      "\n",
      "x[:2]                  = [[1.1 2.2 3.3 4.4] [5.5 6.6]]\n",
      "\n",
      "x[:, :2]               = [[1.1 2.2] [5.5 6.6] [7.7 8.8]]\n",
      "\n",
      "x[[True, False, True]] = [[1.1 2.2 3.3 4.4] [7.7 8.8 9.9]]\n"
     ]
    }
   ],
   "source": [
    "# JaggedArray slicing does what Numpy does in the cases that overlap...\n",
    "\n",
    "x = awkward.fromiter([[1.1, 2.2, 3.3, 4.4], [5.5, 6.6], [7.7, 8.8, 9.9]])\n",
    "print(f\"x                      = {x}\")\n",
    "\n",
    "# take the first two inner arrays\n",
    "print(f\"\\nx[:2]                  = {x[:2]}\")\n",
    "\n",
    "# take the first two of each inner arrays\n",
    "print(f\"\\nx[:, :2]               = {x[:, :2]}\")\n",
    "\n",
    "# mask outer lists\n",
    "print(f\"\\nx[[True, False, True]] = {x[[True, False, True]]}\")"
   ]
  },
  {
   "cell_type": "code",
   "execution_count": 40,
   "metadata": {},
   "outputs": [
    {
     "name": "stdout",
     "output_type": "stream",
     "text": [
      "x[mask]  = [[1.1 2.2 3.3] [6.6 7.7 8.8]]\n",
      "\n",
      "x[jmask] = [[1.1 3.3] [] [6.6 7.7 8.8]]\n"
     ]
    }
   ],
   "source": [
    "# ... and naturally extend it in the new cases.\n",
    "\n",
    "x      = awkward.fromiter([[ 1.1,   2.2,  3.3], [  4.4,   5.5], [ 6.6,  7.7,  8.8]])\n",
    "mask   = awkward.fromiter([        True,             False,             True      ])\n",
    "jmask  = awkward.fromiter([[True, False, True], [False, False], [True, True, True]])\n",
    "\n",
    "print(f\"x[mask]  = {x[mask]}\")       # mask outer array\n",
    "print(f\"\\nx[jmask] = {x[jmask]}\")    # mask inner arrays"
   ]
  },
  {
   "cell_type": "code",
   "execution_count": 41,
   "metadata": {},
   "outputs": [
    {
     "name": "stdout",
     "output_type": "stream",
     "text": [
      "selects elements, possibly out of order\n",
      "a[[3, 5, 0, 9]] = [3.3 5.5 0.  9.9]\n",
      "\n",
      "may use negative indexing, just like single integers and slices\n",
      "a[[3, 5, 0, -1, -2, -3]] = [3.3 5.5 0.  9.9 8.8 7.7]\n",
      "\n",
      "may include repetitions(!)\n",
      "a[[3, 5, 0, 9, 9, 9, 3, 5, 0]] = [3.3 5.5 0.  9.9 9.9 9.9 3.3 5.5 0. ]\n"
     ]
    }
   ],
   "source": [
    "# In Numpy, arrays of integers can also be used as indexes.\n",
    "\n",
    "a = numpy.array([0.0, 1.1, 2.2, 3.3, 4.4, 5.5, 6.6, 7.7, 8.8, 9.9])\n",
    "\n",
    "print(\"selects elements, possibly out of order\")\n",
    "index = numpy.array([3, 5, 0, 9])\n",
    "print(\"a[[3, 5, 0, 9]] =\", a[index])\n",
    "\n",
    "print(\"\\nmay use negative indexing, just like single integers and slices\")\n",
    "index = numpy.array([3, 5, 0, -1, -2, -3])\n",
    "print(\"a[[3, 5, 0, -1, -2, -3]] =\", a[index])\n",
    "\n",
    "print(\"\\nmay include repetitions(!)\")\n",
    "index = numpy.array([3, 5, 0, 9, 9, 9, 3, 5, 0])\n",
    "print(\"a[[3, 5, 0, 9, 9, 9, 3, 5, 0]] =\", a[index])"
   ]
  },
  {
   "cell_type": "code",
   "execution_count": 42,
   "metadata": {},
   "outputs": [
    {
     "name": "stdout",
     "output_type": "stream",
     "text": [
      "permutation:\n",
      "[ 63  64  65 ... 136 135 133]\n",
      "\n",
      "\n",
      "sorted eta1:\n",
      "[-2.41404 -2.41404 -2.41404 ...  2.42365  2.42365  2.42365]\n",
      "\n",
      "\n",
      "E1 sorted by eta1:\n",
      "[ 6.03288979  6.03288979  6.03288979 ... 11.8752667  11.8752667\n",
      " 11.8752667 ]\n"
     ]
    }
   ],
   "source": [
    "# What is integer indexing good for?\n",
    "\n",
    "permutation = eta1.argsort()                   # also try abs(eta1).argsort()\n",
    "\n",
    "print(f\"permutation:\\n{permutation}\")\n",
    "\n",
    "print(f\"\\n\\nsorted eta1:\\n{eta1[permutation]}\")\n",
    "\n",
    "print(f\"\\n\\nE1 sorted by eta1:\\n{E1[permutation]}\")"
   ]
  },
  {
   "cell_type": "code",
   "execution_count": 44,
   "metadata": {},
   "outputs": [
    {
     "name": "stdout",
     "output_type": "stream",
     "text": [
      "x[index]  = [[7.7 8.8 9.9] [1.1 2.2 3.3 4.4] [1.1 2.2 3.3 4.4]]\n",
      "\n",
      "x[jindex] = [[1.1 1.1 4.4] [5.5 5.5 6.6] [7.7 7.7 9.9]]\n"
     ]
    }
   ],
   "source": [
    "# Integer indexes with JaggedArrays:\n",
    "\n",
    "x      = awkward.fromiter([[ 1.1, 2.2, 3.3, 4.4], [5.5, 6.6], [7.7, 8.8, 9.9]])\n",
    "index  = awkward.fromiter([-1, 0, 0])\n",
    "jindex = awkward.fromiter([[0, 0, -1], [0, 0, -1], [0, 0, -1]])\n",
    "\n",
    "print(f\"x[index]  = {x[index]}\")       # raarrange outer array\n",
    "print(f\"\\nx[jindex] = {x[jindex]}\")    # raarrange inner arrays"
   ]
  },
  {
   "cell_type": "code",
   "execution_count": 45,
   "metadata": {},
   "outputs": [
    {
     "name": "stdout",
     "output_type": "stream",
     "text": [
      "eta:            [[-0.1500926 -0.2952755] [0.7538137] [0.20692922 1.0412954] ... [-1.2350469] [1.6653314] [1.062699]]\n",
      "\n",
      "maxabseta:      [[1] [0] [1] ... [0] [0] [0]]\n",
      "\n",
      "eta[maxabseta]: [[-0.2952755] [0.7538137] [1.0412954] ... [-1.2350469] [1.6653314] [1.062699]]\n",
      "\n",
      "E[maxabseta]:   [[39.401695] [31.690445] [47.488857] ... [62.39516] [174.20863] [69.55621]]\n"
     ]
    }
   ],
   "source": [
    "# Use case for jagged indexing: argmin and argmax\n",
    "\n",
    "E, px, py, pz, q = uproot.open(\"data/HZZ.root\")[\"events\"].arrays(\n",
    "    [\"Muon_E\", \"Muon_P[xyz]\", \"Muon_Charge\"], outputtype=tuple)\n",
    "\n",
    "eta = numpy.arctanh(pz / numpy.sqrt(px**2 + py**2 + pz**2))\n",
    "print(f\"eta:            {eta}\")\n",
    "\n",
    "maxabseta = abs(eta).argmax()\n",
    "print(f\"\\nmaxabseta:      {maxabseta}\")\n",
    "\n",
    "print(f\"\\neta[maxabseta]: {eta[maxabseta]}\")   # eta with max |eta| per event\n",
    "\n",
    "print(f\"\\nE[maxabseta]:   {E[maxabseta]}\")     # energy with max |eta| per event"
   ]
  },
  {
   "cell_type": "code",
   "execution_count": 46,
   "metadata": {},
   "outputs": [
    {
     "name": "stdout",
     "output_type": "stream",
     "text": [
      "G∘F = [13  5  3  3  5 13 25 41 61 85]\n",
      "g∘f = [13  5  3  3  5 13 25 41 61 85]\n"
     ]
    }
   ],
   "source": [
    "# Array indexing is useful in surprising ways because it's a basic mathematical\n",
    "# operation: thinking of f[x] as a function, array indexing is function composition.\n",
    "\n",
    "# Take any two non-negative functions of integers...\n",
    "def f(x):\n",
    "    return x**2 - 5*x + 10\n",
    "def g(y):\n",
    "    return max(0, 2*y - 10) + 3\n",
    "\n",
    "# ... and sample them as arrays\n",
    "F   = numpy.array([f(i) for i in numpy.arange(10)])     # F is f at 10 elements\n",
    "G   = numpy.array([g(i) for i in numpy.arange(100)])    # G is g at enough elements to include max(f)\n",
    "GoF = numpy.array([g(f(i)) for i in numpy.arange(10)])  # GoF is g∘f at 10 elements\n",
    "\n",
    "print(\"G\\u2218F =\", G[F])   # integer indexing\n",
    "print(\"g\\u2218f =\", GoF)    # array of the composed functions"
   ]
  }
 ],
 "metadata": {
  "kernelspec": {
   "display_name": "Python 3",
   "language": "python",
   "name": "python3"
  },
  "language_info": {
   "codemirror_mode": {
    "name": "ipython",
    "version": 3
   },
   "file_extension": ".py",
   "mimetype": "text/x-python",
   "name": "python",
   "nbconvert_exporter": "python",
   "pygments_lexer": "ipython3",
   "version": "3.7.3"
  }
 },
 "nbformat": 4,
 "nbformat_minor": 4
}
