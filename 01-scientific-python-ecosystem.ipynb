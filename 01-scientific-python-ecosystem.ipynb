{
 "cells": [
  {
   "cell_type": "markdown",
   "metadata": {},
   "source": [
    "<br><br><br><br><br>\n",
    "\n",
    "# The Scientific Python Ecosystem\n",
    "\n",
    "<br><br><br><br><br>"
   ]
  },
  {
   "cell_type": "markdown",
   "metadata": {},
   "source": [
    "<br><br><br><br><br>\n",
    "\n",
    "### Part 1: Why Python in particle physics?\n",
    "\n",
    "<br><br><br><br><br>"
   ]
  },
  {
   "cell_type": "markdown",
   "metadata": {},
   "source": [
    "<br>\n",
    "\n",
    "<p style=\"font-size: 1.25em\">I could point to its broad adoption as a programming language...</p>\n",
    "\n",
    "<center><img src=\"img/pypl-2019.png\" width=\"75%\"></center>\n",
    "\n",
    "<br>"
   ]
  },
  {
   "cell_type": "markdown",
   "metadata": {},
   "source": [
    "<br>\n",
    "\n",
    "<p style=\"font-size: 1.25em\">But it is more relevant to point to its use in data analysis.</p>\n",
    "\n",
    "<center><img src=\"img/python-r-cpp-googletrends-dataset.png\" width=\"75%\"></center>\n",
    "\n",
    "<br>\n",
    "\n",
    "<center><img src=\"img/python-r-cpp-googletrends-machinelearning.png\" width=\"75%\"></center>\n",
    "\n",
    "<br>"
   ]
  },
  {
   "cell_type": "markdown",
   "metadata": {},
   "source": [
    "<br>\n",
    "\n",
    "<p style=\"font-size: 1.25em\">It's hard to overstate the scale of these communities.</p>\n",
    "\n",
    "<center><img src=\"img/root-spark-pandas-google-trends.png\" width=\"75%\"></center>\n",
    "\n",
    "<br>\n",
    "\n",
    "<p style=\"font-size: 1.1em\">There is value in adopting popular tools: every question/error message is googlable...</p>\n",
    "\n",
    "<br>"
   ]
  },
  {
   "cell_type": "markdown",
   "metadata": {},
   "source": [
    "<p style=\"font-size: 1.25em\">Python is widespread in astronomy: LIGO analysis publicly shared in Jupyter...</p>\n",
    "\n",
    "<table width=\"100%\"><tr style=\"background: white\"><td><img src=\"img/mentions-of-programming-languages.png\" width=\"100%\"></td><td><img src=\"img/ligo-notebook.png\" width=\"100%\"></td></tr></table>"
   ]
  },
  {
   "cell_type": "markdown",
   "metadata": {},
   "source": [
    "<p style=\"font-size: 1.25em\">And it is the language of choice for some—but not all—LHC experiments.</p>\n",
    "\n",
    "<center><img src=\"img/github-cmssw-lin.png\" width=\"70%\"></center>\n",
    "\n",
    "<center><img src=\"img/github-alice-lin.png\" width=\"70%\"></center>\n",
    "\n",
    "<p style=\"font-size: 1.25em\">(Can't measure ATLAS and LHCb because of private repos on GitLab.)</p>"
   ]
  },
  {
   "cell_type": "markdown",
   "metadata": {},
   "source": [
    "<br>\n",
    "\n",
    "<img src=\"img/commute-by-plane.png\" width=\"65%\"> _(Stolen from Jake Vanderplas.)_\n",
    "\n",
    "<br>"
   ]
  },
  {
   "cell_type": "markdown",
   "metadata": {},
   "source": [
    "<br><br>\n",
    "\n",
    "<p style=\"font-size: 1.25em; font-weight: bold\">Drive to the airport, then take a plane:</p>\n",
    "\n",
    "   * Not everything needs to be fast, only the part that scales with the number of events (or other large number, like number of histogram bins or MC toys). Most analysis code is bookkeeping.\n",
    "   * Need to step up from interactive tinkering to full-scale analysis __*in small steps*__. Rewriting (and debugging) for speed considered harmful.\n",
    "\n",
    "<br><br>"
   ]
  },
  {
   "cell_type": "code",
   "execution_count": 1,
   "metadata": {},
   "outputs": [
    {
     "name": "stdout",
     "output_type": "stream",
     "text": [
      "11524.2138504982 ns per pixel\n"
     ]
    }
   ],
   "source": [
    "# Example: code to compute a fractal (calendar/mousepad/T-shirt...).\n",
    "import time, numpy\n",
    "\n",
    "def run_python(height, width, maxiterations=20):\n",
    "    y, x = numpy.ogrid[-1:0:height*1j, -1.5:0:width*1j]\n",
    "    c = x + y*1j\n",
    "    fractal = numpy.full(c.shape, maxiterations, dtype=numpy.int32)\n",
    "    for h in range(height):\n",
    "        for w in range(width):               # for each pixel (h, w)...\n",
    "            z = c[h, w]\n",
    "            for i in range(maxiterations):   # iterate at most 20 times\n",
    "                z = z**2 + c[h, w]           # applying z → z² + c\n",
    "                if abs(z) > 2:               # if it diverges (|z| > 2)\n",
    "                    fractal[h, w] = i        # color with the iteration number\n",
    "                    break                    # we're done, no need to keep iterating\n",
    "    return fractal\n",
    "\n",
    "starttime = time.time()\n",
    "fractal = run_python(800, 1200)\n",
    "print(\"{0} ns per pixel\".format(1e9 * (time.time() - starttime) / (800 * 1200)))"
   ]
  },
  {
   "cell_type": "code",
   "execution_count": 2,
   "metadata": {},
   "outputs": [
    {
     "data": {
      "image/png": "[encoded data removed]",
      "text/plain": [
       "<Figure size 720x360 with 1 Axes>"
      ]
     },
     "metadata": {
      "needs_background": "light"
     },
     "output_type": "display_data"
    }
   ],
   "source": [
    "# Pretty, isn't it?\n",
    "\n",
    "%matplotlib inline\n",
    "import matplotlib.pyplot\n",
    "fig, ax = matplotlib.pyplot.subplots(figsize=(10, 5)); ax.imshow(fractal);"
   ]
  },
  {
   "cell_type": "code",
   "execution_count": 3,
   "metadata": {},
   "outputs": [],
   "source": [
    "# REMINDER: the original code...\n",
    "\n",
    "\n",
    "def run_python(height, width, maxiterations=20):\n",
    "    y, x = numpy.ogrid[-1:0:height*1j, -1.5:0:width*1j]\n",
    "    c = x + y*1j\n",
    "    fractal = numpy.full(c.shape, maxiterations, dtype=numpy.int32)\n",
    "\n",
    "\n",
    "\n",
    "    for h in range(height):\n",
    "        for w in range(width):               # for each pixel (h, w)...\n",
    "            z = c[h, w]\n",
    "            for i in range(maxiterations):   # iterate at most 20 times\n",
    "                z = z**2 + c[h, w]           # applying z → z² + c\n",
    "                if abs(z) > 2:               # if it diverges (|z| > 2)\n",
    "                    fractal[h, w] = i        # color with the iteration number\n",
    "                    break                    # we're done, no need to keep iterating\n",
    "    return fractal\n",
    "\n",
    "\n",
    "\n"
   ]
  },
  {
   "cell_type": "code",
   "execution_count": 4,
   "metadata": {},
   "outputs": [
    {
     "name": "stdout",
     "output_type": "stream",
     "text": [
      "125.85092335939407 ns per pixel\n"
     ]
    }
   ],
   "source": [
    "# 100× faster...\n",
    "import numba\n",
    "\n",
    "def run_numba(height, width, maxiterations=20):\n",
    "    y, x = numpy.ogrid[-1:0:height*1j, -1.5:0:width*1j]\n",
    "    c = x + y*1j\n",
    "    fractal = numpy.full(c.shape, maxiterations, dtype=numpy.int32)\n",
    "    return tight_loop(height, width, maxiterations, c, fractal)\n",
    "@numba.jit\n",
    "def tight_loop(height, width, maxiterations, c, fractal):\n",
    "    for h in range(height):\n",
    "        for w in range(width):               # for each pixel (h, w)...\n",
    "            z = c[h, w]\n",
    "            for i in range(maxiterations):   # iterate at most 20 times\n",
    "                z = z**2 + c[h, w]           # applying z → z² + c\n",
    "                if abs(z) > 2:               # if it diverges (|z| > 2)\n",
    "                    fractal[h, w] = i        # color with the iteration number\n",
    "                    break                    # we're done, no need to keep iterating\n",
    "    return fractal\n",
    "\n",
    "starttime = time.time()\n",
    "fractal = run_numba(3200, 4800)\n",
    "print(\"{0} ns per pixel\".format(1e9 * (time.time() - starttime) / (3200 * 4800)))"
   ]
  },
  {
   "cell_type": "markdown",
   "metadata": {},
   "source": [
    "<br><br>\n",
    "\n",
    "<p style=\"font-size: 1.25em\">The \"catch\" is that code in the loop must be purely numerical: arrays and basic number types.</p>\n",
    "\n",
    "<br>\n",
    "\n",
    "<p style=\"font-size: 1.25em\">It is semantically equivalent to C code and the <tt>@numba.jit</tt> compiles it.</p>\n",
    "\n",
    "<br>\n",
    "\n",
    "<p style=\"font-size: 1.25em\">So... why not just write C code? If you developed your analysis in interactive Python, in a notebook or command prompt, it's easier (less buggy) to exorcise a few non-numerical structures than translate everything to C or C++.</p>\n",
    "\n",
    "<br>"
   ]
  },
  {
   "cell_type": "markdown",
   "metadata": {},
   "source": [
    "<br><br>\n",
    "\n",
    "<p style=\"font-size: 1.25em\"><b>Drive/bike/skateboard on your daily commute:</b> do exploration and problem-solving in Python because it has simple data structures, doesn't seg-fault, and dumps stack traces...</p>\n",
    "\n",
    "<br>\n",
    "\n",
    "<p style=\"font-size: 1.25em\"><b>Fly to Europe:</b> hyper-optimize the loop that scales with big numbers so that you can finish analyzing your 100 TB this year...</p>\n",
    "\n",
    "<br>\n",
    "\n",
    "<p style=\"font-size: 1.25em; text-align: right; margin-right: 10%\">... by replacing critical code <i><b>in small steps</b></i>.</p>"
   ]
  },
  {
   "cell_type": "markdown",
   "metadata": {},
   "source": [
    "<p style=\"font-size: 1.25em\">Rewriting the loop in C++ is <i>not</i> the easiest/best way to speed it up. (See <a href=\"misc-fractal.ipynb\">misc-fractal.ipynb</a>.)</p>\n",
    "\n",
    "| Method                                     | time (ns/px) | speedup |\n",
    "|:-------------------------------------------|-------------:|--------:|\n",
    "| Pure Python                                        | 12000   |    1× |\n",
    "| Vectorized Numpy                                   |   368   |   30× |\n",
    "| Vectorized CuPy (run on GPU)                       |    81   |  150× |\n",
    "| Compiled by Numba                                  |   136   |   90× |\n",
    "| Compiled & parallelized by Numba                   |    45   |  250× |\n",
    "| Compiled & run on GPU by Numba                     |     7.8 | 1500× |\n",
    "| Parallelized by Dask                               |   238   |   50× |\n",
    "| Parallelized by Dask, compiled by Numba            |    48   |  250× |\n",
    "| Partially rewritten in Cython (Python/C++ hybrid)  |  1485   |    8× |\n",
    "| Completely rewritten in Cython (pure C++)          |    99   |  120× |\n",
    "| Completely rewritten in pybind11 (pure C++)        |    98   |  120× |\n",
    "| Completely rewritten in ROOT (pure C++ with `-O0`) |   379   |   32× |"
   ]
  },
  {
   "cell_type": "markdown",
   "metadata": {},
   "source": [
    "<br>\n",
    "\n",
    "<center><img src=\"img/numpy-logo.png\" width=\"35%\"></center>\n",
    "\n",
    "<br>\n",
    "\n",
    "<p style=\"font-size: 1.25em\">Numpy is the common (in-memory) data format for scientific Python.</p>\n",
    "\n",
    "<br>\n",
    "\n",
    "<p style=\"font-size: 1.25em\">Nearly every package can input/output data as Numpy arrays.</p>\n",
    "\n",
    "<br>\n",
    "\n",
    "<p style=\"font-size: 1.25em\">Numpy also has a suite of functions for doing calculations a whole array at a time: vectorized in the sense of a <b>S</b>ingle (Python) <b>I</b>nstruction on <b>M</b>ultiple <b>D</b>ata.</p>"
   ]
  },
  {
   "cell_type": "code",
   "execution_count": 64,
   "metadata": {},
   "outputs": [
    {
     "name": "stdout",
     "output_type": "stream",
     "text": [
      "Names of arrays in this dict:\n",
      "\n",
      "['Type', 'Run', 'Event', 'E1', 'px1', 'py1', 'pz1', 'pt1', 'eta1', 'phi1', 'Q1', 'E2', 'px2', 'py2', 'pz2', 'pt2', 'eta2', 'phi2', 'Q2', 'M'] \n",
      "\n",
      "\n",
      "\n"
     ]
    },
    {
     "data": {
      "text/plain": [
       "{'Type': <ObjectArray [b'GT' b'TT' b'GT' ... b'TT' b'GT' b'GG'] at 0x7f658b4dd630>,\n",
       " 'Run': array([148031, 148031, 148031, ..., 148029, 148029, 148029], dtype=int32),\n",
       " 'Event': array([10507008, 10507008, 10507008, ..., 99991333, 99991333, 99991333],\n",
       "       dtype=int32),\n",
       " 'E1': array([82.20186639, 62.34492895, 62.34492895, ..., 81.27013558,\n",
       "        81.27013558, 81.56621735]),\n",
       " 'px1': array([-41.19528764,  35.11804977,  35.11804977, ...,  32.37749196,\n",
       "         32.37749196,  32.48539387]),\n",
       " 'py1': array([ 17.4332439 , -16.57036233, -16.57036233, ...,   1.19940578,\n",
       "          1.19940578,   1.2013503 ]),\n",
       " 'pz1': array([-68.96496181, -48.77524654, -48.77524654, ..., -74.53243061,\n",
       "        -74.53243061, -74.80837247]),\n",
       " 'pt1': array([44.7322, 38.8311, 38.8311, ..., 32.3997, 32.3997, 32.3997]),\n",
       " 'eta1': array([-1.21769, -1.05139, -1.05139, ..., -1.57044, -1.57044, -1.57044]),\n",
       " 'phi1': array([ 2.74126  , -0.440873 , -0.440873 , ...,  0.0370275,  0.0370275,\n",
       "         0.0370275]),\n",
       " 'Q1': array([ 1, -1, -1, ...,  1,  1,  1], dtype=int32),\n",
       " 'E2': array([ 60.62187459,  82.20186639,  81.58277833, ..., 168.78012134,\n",
       "        170.58313243, 170.58313243]),\n",
       " 'px2': array([ 34.14443725, -41.19528764, -40.88332344, ..., -68.04191497,\n",
       "        -68.79413604, -68.79413604]),\n",
       " 'py2': array([-16.11952457,  17.4332439 ,  17.29929704, ..., -26.10584737,\n",
       "        -26.39840043, -26.39840043]),\n",
       " 'pz2': array([ -47.42698439,  -68.96496181,  -68.44725519, ..., -152.2350181 ,\n",
       "        -153.84760383, -153.84760383]),\n",
       " 'pt2': array([38.8311, 44.7322, 44.7322, ..., 72.8781, 72.8781, 72.8781]),\n",
       " 'eta2': array([-1.05139, -1.21769, -1.21769, ..., -1.4827 , -1.4827 , -1.4827 ]),\n",
       " 'phi2': array([-0.440873,  2.74126 ,  2.74126 , ..., -2.77524 , -2.77524 ,\n",
       "        -2.77524 ]),\n",
       " 'Q2': array([-1,  1,  1, ..., -1, -1, -1], dtype=int32),\n",
       " 'M': array([82.46269156, 83.62620401, 83.30846467, ..., 95.96547966,\n",
       "        96.49594381, 96.65672765])}"
      ]
     },
     "execution_count": 64,
     "metadata": {},
     "output_type": "execute_result"
    }
   ],
   "source": [
    "# Numpy arrays of physics data:\n",
    "import uproot\n",
    "arrays = uproot.open(\"data/Zmumu.root\")[\"events\"].arrays(namedecode=\"utf-8\")\n",
    "\n",
    "print(\"Names of arrays in this dict:\\n\")\n",
    "print(list(arrays), \"\\n\\n\\n\")\n",
    "\n",
    "arrays"
   ]
  },
  {
   "cell_type": "code",
   "execution_count": 65,
   "metadata": {},
   "outputs": [
    {
     "data": {
      "text/plain": [
       "array([82.20186639, 62.34492895, 62.34492895, ..., 81.27013558,\n",
       "       81.27013558, 81.56621735])"
      ]
     },
     "execution_count": 65,
     "metadata": {},
     "output_type": "execute_result"
    }
   ],
   "source": [
    "# Take arrays out of the dict and make each one a variable.\n",
    "for n in arrays:\n",
    "    exec(f\"{n} = arrays['{n}']\")\n",
    "\n",
    "# Example array: energy of first muon in each event\n",
    "E1"
   ]
  },
  {
   "cell_type": "code",
   "execution_count": 7,
   "metadata": {},
   "outputs": [
    {
     "data": {
      "text/plain": [
       "array([ 7.17219282,  6.13819068,  5.81117254, ..., 43.50036668,\n",
       "       44.28500082, 44.19520441])"
      ]
     },
     "execution_count": 7,
     "metadata": {},
     "output_type": "execute_result"
    }
   ],
   "source": [
    "# Compute pT of all muon pairs:\n",
    "\n",
    "import numpy\n",
    "\n",
    "pt = numpy.sqrt((px1 + px2)**2 + (py1 + py2)**2)\n",
    "pt"
   ]
  },
  {
   "cell_type": "code",
   "execution_count": 8,
   "metadata": {},
   "outputs": [
    {
     "data": {
      "image/png": "[encoded data removed]",
      "text/plain": [
       "<Figure size 432x288 with 1 Axes>"
      ]
     },
     "metadata": {
      "needs_background": "light"
     },
     "output_type": "display_data"
    }
   ],
   "source": [
    "# And __LOOK__:\n",
    "\n",
    "matplotlib.pyplot.hist(pt, bins=100, range=(0, 200));"
   ]
  },
  {
   "cell_type": "code",
   "execution_count": 9,
   "metadata": {},
   "outputs": [
    {
     "data": {
      "text/plain": [
       "array([116.61271581, 117.90010197, 117.36645448, ..., 230.90205217,\n",
       "       232.63405045, 232.88789491])"
      ]
     },
     "execution_count": 9,
     "metadata": {},
     "output_type": "execute_result"
    }
   ],
   "source": [
    "# Compute p of all muon pairs:\n",
    "\n",
    "p = numpy.sqrt(pt**2 + (pz1 + pz2)**2)\n",
    "p"
   ]
  },
  {
   "cell_type": "code",
   "execution_count": 10,
   "metadata": {},
   "outputs": [
    {
     "data": {
      "image/png": "[encoded data removed]",
      "text/plain": [
       "<Figure size 432x288 with 1 Axes>"
      ]
     },
     "metadata": {
      "needs_background": "light"
     },
     "output_type": "display_data"
    }
   ],
   "source": [
    "# And __LOOK__:\n",
    "\n",
    "matplotlib.pyplot.hist(p, bins=100, range=(0, 500));"
   ]
  },
  {
   "cell_type": "code",
   "execution_count": 11,
   "metadata": {},
   "outputs": [
    {
     "data": {
      "text/plain": [
       "array([82.46269156, 83.62620401, 83.30846467, ..., 95.96547966,\n",
       "       96.49594382, 96.65672765])"
      ]
     },
     "execution_count": 11,
     "metadata": {},
     "output_type": "execute_result"
    }
   ],
   "source": [
    "# Compute mass of all muon pairs:\n",
    "\n",
    "mass = numpy.sqrt((E1 + E2)**2 - p**2)\n",
    "mass"
   ]
  },
  {
   "cell_type": "code",
   "execution_count": 12,
   "metadata": {},
   "outputs": [
    {
     "data": {
      "image/png": "[encoded data removed]",
      "text/plain": [
       "<Figure size 432x288 with 1 Axes>"
      ]
     },
     "metadata": {
      "needs_background": "light"
     },
     "output_type": "display_data"
    }
   ],
   "source": [
    "# And __LOOK__:\n",
    "\n",
    "matplotlib.pyplot.hist(mass, bins=100, range=(0, 120));"
   ]
  },
  {
   "cell_type": "code",
   "execution_count": 13,
   "metadata": {},
   "outputs": [
    {
     "data": {
      "image/png": "[encoded data removed]",
      "text/plain": [
       "<Figure size 432x288 with 1 Axes>"
      ]
     },
     "metadata": {
      "needs_background": "light"
     },
     "output_type": "display_data"
    }
   ],
   "source": [
    "# Start adding cuts, exploring different regions, etc.\n",
    "\n",
    "matplotlib.pyplot.hist(mass[Q1 != Q2], bins=100, range=(0, 120));\n",
    "matplotlib.pyplot.hist(mass[Q1 == Q2], bins=100, range=(0, 120));"
   ]
  },
  {
   "cell_type": "markdown",
   "metadata": {},
   "source": [
    "<br><br>\n",
    "\n",
    "<p style=\"font-size: 1.25em\">This is the point: you calculate <i>one thing</i> and then you <i>LOOK</i> at the result.</p>\n",
    "\n",
    "<br>\n",
    "\n",
    "<p style=\"font-size: 1.25em\">Array-at-a-time logic gives you a statistical view of each <i>step</i> in your calculation as you develop it.</p>"
   ]
  },
  {
   "cell_type": "code",
   "execution_count": 14,
   "metadata": {},
   "outputs": [
    {
     "name": "stdout",
     "output_type": "stream",
     "text": [
      "Welcome to JupyROOT 6.18/00\n"
     ]
    },
    {
     "data": {
      "image/png": "[encoded data removed]",
      "text/plain": [
       "<IPython.core.display.Image object>"
      ]
     },
     "metadata": {},
     "output_type": "display_data"
    }
   ],
   "source": [
    "# As physicists, we know this...\n",
    "\n",
    "import ROOT\n",
    "canvas = ROOT.TCanvas(\"canvas\", \"\", 400, 300)\n",
    "file = ROOT.TFile(\"data/Zmumu.root\")\n",
    "tree = file.Get(\"events\")\n",
    "tree.Draw(\"sqrt((E1 + E2)**2 - (px1 + px2)**2 - (py1 + py2)**2 - (pz1 + pz2)**2)\")\n",
    "canvas.Draw()"
   ]
  },
  {
   "cell_type": "markdown",
   "metadata": {},
   "source": [
    "<br><br><br>\n",
    "\n",
    "<p style=\"font-size: 1.25em\">The hard part is turning those <tt>TTree::Draw</tt> expressions into a full analysis.</p>\n",
    "\n",
    "<br>\n",
    "\n",
    "<p style=\"font-size: 1.25em\">How many of you have started with <tt>TTree::Draw</tt> and had to rewrite everything as a C++ loop?</p>\n",
    "\n",
    "<br>\n",
    "\n",
    "<p style=\"font-size: 1.25em\">The idea of using Python in for science is to do initial exploration and then scale up \"enough\" in a single environment.</p>\n",
    "\n",
    "<br><br><br>"
   ]
  },
  {
   "cell_type": "markdown",
   "metadata": {},
   "source": [
    "<br><br><br><br><br>\n",
    "\n",
    "### Part 2: There's an app for that\n",
    "\n",
    "<br><br><br><br><br>"
   ]
  },
  {
   "cell_type": "markdown",
   "metadata": {},
   "source": [
    "<img src=\"img/shells-1.png\" width=\"70%\"><i>(Stolen from Jake Vanderplas.)</i>"
   ]
  },
  {
   "cell_type": "markdown",
   "metadata": {},
   "source": [
    "<img src=\"img/shells-2.png\" width=\"70%\"><i>(Stolen from Jake Vanderplas.)</i>"
   ]
  },
  {
   "cell_type": "markdown",
   "metadata": {},
   "source": [
    "<img src=\"img/shells-3.png\" width=\"70%\"><i>(Stolen from Jake Vanderplas.)</i>"
   ]
  },
  {
   "cell_type": "markdown",
   "metadata": {},
   "source": [
    "<img src=\"img/shells-4.png\" width=\"70%\"><i>(Stolen from Jake Vanderplas.)</i>"
   ]
  },
  {
   "cell_type": "markdown",
   "metadata": {},
   "source": [
    "<img src=\"img/shells-5.png\" width=\"70%\"><i>(Stolen from Jake Vanderplas.)</i>"
   ]
  },
  {
   "cell_type": "markdown",
   "metadata": {},
   "source": [
    "<br><br>\n",
    "\n",
    "<p style=\"font-size: 1.25em\">Much of what we do, as physicists, are not new problems. You can learn a lot by attempting to write an algorithm yourself, but eventually you'll want to plug together functions from established libraries (that you understand!).</p>\n",
    "\n",
    "<br>\n",
    "\n",
    "<p style=\"font-size: 1.25em\"><b>Wikipedia</b> (to learn the names of things) + <b>StackOverflow</b> (to find common solutions) is a good way to develop analysis code.</p>\n",
    "\n",
    "<br>\n",
    "\n",
    "<p style=\"font-size: 1.25em\">Most of these solutions come in Numpy-shaped pieces.</p>\n",
    "\n",
    "<br><br>"
   ]
  },
  {
   "cell_type": "markdown",
   "metadata": {},
   "source": [
    "<br><br>\n",
    "\n",
    "<p style=\"font-size: 100px\"><img src=\"img/scipy-logo.png\" width=\"45%\" style=\"vertical-align: middle\"> = <img src=\"img/numerical-recipes.jpg\" width=\"25%\" style=\"vertical-align: middle\"></p>\n",
    "\n",
    "<br><br>"
   ]
  },
  {
   "cell_type": "markdown",
   "metadata": {},
   "source": [
    "<br>\n",
    "\n",
    "<p style=\"font-size: 1.25em\">SciPy was originally the \"all in one\" scientific package, but today, much of the development is outside of SciPy.</p>\n",
    "\n",
    "| Date | Development |\n",
    "|:----:|:-----|\n",
    "| 1994 | **Python** 1.0 released. |\n",
    "| 1995 | **Numeric** was the first array package (a.k.a. Numerical, Numerical Python, Numpy). |\n",
    "| 2001 | **SciPy** gathered scientific functions into one codebase, including **Numeric**. |\n",
    "| 2003 | **Matplotlib** released (at that time, one of many plotters... R.I.P. **Biggles**). |\n",
    "| 2003 | **Numarray** introduced as a competitor to **Numeric** with more features (memory-mapped files, alignment, record arrays). |\n",
    "| 2005 | **Numpy** unified features of **Numeric** and **Numarray** and became the common array library. |\n",
    "| 2008 | **Pandas** first released. |\n",
    "| 2010 | **Scikit-Learn** first released. |\n",
    "| 2011 | **AstroPy** first released. |\n",
    "| 2012 | **Anaconda** first released. |\n",
    "| 2014 | **Jupyter** first released. |\n",
    "| 2015 | **Keras** first released. |"
   ]
  },
  {
   "cell_type": "markdown",
   "metadata": {},
   "source": [
    "<center><img src=\"img/scipy-docs.png\" width=\"60%\"></center>"
   ]
  },
  {
   "cell_type": "code",
   "execution_count": 19,
   "metadata": {},
   "outputs": [
    {
     "data": {
      "text/plain": [
       "\u001b[0;31mType:\u001b[0m        module\n",
       "\u001b[0;31mString form:\u001b[0m <module 'scipy.stats' from '/home/pivarski/miniconda3/lib/python3.7/site-packages/scipy/stats/__init__.py'>\n",
       "\u001b[0;31mFile:\u001b[0m        ~/miniconda3/lib/python3.7/site-packages/scipy/stats/__init__.py\n",
       "\u001b[0;31mDocstring:\u001b[0m  \n",
       "==========================================\n",
       "Statistical functions (:mod:`scipy.stats`)\n",
       "==========================================\n",
       "\n",
       ".. currentmodule:: scipy.stats\n",
       "\n",
       "This module contains a large number of probability distributions as\n",
       "well as a growing library of statistical functions.\n",
       "\n",
       "Each univariate distribution is an instance of a subclass of `rv_continuous`\n",
       "(`rv_discrete` for discrete distributions):\n",
       "\n",
       ".. autosummary::\n",
       "   :toctree: generated/\n",
       "\n",
       "   rv_continuous\n",
       "   rv_discrete\n",
       "   rv_histogram\n",
       "\n",
       "Continuous distributions\n",
       "========================\n",
       "\n",
       ".. autosummary::\n",
       "   :toctree: generated/\n",
       "\n",
       "   alpha             -- Alpha\n",
       "   anglit            -- Anglit\n",
       "   arcsine           -- Arcsine\n",
       "   argus             -- Argus\n",
       "   beta              -- Beta\n",
       "   betaprime         -- Beta Prime\n",
       "   bradford          -- Bradford\n",
       "   burr              -- Burr (Type III)\n",
       "   burr12            -- Burr (Type XII)\n",
       "   cauchy            -- Cauchy\n",
       "   chi               -- Chi\n",
       "   chi2              -- Chi-squared\n",
       "   cosine            -- Cosine\n",
       "   crystalball       -- Crystalball\n",
       "   dgamma            -- Double Gamma\n",
       "   dweibull          -- Double Weibull\n",
       "   erlang            -- Erlang\n",
       "   expon             -- Exponential\n",
       "   exponnorm         -- Exponentially Modified Normal\n",
       "   exponweib         -- Exponentiated Weibull\n",
       "   exponpow          -- Exponential Power\n",
       "   f                 -- F (Snecdor F)\n",
       "   fatiguelife       -- Fatigue Life (Birnbaum-Saunders)\n",
       "   fisk              -- Fisk\n",
       "   foldcauchy        -- Folded Cauchy\n",
       "   foldnorm          -- Folded Normal\n",
       "   frechet_r         -- Deprecated. Alias for weibull_min\n",
       "   frechet_l         -- Deprecated. Alias for weibull_max\n",
       "   genlogistic       -- Generalized Logistic\n",
       "   gennorm           -- Generalized normal\n",
       "   genpareto         -- Generalized Pareto\n",
       "   genexpon          -- Generalized Exponential\n",
       "   genextreme        -- Generalized Extreme Value\n",
       "   gausshyper        -- Gauss Hypergeometric\n",
       "   gamma             -- Gamma\n",
       "   gengamma          -- Generalized gamma\n",
       "   genhalflogistic   -- Generalized Half Logistic\n",
       "   gilbrat           -- Gilbrat\n",
       "   gompertz          -- Gompertz (Truncated Gumbel)\n",
       "   gumbel_r          -- Right Sided Gumbel, Log-Weibull, Fisher-Tippett, Extreme Value Type I\n",
       "   gumbel_l          -- Left Sided Gumbel, etc.\n",
       "   halfcauchy        -- Half Cauchy\n",
       "   halflogistic      -- Half Logistic\n",
       "   halfnorm          -- Half Normal\n",
       "   halfgennorm       -- Generalized Half Normal\n",
       "   hypsecant         -- Hyperbolic Secant\n",
       "   invgamma          -- Inverse Gamma\n",
       "   invgauss          -- Inverse Gaussian\n",
       "   invweibull        -- Inverse Weibull\n",
       "   johnsonsb         -- Johnson SB\n",
       "   johnsonsu         -- Johnson SU\n",
       "   kappa4            -- Kappa 4 parameter\n",
       "   kappa3            -- Kappa 3 parameter\n",
       "   ksone             -- Kolmogorov-Smirnov one-sided (no stats)\n",
       "   kstwobign         -- Kolmogorov-Smirnov two-sided test for Large N (no stats)\n",
       "   laplace           -- Laplace\n",
       "   levy              -- Levy\n",
       "   levy_l\n",
       "   levy_stable\n",
       "   logistic          -- Logistic\n",
       "   loggamma          -- Log-Gamma\n",
       "   loglaplace        -- Log-Laplace (Log Double Exponential)\n",
       "   lognorm           -- Log-Normal\n",
       "   lomax             -- Lomax (Pareto of the second kind)\n",
       "   maxwell           -- Maxwell\n",
       "   mielke            -- Mielke's Beta-Kappa\n",
       "   moyal             -- Moyal\n",
       "   nakagami          -- Nakagami\n",
       "   ncx2              -- Non-central chi-squared\n",
       "   ncf               -- Non-central F\n",
       "   nct               -- Non-central Student's T\n",
       "   norm              -- Normal (Gaussian)\n",
       "   norminvgauss      -- Normal Inverse Gaussian\n",
       "   pareto            -- Pareto\n",
       "   pearson3          -- Pearson type III\n",
       "   powerlaw          -- Power-function\n",
       "   powerlognorm      -- Power log normal\n",
       "   powernorm         -- Power normal\n",
       "   rdist             -- R-distribution\n",
       "   reciprocal        -- Reciprocal\n",
       "   rayleigh          -- Rayleigh\n",
       "   rice              -- Rice\n",
       "   recipinvgauss     -- Reciprocal Inverse Gaussian\n",
       "   semicircular      -- Semicircular\n",
       "   skewnorm          -- Skew normal\n",
       "   t                 -- Student's T\n",
       "   trapz              -- Trapezoidal\n",
       "   triang            -- Triangular\n",
       "   truncexpon        -- Truncated Exponential\n",
       "   truncnorm         -- Truncated Normal\n",
       "   tukeylambda       -- Tukey-Lambda\n",
       "   uniform           -- Uniform\n",
       "   vonmises          -- Von-Mises (Circular)\n",
       "   vonmises_line     -- Von-Mises (Line)\n",
       "   wald              -- Wald\n",
       "   weibull_min       -- Minimum Weibull (see Frechet)\n",
       "   weibull_max       -- Maximum Weibull (see Frechet)\n",
       "   wrapcauchy        -- Wrapped Cauchy\n",
       "\n",
       "Multivariate distributions\n",
       "==========================\n",
       "\n",
       ".. autosummary::\n",
       "   :toctree: generated/\n",
       "\n",
       "   multivariate_normal   -- Multivariate normal distribution\n",
       "   matrix_normal         -- Matrix normal distribution\n",
       "   dirichlet             -- Dirichlet\n",
       "   wishart               -- Wishart\n",
       "   invwishart            -- Inverse Wishart\n",
       "   multinomial           -- Multinomial distribution\n",
       "   special_ortho_group   -- SO(N) group\n",
       "   ortho_group           -- O(N) group\n",
       "   unitary_group         -- U(N) group\n",
       "   random_correlation    -- random correlation matrices\n",
       "\n",
       "Discrete distributions\n",
       "======================\n",
       "\n",
       ".. autosummary::\n",
       "   :toctree: generated/\n",
       "\n",
       "   bernoulli         -- Bernoulli\n",
       "   binom             -- Binomial\n",
       "   boltzmann         -- Boltzmann (Truncated Discrete Exponential)\n",
       "   dlaplace          -- Discrete Laplacian\n",
       "   geom              -- Geometric\n",
       "   hypergeom         -- Hypergeometric\n",
       "   logser            -- Logarithmic (Log-Series, Series)\n",
       "   nbinom            -- Negative Binomial\n",
       "   planck            -- Planck (Discrete Exponential)\n",
       "   poisson           -- Poisson\n",
       "   randint           -- Discrete Uniform\n",
       "   skellam           -- Skellam\n",
       "   zipf              -- Zipf\n",
       "   yulesimon         -- Yule-Simon\n",
       "\n",
       "An overview of statistical functions is given below.\n",
       "Several of these functions have a similar version in\n",
       "`scipy.stats.mstats` which work for masked arrays.\n",
       "\n",
       "Summary statistics\n",
       "==================\n",
       "\n",
       ".. autosummary::\n",
       "   :toctree: generated/\n",
       "\n",
       "   describe          -- Descriptive statistics\n",
       "   gmean             -- Geometric mean\n",
       "   hmean             -- Harmonic mean\n",
       "   kurtosis          -- Fisher or Pearson kurtosis\n",
       "   mode              -- Modal value\n",
       "   moment            -- Central moment\n",
       "   skew              -- Skewness\n",
       "   kstat             --\n",
       "   kstatvar          --\n",
       "   tmean             -- Truncated arithmetic mean\n",
       "   tvar              -- Truncated variance\n",
       "   tmin              --\n",
       "   tmax              --\n",
       "   tstd              --\n",
       "   tsem              --\n",
       "   variation         -- Coefficient of variation\n",
       "   find_repeats\n",
       "   trim_mean\n",
       "   gstd              -- Geometric Standard Deviation\n",
       "   iqr\n",
       "   sem\n",
       "   bayes_mvs\n",
       "   mvsdist\n",
       "   entropy\n",
       "   median_absolute_deviation\n",
       "\n",
       "Frequency statistics\n",
       "====================\n",
       "\n",
       ".. autosummary::\n",
       "   :toctree: generated/\n",
       "\n",
       "   cumfreq\n",
       "   itemfreq\n",
       "   percentileofscore\n",
       "   scoreatpercentile\n",
       "   relfreq\n",
       "\n",
       ".. autosummary::\n",
       "   :toctree: generated/\n",
       "\n",
       "   binned_statistic     -- Compute a binned statistic for a set of data.\n",
       "   binned_statistic_2d  -- Compute a 2-D binned statistic for a set of data.\n",
       "   binned_statistic_dd  -- Compute a d-D binned statistic for a set of data.\n",
       "\n",
       "Correlation functions\n",
       "=====================\n",
       "\n",
       ".. autosummary::\n",
       "   :toctree: generated/\n",
       "\n",
       "   f_oneway\n",
       "   pearsonr\n",
       "   spearmanr\n",
       "   pointbiserialr\n",
       "   kendalltau\n",
       "   weightedtau\n",
       "   linregress\n",
       "   siegelslopes\n",
       "   theilslopes\n",
       "\n",
       "Statistical tests\n",
       "=================\n",
       "\n",
       ".. autosummary::\n",
       "   :toctree: generated/\n",
       "\n",
       "   ttest_1samp\n",
       "   ttest_ind\n",
       "   ttest_ind_from_stats\n",
       "   ttest_rel\n",
       "   kstest\n",
       "   chisquare\n",
       "   power_divergence\n",
       "   ks_2samp\n",
       "   epps_singleton_2samp\n",
       "   mannwhitneyu\n",
       "   tiecorrect\n",
       "   rankdata\n",
       "   ranksums\n",
       "   wilcoxon\n",
       "   kruskal\n",
       "   friedmanchisquare\n",
       "   brunnermunzel\n",
       "   combine_pvalues\n",
       "   jarque_bera\n",
       "\n",
       ".. autosummary::\n",
       "   :toctree: generated/\n",
       "\n",
       "   ansari\n",
       "   bartlett\n",
       "   levene\n",
       "   shapiro\n",
       "   anderson\n",
       "   anderson_ksamp\n",
       "   binom_test\n",
       "   fligner\n",
       "   median_test\n",
       "   mood\n",
       "   skewtest\n",
       "   kurtosistest\n",
       "   normaltest\n",
       "\n",
       "Transformations\n",
       "===============\n",
       "\n",
       ".. autosummary::\n",
       "   :toctree: generated/\n",
       "\n",
       "   boxcox\n",
       "   boxcox_normmax\n",
       "   boxcox_llf\n",
       "   yeojohnson\n",
       "   yeojohnson_normmax\n",
       "   yeojohnson_llf\n",
       "   obrientransform\n",
       "   sigmaclip\n",
       "   trimboth\n",
       "   trim1\n",
       "   zmap\n",
       "   zscore\n",
       "\n",
       "Statistical distances\n",
       "=====================\n",
       "\n",
       ".. autosummary::\n",
       "   :toctree: generated/\n",
       "\n",
       "   wasserstein_distance\n",
       "   energy_distance\n",
       "\n",
       "Random variate generation\n",
       "=========================\n",
       "\n",
       ".. autosummary::\n",
       "   :toctree: generated/\n",
       "\n",
       "   rvs_ratio_uniforms\n",
       "\n",
       "Circular statistical functions\n",
       "==============================\n",
       "\n",
       ".. autosummary::\n",
       "   :toctree: generated/\n",
       "\n",
       "   circmean\n",
       "   circvar\n",
       "   circstd\n",
       "\n",
       "Contingency table functions\n",
       "===========================\n",
       "\n",
       ".. autosummary::\n",
       "   :toctree: generated/\n",
       "\n",
       "   chi2_contingency\n",
       "   contingency.expected_freq\n",
       "   contingency.margins\n",
       "   fisher_exact\n",
       "\n",
       "Plot-tests\n",
       "==========\n",
       "\n",
       ".. autosummary::\n",
       "   :toctree: generated/\n",
       "\n",
       "   ppcc_max\n",
       "   ppcc_plot\n",
       "   probplot\n",
       "   boxcox_normplot\n",
       "   yeojohnson_normplot\n",
       "\n",
       "\n",
       "Masked statistics functions\n",
       "===========================\n",
       "\n",
       ".. toctree::\n",
       "\n",
       "   stats.mstats\n",
       "\n",
       "\n",
       "Univariate and multivariate kernel density estimation\n",
       "=====================================================\n",
       "\n",
       ".. autosummary::\n",
       "   :toctree: generated/\n",
       "\n",
       "   gaussian_kde\n",
       "\n",
       "Warnings used in :mod:`scipy.stats`\n",
       "===================================\n",
       "\n",
       ".. autosummary::\n",
       "   :toctree: generated/\n",
       "\n",
       "   PearsonRConstantInputWarning\n",
       "   PearsonRNearConstantInputWarning\n",
       "\n",
       "For many more stat related functions install the software R and the\n",
       "interface package rpy.\n"
      ]
     },
     "metadata": {},
     "output_type": "display_data"
    }
   ],
   "source": [
    "import scipy.stats\n",
    "\n",
    "?scipy.stats"
   ]
  },
  {
   "cell_type": "code",
   "execution_count": 20,
   "metadata": {},
   "outputs": [
    {
     "data": {
      "text/plain": [
       "\u001b[0;31mSignature:\u001b[0m       \u001b[0mscipy\u001b[0m\u001b[0;34m.\u001b[0m\u001b[0mstats\u001b[0m\u001b[0;34m.\u001b[0m\u001b[0mcrystalball\u001b[0m\u001b[0;34m(\u001b[0m\u001b[0;34m*\u001b[0m\u001b[0margs\u001b[0m\u001b[0;34m,\u001b[0m \u001b[0;34m**\u001b[0m\u001b[0mkwds\u001b[0m\u001b[0;34m)\u001b[0m\u001b[0;34m\u001b[0m\u001b[0;34m\u001b[0m\u001b[0m\n",
       "\u001b[0;31mType:\u001b[0m            crystalball_gen\n",
       "\u001b[0;31mString form:\u001b[0m     <scipy.stats._continuous_distns.crystalball_gen object at 0x7f659b45a588>\n",
       "\u001b[0;31mFile:\u001b[0m            ~/miniconda3/lib/python3.7/site-packages/scipy/stats/_continuous_distns.py\n",
       "\u001b[0;31mDocstring:\u001b[0m      \n",
       "Crystalball distribution\n",
       "\n",
       "As an instance of the `rv_continuous` class, `crystalball` object inherits from it\n",
       "a collection of generic methods (see below for the full list),\n",
       "and completes them with details specific for this particular distribution.\n",
       "\n",
       "Methods\n",
       "-------\n",
       "rvs(beta, m, loc=0, scale=1, size=1, random_state=None)\n",
       "    Random variates.\n",
       "pdf(x, beta, m, loc=0, scale=1)\n",
       "    Probability density function.\n",
       "logpdf(x, beta, m, loc=0, scale=1)\n",
       "    Log of the probability density function.\n",
       "cdf(x, beta, m, loc=0, scale=1)\n",
       "    Cumulative distribution function.\n",
       "logcdf(x, beta, m, loc=0, scale=1)\n",
       "    Log of the cumulative distribution function.\n",
       "sf(x, beta, m, loc=0, scale=1)\n",
       "    Survival function  (also defined as ``1 - cdf``, but `sf` is sometimes more accurate).\n",
       "logsf(x, beta, m, loc=0, scale=1)\n",
       "    Log of the survival function.\n",
       "ppf(q, beta, m, loc=0, scale=1)\n",
       "    Percent point function (inverse of ``cdf`` --- percentiles).\n",
       "isf(q, beta, m, loc=0, scale=1)\n",
       "    Inverse survival function (inverse of ``sf``).\n",
       "moment(n, beta, m, loc=0, scale=1)\n",
       "    Non-central moment of order n\n",
       "stats(beta, m, loc=0, scale=1, moments='mv')\n",
       "    Mean('m'), variance('v'), skew('s'), and/or kurtosis('k').\n",
       "entropy(beta, m, loc=0, scale=1)\n",
       "    (Differential) entropy of the RV.\n",
       "fit(data, beta, m, loc=0, scale=1)\n",
       "    Parameter estimates for generic data.\n",
       "expect(func, args=(beta, m), loc=0, scale=1, lb=None, ub=None, conditional=False, **kwds)\n",
       "    Expected value of a function (of one argument) with respect to the distribution.\n",
       "median(beta, m, loc=0, scale=1)\n",
       "    Median of the distribution.\n",
       "mean(beta, m, loc=0, scale=1)\n",
       "    Mean of the distribution.\n",
       "var(beta, m, loc=0, scale=1)\n",
       "    Variance of the distribution.\n",
       "std(beta, m, loc=0, scale=1)\n",
       "    Standard deviation of the distribution.\n",
       "interval(alpha, beta, m, loc=0, scale=1)\n",
       "    Endpoints of the range that contains alpha percent of the distribution\n",
       "\n",
       "Notes\n",
       "-----\n",
       "The probability density function for `crystalball` is:\n",
       "\n",
       ".. math::\n",
       "\n",
       "    f(x, \\beta, m) =  \\begin{cases}\n",
       "                        N \\exp(-x^2 / 2),  &\\text{for } x > -\\beta\\\\\n",
       "                        N A (B - x)^{-m}  &\\text{for } x \\le -\\beta\n",
       "                      \\end{cases}\n",
       "\n",
       "where :math:`A = (m / |\\beta|)^n  \\exp(-\\beta^2 / 2)`,\n",
       ":math:`B = m/|\\beta| - |\\beta|` and :math:`N` is a normalisation constant.\n",
       "\n",
       "`crystalball` takes :math:`\\beta > 0` and :math:`m > 1` as shape\n",
       "parameters.  :math:`\\beta` defines the point where the pdf changes\n",
       "from a power-law to a Gaussian distribution.  :math:`m` is the power\n",
       "of the power-law tail.\n",
       "\n",
       "References\n",
       "----------\n",
       ".. [1] \"Crystal Ball Function\",\n",
       "       https://en.wikipedia.org/wiki/Crystal_Ball_function\n",
       "\n",
       "The probability density above is defined in the \"standardized\" form. To shift\n",
       "and/or scale the distribution use the ``loc`` and ``scale`` parameters.\n",
       "Specifically, ``crystalball.pdf(x, beta, m, loc, scale)`` is identically\n",
       "equivalent to ``crystalball.pdf(y, beta, m) / scale`` with\n",
       "``y = (x - loc) / scale``.\n",
       "\n",
       ".. versionadded:: 0.19.0\n",
       "\n",
       "Examples\n",
       "--------\n",
       ">>> from scipy.stats import crystalball\n",
       ">>> import matplotlib.pyplot as plt\n",
       ">>> fig, ax = plt.subplots(1, 1)\n",
       "\n",
       "Calculate a few first moments:\n",
       "\n",
       ">>> beta, m = 2, 3\n",
       ">>> mean, var, skew, kurt = crystalball.stats(beta, m, moments='mvsk')\n",
       "\n",
       "Display the probability density function (``pdf``):\n",
       "\n",
       ">>> x = np.linspace(crystalball.ppf(0.01, beta, m),\n",
       "...                 crystalball.ppf(0.99, beta, m), 100)\n",
       ">>> ax.plot(x, crystalball.pdf(x, beta, m),\n",
       "...        'r-', lw=5, alpha=0.6, label='crystalball pdf')\n",
       "\n",
       "Alternatively, the distribution object can be called (as a function)\n",
       "to fix the shape, location and scale parameters. This returns a \"frozen\"\n",
       "RV object holding the given parameters fixed.\n",
       "\n",
       "Freeze the distribution and display the frozen ``pdf``:\n",
       "\n",
       ">>> rv = crystalball(beta, m)\n",
       ">>> ax.plot(x, rv.pdf(x), 'k-', lw=2, label='frozen pdf')\n",
       "\n",
       "Check accuracy of ``cdf`` and ``ppf``:\n",
       "\n",
       ">>> vals = crystalball.ppf([0.001, 0.5, 0.999], beta, m)\n",
       ">>> np.allclose([0.001, 0.5, 0.999], crystalball.cdf(vals, beta, m))\n",
       "True\n",
       "\n",
       "Generate random numbers:\n",
       "\n",
       ">>> r = crystalball.rvs(beta, m, size=1000)\n",
       "\n",
       "And compare the histogram:\n",
       "\n",
       ">>> ax.hist(r, density=True, histtype='stepfilled', alpha=0.2)\n",
       ">>> ax.legend(loc='best', frameon=False)\n",
       ">>> plt.show()\n",
       "\u001b[0;31mClass docstring:\u001b[0m\n",
       "Crystalball distribution\n",
       "\n",
       "%(before_notes)s\n",
       "\n",
       "Notes\n",
       "-----\n",
       "The probability density function for `crystalball` is:\n",
       "\n",
       ".. math::\n",
       "\n",
       "    f(x, \\beta, m) =  \\begin{cases}\n",
       "                        N \\exp(-x^2 / 2),  &\\text{for } x > -\\beta\\\\\n",
       "                        N A (B - x)^{-m}  &\\text{for } x \\le -\\beta\n",
       "                      \\end{cases}\n",
       "\n",
       "where :math:`A = (m / |\\beta|)^n  \\exp(-\\beta^2 / 2)`,\n",
       ":math:`B = m/|\\beta| - |\\beta|` and :math:`N` is a normalisation constant.\n",
       "\n",
       "`crystalball` takes :math:`\\beta > 0` and :math:`m > 1` as shape\n",
       "parameters.  :math:`\\beta` defines the point where the pdf changes\n",
       "from a power-law to a Gaussian distribution.  :math:`m` is the power\n",
       "of the power-law tail.\n",
       "\n",
       "References\n",
       "----------\n",
       ".. [1] \"Crystal Ball Function\",\n",
       "       https://en.wikipedia.org/wiki/Crystal_Ball_function\n",
       "\n",
       "%(after_notes)s\n",
       "\n",
       ".. versionadded:: 0.19.0\n",
       "\n",
       "%(example)s\n",
       "\u001b[0;31mCall docstring:\u001b[0m \n",
       "Freeze the distribution for the given arguments.\n",
       "\n",
       "Parameters\n",
       "----------\n",
       "arg1, arg2, arg3,... : array_like\n",
       "    The shape parameter(s) for the distribution.  Should include all\n",
       "    the non-optional arguments, may include ``loc`` and ``scale``.\n",
       "\n",
       "Returns\n",
       "-------\n",
       "rv_frozen : rv_frozen instance\n",
       "    The frozen distribution.\n"
      ]
     },
     "metadata": {},
     "output_type": "display_data"
    }
   ],
   "source": [
    "?scipy.stats.crystalball"
   ]
  },
  {
   "cell_type": "code",
   "execution_count": 71,
   "metadata": {},
   "outputs": [
    {
     "data": {
      "image/png": "[encoded data removed]",
      "text/plain": [
       "<Figure size 432x288 with 1 Axes>"
      ]
     },
     "metadata": {
      "needs_background": "light"
     },
     "output_type": "display_data"
    }
   ],
   "source": [
    "x = numpy.linspace(-10, 10, 100)\n",
    "y = scipy.stats.crystalball.pdf(x, beta=0.5, m=3)     # logpdf, cdf\n",
    "\n",
    "matplotlib.pyplot.plot(x, y);"
   ]
  },
  {
   "cell_type": "code",
   "execution_count": 72,
   "metadata": {},
   "outputs": [
    {
     "data": {
      "text/plain": [
       "array([-6.26183568e-01, -6.79607901e+00, -1.41270317e+01, -7.15966403e-01,\n",
       "       -3.02380442e+00, -3.24727972e+00,  1.04613537e+00, -5.24554244e+00,\n",
       "       -1.15580178e+01, -3.64652699e-01,  2.29107489e-01,  8.80499146e-01,\n",
       "       -6.58121661e+00, -7.99001320e+00, -4.64511799e-01,  2.44654230e-01,\n",
       "       -4.92808718e+00,  1.12471063e+00, -3.30038822e+00, -1.13915912e+00,\n",
       "        1.87253674e-01,  5.21244264e-01, -8.28784508e-01, -3.90491206e-01,\n",
       "       -1.83004674e+01, -2.83115017e+00, -5.16444649e+00, -2.06866247e-01,\n",
       "       -1.26138564e+01, -2.13286932e+00, -1.45948652e+00, -7.35063061e+00,\n",
       "       -7.28397196e+00, -1.56447638e+01, -8.77637231e-01,  2.18161609e+00,\n",
       "       -4.61784135e+00, -5.85277185e+00, -7.18399857e-01, -4.59503578e-02,\n",
       "       -1.20782854e+00,  1.44322916e+00,  7.71725367e-01, -1.70136063e+00,\n",
       "        2.24613708e+00, -5.53753451e+00, -6.57810302e-01, -6.07217886e+00,\n",
       "       -1.09375846e+00, -1.13069466e+01, -4.54915581e+00, -1.44296404e+00,\n",
       "       -1.54787426e+00, -6.01992269e+00,  1.00362393e+00,  8.38450148e-01,\n",
       "       -2.72662444e+00, -9.25684310e+00,  4.58821743e-01, -1.59873847e+00,\n",
       "       -8.58434973e-01, -6.87267210e-01, -3.19841643e+00, -2.11154580e+00,\n",
       "       -1.63739802e+00, -7.74410451e-01, -1.33916340e+02, -1.00000401e+00,\n",
       "        1.98139502e-02, -3.69362931e+00, -1.50623802e+00,  8.55276644e-01,\n",
       "       -3.91510099e+00, -2.60056634e+00, -1.23200254e+01, -7.09619483e+00,\n",
       "        1.26375614e-01, -2.01678277e+00,  1.74017817e+00,  1.84637458e+00,\n",
       "       -1.48285280e+00, -4.98831688e+00,  5.34662012e-01, -1.05247925e+00,\n",
       "       -1.00619970e+00,  8.28213894e-01,  1.64334802e+00, -2.00293520e+01,\n",
       "       -8.93544093e+00, -9.27490648e-01,  7.68868982e-01, -8.58867420e+00,\n",
       "       -2.64987491e-01, -4.30297318e+00, -6.43195416e+00, -4.82246153e+00,\n",
       "       -8.15268501e+00, -1.71672874e+00, -1.56553317e+00,  6.78564395e-01,\n",
       "       -8.56199547e+00, -2.85830510e-01,  3.20052400e-01, -5.31701131e-01,\n",
       "       -3.66098400e+00, -3.97233466e+00, -1.32326929e+01, -1.94188622e+00,\n",
       "        1.73228948e+00,  8.77888250e-01, -3.95922264e+00, -2.39218850e-01,\n",
       "        3.13916014e-01,  2.69727927e-01, -8.56192902e+00, -5.59461899e+00,\n",
       "        1.67838089e+00,  1.04965700e+00, -6.81448459e-02, -7.57966777e-01,\n",
       "        2.20044127e-01, -4.86674811e-01, -9.47450094e-01,  9.66159867e-01,\n",
       "       -6.50588760e+00, -2.71865263e-01, -3.45863229e-01, -2.08940067e+01,\n",
       "       -5.40354552e+00,  1.05173646e+00, -1.29472536e+00, -1.31534548e+00,\n",
       "       -3.56105117e+00,  2.49506109e-02,  3.05751546e-01, -1.18316892e+02,\n",
       "       -6.54449560e+00, -1.34362445e-01, -9.14671689e-01, -3.65924152e+00,\n",
       "       -7.05860561e+00, -1.02956970e+01, -2.46266100e+00, -3.66258172e-01,\n",
       "       -1.31969893e+00, -7.57435587e+00,  2.62896646e-01,  6.10687511e-02,\n",
       "        6.18941862e-01, -3.61280811e+00, -1.53167353e+00,  2.72601381e+00,\n",
       "       -1.00292562e+01,  3.06548570e-01,  1.58589384e-01, -2.34835217e+00,\n",
       "       -8.59986850e+00, -8.49696490e+00,  1.95668029e-01, -4.99589288e+00,\n",
       "       -5.70121717e-01, -9.35216004e-01, -1.35888474e+00,  1.27492836e+00,\n",
       "       -7.85020043e+00,  4.88509075e-01,  8.58593844e-01, -1.99745608e+00,\n",
       "       -9.87602578e-01, -7.82645503e+00, -5.15791591e+00, -2.02381869e+00,\n",
       "       -4.19022098e-02,  2.01315713e-01, -2.23148650e+00, -1.38309864e+01,\n",
       "       -1.53521824e-01, -1.79996736e+00, -2.64358339e+00, -1.27491211e+01,\n",
       "       -1.14460802e-01, -2.92274105e+00, -3.01967379e+00,  2.53277100e+00,\n",
       "        3.91611822e-01, -3.49014350e+00,  1.86947428e-01,  3.88492420e-01,\n",
       "       -1.93781363e-01, -8.52308775e-01, -8.38332740e+00, -1.06980440e+00,\n",
       "        2.91854190e-01, -3.69970108e-01, -4.99491458e+01, -1.30907891e+01,\n",
       "       -5.32983512e+00, -4.67161134e+00,  4.18406309e-01, -1.17677625e+01])"
      ]
     },
     "execution_count": 72,
     "metadata": {},
     "output_type": "execute_result"
    }
   ],
   "source": [
    "scipy.stats.crystalball.rvs(beta=0.5, m=3, size=200)"
   ]
  },
  {
   "cell_type": "code",
   "execution_count": 74,
   "metadata": {},
   "outputs": [
    {
     "data": {
      "image/png": "[encoded data removed]",
      "text/plain": [
       "<Figure size 432x288 with 1 Axes>"
      ]
     },
     "metadata": {
      "needs_background": "light"
     },
     "output_type": "display_data"
    }
   ],
   "source": [
    "masses = uproot.open(\"data/Zmumu.root\")[\"events\"].array(\"M\")\n",
    "\n",
    "y, edges = numpy.histogram(masses, bins=100)\n",
    "yerr = numpy.sqrt(y)\n",
    "\n",
    "# the middle of each bin\n",
    "x = (edges[1:] + edges[:-1])/2\n",
    "\n",
    "matplotlib.pyplot.errorbar(x, y, yerr, fmt=\"o\", capsize=3);"
   ]
  },
  {
   "cell_type": "code",
   "execution_count": 75,
   "metadata": {},
   "outputs": [
    {
     "data": {
      "image/png": "[encoded data removed]",
      "text/plain": [
       "<Figure size 432x288 with 1 Axes>"
      ]
     },
     "metadata": {
      "needs_background": "light"
     },
     "output_type": "display_data"
    }
   ],
   "source": [
    "import scipy.optimize\n",
    "\n",
    "def f(x, a, b, c, d):\n",
    "    return a*scipy.stats.cauchy.pdf(x, b, c) + d/x**2\n",
    "\n",
    "parameters, errors = scipy.optimize.curve_fit(f, x[y > 0], y[y > 0], sigma=yerr[y > 0])\n",
    "\n",
    "matplotlib.pyplot.plot(x, f(x, *parameters))\n",
    "matplotlib.pyplot.errorbar(x, y, yerr, fmt=\"o\", capsize=3);"
   ]
  },
  {
   "cell_type": "markdown",
   "metadata": {},
   "source": [
    "<br><br><br><br><br>\n",
    "\n",
    "<p style=\"font-size: 1.25em\"><b>Five minute challenge:</b> using only commands from the previous cell, plot the fit residuals.</p>\n",
    "\n",
    "<br><br><br><br><br>"
   ]
  },
  {
   "cell_type": "markdown",
   "metadata": {},
   "source": [
    "<center><img src=\"img/iminuit.png\" width=\"80%\"></center>"
   ]
  },
  {
   "cell_type": "code",
   "execution_count": 78,
   "metadata": {},
   "outputs": [
    {
     "data": {
      "image/png": "[encoded data removed]",
      "text/plain": [
       "<Figure size 432x288 with 1 Axes>"
      ]
     },
     "metadata": {
      "needs_background": "light"
     },
     "output_type": "display_data"
    }
   ],
   "source": [
    "import iminuit\n",
    "\n",
    "def chi2(a, b, c, d):\n",
    "    return ((y[y > 0] - f(x[y > 0], a, b, c, d))**2 / yerr[y > 0]**2).sum()\n",
    "\n",
    "m = iminuit.Minuit(chi2, errordef=1,\n",
    "                   a=3350, b=91, c=2, d=30,\n",
    "                   error_a=100, error_b=1, error_c=0.1, error_d=10)\n",
    "m.migrad()\n",
    "m.hesse()\n",
    "m.minos()\n",
    "m.draw_mncontour(\"b\", \"c\", nsigma=4);"
   ]
  },
  {
   "cell_type": "markdown",
   "metadata": {},
   "source": [
    "<br><br><br>\n",
    "\n",
    "<center><img src=\"img/scikit-learn-logo.png\" width=\"40%\"></center>\n",
    "\n",
    "<br><br><br>"
   ]
  },
  {
   "cell_type": "markdown",
   "metadata": {},
   "source": [
    "<br><br><br>\n",
    "\n",
    "<p style=\"font-size: 1.25em\">To branch out in a modular way, SciPy introduced the idea of \"SciKits\"—separate packages from SciPy that have a similar interface.</p>\n",
    "\n",
    "<br>\n",
    "\n",
    "<p style=\"font-size: 1.25em\">The most famous of these is Scikit-Learn, a package that gathers all (pre-deep learning) machine learning algorithms under one roof.</p>\n",
    "\n",
    "\n",
    "<br><br><br>"
   ]
  },
  {
   "cell_type": "markdown",
   "metadata": {},
   "source": [
    "<img src=\"img/scikit-learn-estimators.png\" width=\"95%\">"
   ]
  }
 ],
 "metadata": {
  "kernelspec": {
   "display_name": "Python 3",
   "language": "python",
   "name": "python3"
  },
  "language_info": {
   "codemirror_mode": {
    "name": "ipython",
    "version": 3
   },
   "file_extension": ".py",
   "mimetype": "text/x-python",
   "name": "python",
   "nbconvert_exporter": "python",
   "pygments_lexer": "ipython3",
   "version": "3.7.3"
  }
 },
 "nbformat": 4,
 "nbformat_minor": 4
}
